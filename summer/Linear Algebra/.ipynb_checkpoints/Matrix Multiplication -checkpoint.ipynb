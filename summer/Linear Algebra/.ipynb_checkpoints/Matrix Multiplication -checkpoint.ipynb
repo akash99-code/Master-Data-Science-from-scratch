{
 "cells": [
  {
   "cell_type": "markdown",
   "id": "cea4e5de",
   "metadata": {},
   "source": [
    "## Matrix Multiplication views"
   ]
  },
  {
   "cell_type": "markdown",
   "id": "76c62f16",
   "metadata": {},
   "source": [
    "3 ways of viewing matrix multiplication:  \n",
    "* Regular Way - Dot Product\n",
    "* Combinations of Columns\n",
    "* Combinations of Rows"
   ]
  },
  {
   "cell_type": "markdown",
   "id": "9c5094c6",
   "metadata": {},
   "source": [
    "Example:  \n",
    "  \n",
    "$\\hspace{1.3cm}A_{4x3} \\hspace{1.8cm}B_{3x2}\\hspace{0.6cm} =\\hspace{8mm} AB_{4x2}$\n",
    "  \n",
    "$\\begin{bmatrix}2&-1&3\\\\-4&2&-2\\\\4&3&-1\\\\3&1&-3\\end{bmatrix} \\begin{bmatrix}2&-1\\\\-4&2\\\\-3&1\\end{bmatrix}=\\begin{bmatrix}-1&-1\\\\-10&6\\\\-1&1\\\\11&-4\\end{bmatrix}  $  \n",
    "  \n"
   ]
  },
  {
   "cell_type": "markdown",
   "id": "7a8296ba",
   "metadata": {},
   "source": [
    "1. **Regular Way**  \n",
    "  \n",
    "    $A\\cdot B = AB$  \n",
    "$AB_{ij} =$ ($i^{th}$ row vector of $A$) $\\cdot$ ($j^{th}$ column vector of $B$)\n",
    "  \n",
    "    $AB_{32} = \\begin{bmatrix}4&3&-1\\end{bmatrix}\\cdot \\begin{bmatrix}-1\\\\2\\\\1\\end{bmatrix} = 1$"
   ]
  },
  {
   "cell_type": "markdown",
   "id": "59b5981d",
   "metadata": {},
   "source": [
    "2. **Combination of Columns**  \n",
    "  \n",
    "  $j^{th}$ column of $AB$ = Linear Combination of Columns of $A$ using scalars as components of $j^{th}$ column of $B$.  \n",
    "  It is same as column picture of linear system of equations.  \n",
    "    \n",
    "  First column of $AB = \\begin{bmatrix}2\\\\-4\\\\4\\\\3\\end{bmatrix}2 + \\begin{bmatrix}-1\\\\2\\\\3\\\\1\\end{bmatrix}-4 + \\begin{bmatrix}3\\\\-2\\\\-1\\\\-3\\end{bmatrix}-3 = \\begin{bmatrix}-1\\\\-10\\\\-1\\\\-11\\end{bmatrix}$  \n",
    "    \n",
    "  Second column of $AB = \\begin{bmatrix}2\\\\-4\\\\4\\\\3\\end{bmatrix}-1 + \\begin{bmatrix}-1\\\\2\\\\3\\\\1\\end{bmatrix}2 + \\begin{bmatrix}3\\\\-2\\\\-1\\\\-3\\end{bmatrix}1 = \\begin{bmatrix}-1\\\\6\\\\1\\\\-4\\end{bmatrix}$  \n",
    "    \n",
    "    \n",
    "  This view is seen at Post-Multiply A by B.  \n",
    "  When B is not known, we figure out what linear combinations of A columns got us a column in AB."
   ]
  },
  {
   "cell_type": "markdown",
   "id": "393baf31",
   "metadata": {},
   "source": [
    "3. **Combinations of Rows**  \n",
    "  \n",
    "  $i^{th}$ row of $AB$ = Linear Combination of Rows of $B$ using scalars as of $i^{th}$ row components of $A$.  \n",
    "  \n",
    "  First row of $AB = 2\\begin{bmatrix}2&-1\\end{bmatrix} + -1\\begin{bmatrix}2&-1\\end{bmatrix} + 3\\begin{bmatrix}2&-1\\end{bmatrix} \\hspace{1.4cm}= \\begin{bmatrix}-1&-1\\end{bmatrix}$  \n",
    "  Second row of $AB = -4\\begin{bmatrix}2&-1\\end{bmatrix} + 2\\begin{bmatrix}2&-1\\end{bmatrix} + -2\\begin{bmatrix}2&-1\\end{bmatrix} \\hspace{5mm}= \\begin{bmatrix}-1&-1\\end{bmatrix}$  \n",
    "  Third row of $AB = 4\\begin{bmatrix}2&-1\\end{bmatrix} + 3\\begin{bmatrix}2&-1\\end{bmatrix} + -1\\begin{bmatrix}2&-1\\end{bmatrix} \\hspace{1.2cm}= \\begin{bmatrix}-10&6\\end{bmatrix}$  \n",
    "  Fourth row of $AB = 3\\begin{bmatrix}2&-1\\end{bmatrix} + 1\\begin{bmatrix}2&-1\\end{bmatrix} + -3\\begin{bmatrix}2&-1\\end{bmatrix} \\hspace{0.9cm}= \\begin{bmatrix}11&-4\\end{bmatrix}$\n",
    "\n",
    "This view is seen at Pre-Multiply B by A.  \n",
    "When A is not known, we figure out what linear combinations of B rows got us a row in AB."
   ]
  },
  {
   "cell_type": "markdown",
   "id": "f7f24464",
   "metadata": {},
   "source": [
    "### Row Operations \n",
    "Row operations in Elimination phase of linear system of equations can be represented using matrix multiplication.  \n",
    "  \n",
    "Lets take a coefficient Matrix:  \n",
    "$A = \\begin{bmatrix}1&2&-3\\\\2&-1&1\\\\-1&2&-3\\end{bmatrix} $  \n",
    "  \n",
    "Suppose, We want to perform a elementary Row operation:  \n",
    "$R_2 \\leftarrow R_2 - 2R_1$  \n",
    "This operation can be thought as  \n",
    "-> Row 2 of the resultant Matrix = linear combinations of Rows of A  \n",
    "-> $A^{'}_{i=2} = 0\\times A_{i=1} + 1\\times A_{i=2} + (-2)\\times A_{i=3}$  \n",
    "  \n",
    "Therefore, representing the row operation using a Pre-Multiplier, also known as **Elementary Matrix** $E_1$:  \n",
    "  \n",
    "$\\hspace{1.3cm}E_1 \\hspace{2.3cm}A\\hspace{1.5cm} =\\hspace{1.3cm} A^{'}$  \n",
    "  \n",
    "$\\begin{bmatrix}1&0&0\\\\-2&1&0\\\\0&0&1\\end{bmatrix} \\begin{bmatrix}1&2&-3\\\\2&-1&1\\\\-1&2&-3\\end{bmatrix} = \\begin{bmatrix}1&2&-3\\\\0&-5&7\\\\-1&2&-3\\end{bmatrix}$    \n",
    "   \n",
    "      \n",
    "$\\hspace{5mm}$     \n",
    "What about a Row exchange: $R_2 \\leftrightarrow R_3$    \n",
    "\n",
    "$\\hspace{1.3cm}E_2 \\hspace{2.3cm}A\\hspace{1.5cm} =\\hspace{1.3cm} A^{'}$  \n",
    "  \n",
    "$\\begin{bmatrix}1&0&0\\\\0&0&1\\\\0&1&0\\end{bmatrix} \\begin{bmatrix}1&2&-3\\\\2&-1&1\\\\-1&2&-3\\end{bmatrix} = \\begin{bmatrix}1&2&-3\\\\-1&2&-3\\\\2&-1&1\\end{bmatrix}$ \n",
    "   \n",
    "      \n",
    "$\\hspace{5mm}$    \n",
    "  \n",
    "Similarly, all elementary row operations can be viewed as series of matrix multiplication.  \n",
    "$E_3(E_2(E_1 A)) = U$, \n",
    "where U is **upper triangular matrix**."
   ]
  },
  {
   "cell_type": "markdown",
   "id": "a3994463",
   "metadata": {},
   "source": [
    "* Upper Triangular Matrics $U$ - For every row $R_i$ of $U$, entries at column $C_{i-1}, C_{i-2},...,C_{1}$ are zeroes.  \n",
    "* Lower Triangular Matrics $L$ - For every row $R_i$ of $L$, entries at column $C_{i+1}, C_{i+2},...,C_{n}$ are zeroes.  "
   ]
  },
  {
   "cell_type": "markdown",
   "id": "b55ef110",
   "metadata": {},
   "source": [
    "#### Properties of Elementary matrics $E$  \n",
    "\n",
    "* Elementary matrices $E$ for row operations are always **Lower Triangular**.    \n",
    "\n",
    "    Reason - During Elimination,in order to perform a row operation on a Row $R_i$, we use $R_{i-1}, R_{i-2}, ...., R_{1}$ of the coefficient matrics. Therefore, the $R_i$ row of $E$ will have Zeroes in $C_{i+1}, C_{i+2}, ...$ columns.   \n",
    "    \n",
    "    \n",
    "* Product of 2 Elementry matrices is Lower Triangular.  \n",
    "  \n",
    "  Reason - Elementary matrices are lower triangular, and product of lower triangular matrics is lower triangular. At $R_i$, $C_{i+x}$ of $AB$, to have a non-zero entry, requires contribution from  $R_{i+x}$ of $B$. But, at $R_i$, $C_{i+x}$ of $A$ has zero entry.  \n",
    "    \n",
    "      \n",
    "* Inverse of Elementry matrics is Lower Triangular.  \n",
    "  \n",
    "  Reason - To inverse any elementary Row operation, performed on $R_i$, we would still need contributions from $R_{i-1}, R_{i-2}, ...., R_{1}$, which will revert back to previous state. Therefore, Elementary matrics for the verse process requires the $E^-1$ to be also lower triangular matrics.  "
   ]
  }
 ],
 "metadata": {
  "kernelspec": {
   "display_name": "Python 3",
   "language": "python",
   "name": "python3"
  },
  "language_info": {
   "codemirror_mode": {
    "name": "ipython",
    "version": 3
   },
   "file_extension": ".py",
   "mimetype": "text/x-python",
   "name": "python",
   "nbconvert_exporter": "python",
   "pygments_lexer": "ipython3",
   "version": "3.9.0"
  }
 },
 "nbformat": 4,
 "nbformat_minor": 5
}
