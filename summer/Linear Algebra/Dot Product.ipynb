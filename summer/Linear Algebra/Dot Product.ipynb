{
 "cells": [
  {
   "cell_type": "markdown",
   "id": "1577dfd4",
   "metadata": {},
   "source": [
    "## Dot Product"
   ]
  },
  {
   "cell_type": "markdown",
   "id": "027ac00b",
   "metadata": {},
   "source": [
    "* **Magnitude**  \n",
    "Magnitude or Length of a vector $A$ is denoted by $||A||$.  \n",
    "If $A = [a_1\\hspace{1mm} a_2\\hspace{1mm} a_3\\hspace{1mm}...]$,  \n",
    "then $||A|| = \\sqrt{a_1^2+a_2^2+a_3^2+ ...}$  \n",
    "\n",
    "\n",
    "* **Unit Vetor**  \n",
    "Vector with magnitude = 1, is known as unit vector.  \n",
    "Unit Vector of vector $A$, which is a vector in direction of $A$ but of magnitude 1, can be calculated like,  \n",
    "$\\hat{A} = \\frac{A}{||A||}$, i.e. dividing all components of $A$ with its magnitude.  \n",
    "\n",
    "\n",
    "* **Zero Vector**  \n",
    "Vector having magnitude 0 and direction direction undefined, is called Zero Vector $O$.    \n",
    "\n",
    "\n",
    "* **Direction**  \n",
    "Direction of vector is denoted using angle the it makes with axes, denoted by $\\theta$.  \n",
    "If $A = [a_x\\hspace{1mm} a_y]$,\n",
    "then it makes an angle $\\theta = \\tan^{-1}\\frac{a_y}{a_x}$, with the x-axis.  \n",
    "\n",
    "\n",
    "* **Projection**  \n",
    "Projection gives the length of the shadow a vector casts on another vector.  \n",
    "Let vector $A$ makes an angle $\\theta$ with vector $B$. Then, the projection(length of shadow) of $A$ on $B$, (considering $B$ as floor and light source as ceiling), can be calculated as:  \n",
    "$||s|| = ||A|| \\cos(\\theta)$  \n"
   ]
  },
  {
   "cell_type": "markdown",
   "id": "b67d9b35",
   "metadata": {},
   "source": [
    "**Dot Product**  \n",
    "Dot product is a operation, which returns a scalar value when performed between 2 (n-dim)vectors.  \n",
    "Dot Product can be thought of as LCM of length of shadows(projections) that each vector cast on each other.  \n",
    "  \n",
    "Let, $A$ and $B$ be 2 vectors, and angle between them is $\\theta$  \n",
    "Projection of $A$ on $B$ -> $||s_a|| =  ||A|| \\cos(\\theta)$  \n",
    "Projection of $B$ on $A$ -> $||s_b|| =  ||B|| \\cos(\\theta)$  \n",
    "  \n",
    "  \n",
    "Dot Product between $A$ and $B$ can be defined as:   \n",
    "$A \\cdot B = ||A||\\hspace{1mm}||B||\\hspace{1mm} \\cos(\\theta)\\hspace{5mm} $ (LCM of $s_a$ and $s_b$) "
   ]
  },
  {
   "cell_type": "markdown",
   "id": "eaef6a88",
   "metadata": {},
   "source": [
    "**Properties of Dot Product**  \n",
    "* Dot product between a Vector and a Unit vector  \n",
    "$A\\cdot \\hat{u} = ||A||\\cos{\\theta} =$ projection of $A$ on $\\hat{u}~~~$ *(theta is angle bet. A and u)*\n",
    "  \n",
    "  \n",
    "* $\\frac{A \\cdot B}{||B||} = ||A|| \\cos{\\theta} = ||s_a||~~~$ *(theta is angle bet. A and B)*\n",
    "  \n",
    "  \n",
    "* Let $A=[a_x\\hspace{1mm}a_y]$ and $B=[b_x\\hspace{1mm}b_y]$ be 2-dimensional vectors,  \n",
    "Angle between $A$ and x-axis be $\\theta_1$  \n",
    "Angle between $B$ and x-axis be $\\theta_2$  \n",
    "Then, dot product between $A$ and $B$ can be calculated as  \n",
    "$A \\cdot B = ||A||\\hspace{1mm}||B|| \\cos(\\theta_2 -\\theta_1)$  \n",
    "or, $\\hspace{6mm}=||A||\\hspace{1mm}||B|| (\\cos{\\theta_2}\\cos{\\theta_1} + \\sin{\\theta_2}\\sin{\\theta_2})$  \n",
    "or, $\\hspace{6mm}=||A||\\cos{\\theta_1}\\hspace{1mm}||B||\\cos{\\theta_2} + ||A||\\sin{\\theta_1}||B||\\sin{\\theta_2}$  \n",
    "or, $\\hspace{6mm}=a_xb_x + a_yb_y$  \n",
    "  \n",
    "  \n",
    "* $A$ and $B$ be n-dimensional vector  \n",
    "$A\\cdot B = \\sum_{i=1}^n a_ib_i$\n",
    "  \n",
    "\n",
    "* If Vectors $A$ and $B$ are perpendicular to each, i.e. $\\theta=90^{\\circ}$  \n",
    "Then $A\\cdot B = 0$, as $\\cos\\theta = 0.$  \n",
    "  \n",
    "  \n",
    "* $A \\cdot A = ||A||\\hspace{1mm}||A|| \\cos0^{\\circ} = ||A||^2 = a_x^2+a_y^2+..$  \n",
    "  \n",
    "\n",
    "* $A \\cdot O =0~~$*(therfore, Zero vector is perpendicular to any vector)\n",
    "    \n",
    "    \n",
    "* When $\\theta < 90^\\circ$, $A\\cdot B >0$, the vectors lies in same half plane.  \n",
    "* When $\\theta > 90^\\circ$, $A\\cdot B <0$, the vectors lies in different half plane.  \n",
    "* When $\\theta = 90^\\circ$, $A\\perp B$.  \n",
    " \n",
    "\n",
    "* Let, $\\hat{A}$ and $\\hat{B}$ be 2 unit vectors,  \n",
    "$\\hat{A}\\cdot \\hat{B} = \\cos\\theta$  \n",
    "Therefore, $-1 \\leq \\hat{A}\\cdot \\hat{B} \\leq 1$  \n",
    "  \n",
    "\n",
    "* $|\\hat{A}\\cdot \\hat{B}| \\leq 1$  \n",
    "  \n",
    "  \n",
    "* $|A\\cdot B| \\leq ||A||\\hspace{1mm}||B||\\hspace{3mm}$*(Schwarz Inequality)*"
   ]
  }
 ],
 "metadata": {
  "kernelspec": {
   "display_name": "Python 3",
   "language": "python",
   "name": "python3"
  },
  "language_info": {
   "codemirror_mode": {
    "name": "ipython",
    "version": 3
   },
   "file_extension": ".py",
   "mimetype": "text/x-python",
   "name": "python",
   "nbconvert_exporter": "python",
   "pygments_lexer": "ipython3",
   "version": "3.9.0"
  }
 },
 "nbformat": 4,
 "nbformat_minor": 5
}
