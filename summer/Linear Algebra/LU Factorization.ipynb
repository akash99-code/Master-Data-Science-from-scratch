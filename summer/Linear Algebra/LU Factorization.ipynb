{
 "cells": [
  {
   "cell_type": "markdown",
   "id": "a80925b2",
   "metadata": {},
   "source": [
    "## LU Factorization"
   ]
  },
  {
   "cell_type": "markdown",
   "id": "3c9c7368",
   "metadata": {},
   "source": [
    "Let $nxn$ linear system of equations be  \n",
    "$Ax=b$.  \n",
    "\n",
    "\n",
    "After performing all elementary row operation on $A$ we get a Upper Triangular Matrics $U$.  \n",
    "$E_3E_2E_1 A = U$  \n",
    "  \n",
    "Also,  \n",
    "$E_2^{-1}E_2^{-1}E_3^{-1}E_3E_2E_1 A = E_2^{-1}E_2^{-1}E_3^{-1} U$  \n",
    "or, $A = E_2^{-1}E_2^{-1}E_3^{-1} U$  \n",
    "  \n",
    "Since inverse of Elementary matrics is Lower triangular and product of lower triangular is also lower triangular,  \n",
    "we can write $E_2^{-1}E_2^{-1}E_3^{-1}$ as $L$.  \n",
    "  \n",
    "$\\rightarrow A = LU$  \n",
    "$\\therefore$ we can factorize any coefficient matrics into lower triangular matrics $L$ and upper triangular matrics $U$,"
   ]
  },
  {
   "cell_type": "markdown",
   "id": "498a807c",
   "metadata": {},
   "source": [
    "Now, we can rewrite our $nxn$ linear system of equations  \n",
    "$Ax=b$, as  \n",
    "$LUx = b$. We can discard $A$ now."
   ]
  },
  {
   "cell_type": "markdown",
   "id": "02d36338",
   "metadata": {},
   "source": [
    "#### Solving for $x$.  \n",
    "  \n",
    "$LUx = b$  \n",
    "$\\rightarrow Ux=L^{-1}b$  \n",
    "  \n",
    "let,$L^{-1}b = c$  \n",
    "$\\rightarrow b=Lc$  \n",
    "  \n",
    "Therefore, Three steps to solution:\n",
    "1. Factor $A=LU$\n",
    "2. Solve $Lc=b$ < forward substitution > < order $O(n^2)$ >\n",
    "3. Solve $Ux=c$  < backward substitution > < order $O(n^2)$ >"
   ]
  }
 ],
 "metadata": {
  "kernelspec": {
   "display_name": "Python 3",
   "language": "python",
   "name": "python3"
  },
  "language_info": {
   "codemirror_mode": {
    "name": "ipython",
    "version": 3
   },
   "file_extension": ".py",
   "mimetype": "text/x-python",
   "name": "python",
   "nbconvert_exporter": "python",
   "pygments_lexer": "ipython3",
   "version": "3.9.0"
  }
 },
 "nbformat": 4,
 "nbformat_minor": 5
}
