{
 "cells": [
  {
   "cell_type": "markdown",
   "id": "e30d6ae8",
   "metadata": {},
   "source": [
    "## Linear Equations"
   ]
  },
  {
   "cell_type": "markdown",
   "id": "98c31fc9",
   "metadata": {},
   "source": [
    "Lets take a linear system of equations in $R^2$  \n",
    "- $2x + 3y = 8$  \n",
    "- $x + 6y = 13$\n",
    "   \n",
    "   \n",
    "* Each equation represent a line.\n",
    "* The combination of the 2 equations represent a point."
   ]
  },
  {
   "cell_type": "markdown",
   "id": "8c009d43",
   "metadata": {},
   "source": [
    "* In $R^2$  \n",
    "    * 1 Equation represent a Line.\n",
    "    * Need atleast 2  equations to represent a Point.     \n",
    "    \n",
    "\n",
    "* In $R^3$  \n",
    "    * 1 Equation represent a Plane.\n",
    "    * Need atleast 2 equations to represent a Line.\n",
    "    * Need atleast 3 equations to represent a Point."
   ]
  },
  {
   "cell_type": "markdown",
   "id": "bd400ec5",
   "metadata": {},
   "source": [
    "#### Row Picture \n",
    "Row picture is the graphical representation of what a linear system of equations actually represents.  \n",
    "Example-  \n",
    "- $2x + 3y = 8$  \n",
    "- $x + 6y = 13$  \n",
    "\n",
    "Row picture of the above set of equations-  \n",
    "$(2\\hspace{2mm} 3)\\cdot(x\\hspace{2mm} y)=8$  \n",
    "$(1\\hspace{2mm} 6)\\cdot(x\\hspace{2mm} y) = 13$"
   ]
  },
  {
   "cell_type": "markdown",
   "id": "be18fb8c",
   "metadata": {},
   "source": [
    "#### Column Picture  \n",
    "Column Picture is a way of representing linear system of equations using column vectors.  \n",
    "Example-  \n",
    "- $2x + 3y = 8$  \n",
    "- $x + 6y = 13$  \n",
    "  \n",
    "Column picture of the above system of equation-  \n",
    "$\\begin{bmatrix} 2\\\\1 \\end{bmatrix}x + \\begin{bmatrix} 3\\\\6 \\end{bmatrix}y = \\begin{bmatrix} 8\\\\13 \\end{bmatrix}$  \n",
    "  \n",
    "    \n",
    "Above can also be represented using Matrix notation,  \n",
    "$\\begin{bmatrix} 2 & 3\\\\1 & 6 \\end{bmatrix} \\begin{bmatrix} x\\\\y \\end{bmatrix} = \\begin{bmatrix} 8\\\\13 \\end{bmatrix}$"
   ]
  },
  {
   "cell_type": "markdown",
   "id": "2c0bd69d",
   "metadata": {},
   "source": [
    "Set of Equations in $R^3$,  \n",
    "- $x + 3y + 8z = 20$  \n",
    "- $3x + 6y + 5z = 16$\n",
    "- $5x + 15y + 3z = 5$  \n",
    "  \n",
    "  \n",
    "Column picture of th above using Matrix notation  \n",
    "$\\begin{bmatrix} 1 &3&8\\\\3 & 6&5\\\\5&15&3 \\end{bmatrix} \\begin{bmatrix} x\\\\y\\\\z \\end{bmatrix} = \\begin{bmatrix} 20\\\\16\\\\5 \\end{bmatrix}$"
   ]
  },
  {
   "cell_type": "markdown",
   "id": "094f8a4a",
   "metadata": {},
   "source": [
    "Column picture of system of equations in $R^n$  \n",
    "* $A_{e\\times n}~~x_n = b_e$  \n",
    "    \n",
    "    \n",
    "* $A_{e\\times n}$ : coefficient matrix of the system of n-variable linear equations."
   ]
  },
  {
   "cell_type": "markdown",
   "id": "70c935d3",
   "metadata": {},
   "source": [
    "### Solving Linear Equation using column picture   \n",
    "Steps:  \n",
    "* Elimination (forward process) \n",
    "* Substitution (backward process)"
   ]
  },
  {
   "cell_type": "code",
   "execution_count": 20,
   "id": "138bdc3b",
   "metadata": {
    "scrolled": true
   },
   "outputs": [
    {
     "name": "stdout",
     "output_type": "stream",
     "text": [
      "[[  1   3   8]\n",
      " [  0  -3 -19]\n",
      " [  0   0 -37]]\n",
      "[[  1   3   8]\n",
      " [  0  -3 -19]\n",
      " [  0   0 -37]]\n"
     ]
    }
   ],
   "source": [
    "# Algorithm  \n",
    "import numpy as np\n",
    "\n",
    "M= np.array([[1,3,8],[3,6,5],[5,15,3]]) ## example matrix\n",
    "S = np.array([[20],[16],[5]]) ## solution vector\n",
    "##print('column picture - ')\n",
    "##print(M,'*',np.array(['x','y','z']),'=',S)\n",
    "\n",
    "#------Elimination--------\n",
    "for row_n in range(len(M)-1):\n",
    "    pivot = M[row_n][row_n]\n",
    "    row =  M[row_n]\n",
    "    #print(pivot)\n",
    "    for row_e in range(row_n+1,len(M)):\n",
    "        c = M[row_e][row_n]   ## first non-zero elements in a row\n",
    "        M[row_e] = M[row_e] - (c*row/pivot)\n",
    "    print(M)\n"
   ]
  },
  {
   "cell_type": "markdown",
   "id": "c257b63a",
   "metadata": {},
   "source": [
    "### Elimination\n",
    "\n",
    "**Operations in elimination**:\n",
    "* Row operation\n",
    "* Row exchange\n",
    "\n",
    "  \n",
    "**Outcome of elimination**\n",
    "\n",
    "For nxn linear system of equations:\n",
    "* Elimination leads to a upper triangular matrix\n",
    "* Pivots - first non-zero elements in a row of the resulting matrix\n",
    "  \n",
    "  \n",
    "**Possible types of Solution**  \n",
    "* if the resulting matrix has n pivots in the diagonal,  \n",
    "the system of equation is **Non-Singular** and has **Unique solution**.  \n",
    "  \n",
    "    \n",
    "* if the resulting matrix does not have n pivots in the diagonal,\n",
    "the system of equation is **Singular**.\n",
    "    * If the system of equation is inconsitent - **No Solution**.  \n",
    "     Occurs when, the row in ceofficcient matrix which does not have a pivot, the same row in $b$ vector contains non-zero element.\n",
    "    * If the system of equation is consitent - **Infinite number of Solution**.  \n",
    "      Occurs when, the row in ceofficcient matrix which does not have a pivot, the same row in $b$ vector contains zero.  \n",
    "  \n",
    "  \n",
    "Elimination complexity:\n",
    "* row operation - $O(n^2)$\n",
    "* All Floating point operations - $O(n^3)$"
   ]
  },
  {
   "cell_type": "markdown",
   "id": "c0eee4bd",
   "metadata": {},
   "source": [
    "### Substitution"
   ]
  },
  {
   "cell_type": "code",
   "execution_count": null,
   "id": "8bc22954",
   "metadata": {},
   "outputs": [],
   "source": []
  },
  {
   "cell_type": "markdown",
   "id": "d13f0bfd",
   "metadata": {},
   "source": [
    "b"
   ]
  },
  {
   "cell_type": "markdown",
   "id": "fa5f7d6a",
   "metadata": {},
   "source": [
    "## LU Factorization"
   ]
  },
  {
   "cell_type": "markdown",
   "id": "1f9113eb",
   "metadata": {},
   "source": [
    "Let $nxn$ linear system of equations be  \n",
    "$Ax=b$.  \n",
    "\n",
    "\n",
    "After performing all elementary row operation on $A$ we get a Upper Triangular Matrix $U$.  \n",
    "$E_3E_2E_1 A = U$  \n",
    "  \n",
    "Also,  \n",
    "$E_2^{-1}E_2^{-1}E_3^{-1}E_3E_2E_1 A = E_2^{-1}E_2^{-1}E_3^{-1} U$  \n",
    "or, $A = E_2^{-1}E_2^{-1}E_3^{-1} U$  \n",
    "  \n",
    "Since inverse of Elementary matrix is Lower triangular and product of lower triangular is also lower triangular,  \n",
    "we can write $E_2^{-1}E_2^{-1}E_3^{-1}$ as $L$.  \n",
    "  \n",
    "$\\rightarrow A = LU$  \n",
    "$\\therefore$ we can factorize any coefficient matrix into lower triangular matrix $L$ and upper triangular matrix $U$,"
   ]
  },
  {
   "cell_type": "markdown",
   "id": "bdeac16e",
   "metadata": {},
   "source": [
    "Now, we can rewrite our $nxn$ linear system of equations  \n",
    "$Ax=b$, as  \n",
    "$LUx = b$. We can discard $A$ now."
   ]
  },
  {
   "cell_type": "markdown",
   "id": "c8fc3011",
   "metadata": {},
   "source": [
    "#### Solving for $x$.  \n",
    "  \n",
    "$LUx = b$  \n",
    "$\\rightarrow Ux=L^{-1}b$  \n",
    "  \n",
    "let,$L^{-1}b = c$  \n",
    "$\\rightarrow b=Lc$  \n",
    "  \n",
    "Therefore, Three steps to solution:\n",
    "1. Factor $A=LU$\n",
    "2. Solve $Lc=b$ < forward substitution > < order $O(n^2)$ >\n",
    "3. Solve $Ux=c$  < backward substitution > < order $O(n^2)$ >"
   ]
  },
  {
   "cell_type": "markdown",
   "id": "689f9c61",
   "metadata": {},
   "source": [
    "We want to make the diagonal elements of $U$ 1.  \n",
    "So, we perform $R_i \\leftarrow p_i$ row operatons on all row, $p_i$ denotes the diagonal element in row $i$.  \n",
    "    \n",
    "Then, $U$ can be also written as  \n",
    "$U = DU^{'}$  \n",
    "$D$ contains pivots on its diagonal and zeroes elsewhere.  \n",
    "  \n",
    "Therefore, now  \n",
    "$A=LDU^{'}$\n"
   ]
  },
  {
   "cell_type": "markdown",
   "id": "5c3aa0fd",
   "metadata": {},
   "source": [
    "    Solving system of equations using LU factorization does not work always. It fails when there is a row exchange operation in elimination phase."
   ]
  },
  {
   "cell_type": "markdown",
   "id": "2add2826",
   "metadata": {},
   "source": [
    "#### Permutation matrix $P$ \n",
    "Permutation matrix $P$ is obtained by performing any number of row exchanges among the rows of an Identity matrix $I$.  \n",
    "  \n",
    "Some properties of $P$:  \n",
    "* $P$ has same rows as $I$.\n",
    "* Product of any permutation matrix $P_1$ and $P_2$ is also a permutation matrix $P_3$.\n",
    "* $P^{-1} = P^T$  \n",
    "* Using a $nxn$ matrix, we can obtain $n!$ number of Premutation matrix.\n",
    "  \n",
    "Permutation matrix can represent row exchange operation.  \n",
    "So, when a permutation matrix used as elementary matrix and premultiplied to $A$, results in row exchnage of $A$.\n",
    "  \n",
    "Therefore, coefficient matrix $A$ can be seen as  \n",
    "$LDU^{'}=PA$"
   ]
  }
 ],
 "metadata": {
  "kernelspec": {
   "display_name": "Python 3",
   "language": "python",
   "name": "python3"
  },
  "language_info": {
   "codemirror_mode": {
    "name": "ipython",
    "version": 3
   },
   "file_extension": ".py",
   "mimetype": "text/x-python",
   "name": "python",
   "nbconvert_exporter": "python",
   "pygments_lexer": "ipython3",
   "version": "3.9.0"
  }
 },
 "nbformat": 4,
 "nbformat_minor": 5
}
