{
 "cells": [
  {
   "cell_type": "markdown",
   "id": "3fd47282",
   "metadata": {},
   "source": [
    "## Classical Optimization Techniques  \n",
    "    Optimizing Unconstrained Functions\n",
    "------------------"
   ]
  },
  {
   "cell_type": "markdown",
   "id": "87878ec8",
   "metadata": {},
   "source": [
    "### Newton Raphson Method"
   ]
  },
  {
   "cell_type": "markdown",
   "id": "0769ac83",
   "metadata": {},
   "source": [
    "The Newton-Raphson method is a quick iterative method find a good approximation for the root of a unconstrained real-valued function. It uses the idea that a continuous and differentiable function can be approximated by a straight line tangent to it."
   ]
  },
  {
   "cell_type": "markdown",
   "id": "65eb83fd",
   "metadata": {},
   "source": [
    "Roots of a Function are $x$ values for which $f(x)$ yields 0. \n",
    "  \n",
    "NR steps $f(x)$, having derivative $f^{'}(x)$-  \n",
    "1. Initialize $x_0$ such that $f^{'}(x_0) \\neq 0$  \n",
    "  \n",
    "  \n",
    "2. At $k^{th}$ iteration:\n",
    "    * Evalute $x_{k+1} = x_{k} - \\frac{f(x_k}{f^{'}(x_k)}\\hspace{1.2cm}[f^{'}(x_k)\\neq0]$\n",
    "    * If $x_{k+1} - x_k \\approx 0$, stop the iteration. \n",
    "    * Else, re-initialize $x_k = x_{k+1}$  \n",
    "      \n",
    "      \n",
    "3. After end of $k$ iteration, we  find $x_k$ is one root of $f(x)$."
   ]
  },
  {
   "cell_type": "markdown",
   "id": "5dcd4683",
   "metadata": {},
   "source": [
    "Lets, apply this algorithm find a root of function  \n",
    "$f(x) =x^3-9x^2 +27x-27$, \n",
    "for which $f{'}(x) =3x^2-18x +27$"
   ]
  },
  {
   "cell_type": "code",
   "execution_count": 4,
   "id": "8e70e5d8",
   "metadata": {},
   "outputs": [],
   "source": [
    "# example function\n",
    "fx = lambda x: x**3 - 9*x**2 + 27*x - 27\n",
    "dfx = lambda x: 3*x**2 - 18*x + 27"
   ]
  },
  {
   "cell_type": "code",
   "execution_count": 5,
   "id": "98f692f2",
   "metadata": {},
   "outputs": [
    {
     "data": {
      "text/plain": [
       "[<matplotlib.lines.Line2D at 0x200a03504c0>]"
      ]
     },
     "execution_count": 5,
     "metadata": {},
     "output_type": "execute_result"
    },
    {
     "data": {
      "image/png": "[encoded data removed]",
      "text/plain": [
       "<Figure size 432x288 with 1 Axes>"
      ]
     },
     "metadata": {
      "needs_background": "light"
     },
     "output_type": "display_data"
    }
   ],
   "source": [
    "import matplotlib.pyplot as plt\n",
    "import numpy as np\n",
    "\n",
    "plt.title('f(x)')\n",
    "plt.xlabel('x')\n",
    "plt.ylabel('y')\n",
    "x=np.linspace(0,6)\n",
    "y=np.vectorize(fx)(x)\n",
    "plt.plot(x,y)"
   ]
  },
  {
   "cell_type": "markdown",
   "id": "fd0ae3b1",
   "metadata": {},
   "source": [
    "Let start by initializing $x_0 = 5.5$  \n",
    "At, 1st iteration  \n",
    "$x_1 = x_0 - \\frac{f(x_0)}{f^{'}(x_0)}$  \n",
    "$\\hspace{5mm} = 5.5 - \\frac{15.625}{18.75}$  \n",
    "$\\hspace{5mm}= 4.666$"
   ]
  },
  {
   "cell_type": "code",
   "execution_count": 50,
   "id": "827b82f9",
   "metadata": {},
   "outputs": [
    {
     "data": {
      "image/png": "[encoded data removed]",
      "text/plain": [
       "<Figure size 432x288 with 1 Axes>"
      ]
     },
     "metadata": {
      "needs_background": "light"
     },
     "output_type": "display_data"
    }
   ],
   "source": [
    "plt.title('f(x)')\n",
    "plt.xlabel('x')\n",
    "plt.ylabel('y')\n",
    "\n",
    "x=np.linspace(0,6)\n",
    "y=np.vectorize(fx)(x)\n",
    "plt.plot(x,y)\n",
    "\n",
    "x_0=5.5\n",
    "x_1=x_0 - fx(x_0)/dfx(x_0)\n",
    "\n",
    "plt.plot(x_0,fx(x_0),color='b',marker='.')\n",
    "plt.text(x_0-0.4,fx(x_0), 'x_0')\n",
    "plt.plot(x_1,fx(x_1),color='b',marker='.')\n",
    "plt.text(x_1-0.4,fx(x_1)+1, 'x_1')\n",
    "\n",
    "xs =np.linspace(4,6.5)\n",
    "plt.axhline(0, color='gray', linestyle='--')\n",
    "ys = dfx(x_0)*xs - dfx(x_0)*x_1\n",
    "plt.plot(xs,ys, linestyle=':')\n",
    "\n",
    "plt.plot((x_0,x_0),(0,fx(x_0)),color='gray', linestyle=':', label='x_0=5.5')\n",
    "plt.plot((x_1,x_1),(0,fx(x_1)),color='gray', linestyle=':', label='x_1=4.6')\n",
    "plt.text(x_1+0.2,1.5, 'df(x)',size='x-small')\n",
    "plt.legend()\n",
    "plt.show()"
   ]
  },
  {
   "cell_type": "markdown",
   "id": "96622ff1",
   "metadata": {},
   "source": [
    "Lets find out how many iterations it takes to get the root of the function.."
   ]
  },
  {
   "cell_type": "code",
   "execution_count": 51,
   "id": "604b1e32",
   "metadata": {},
   "outputs": [],
   "source": [
    "def NR(x_0, fx, dfx):\n",
    "    \n",
    "    x_1=x_0 - fx(x_0)/dfx(x_0)\n",
    "    \n",
    "    x=np.linspace(0,6)\n",
    "    y=np.vectorize(fx)(x)\n",
    "    plt.title('Finding Root of f(x) using Newton-Raphson Method')\n",
    "    plt.xlabel('x')\n",
    "    plt.ylabel('y')\n",
    "    plt.plot(x,y)\n",
    "    \n",
    "    i=0\n",
    "    while(abs(x_1-x_0)>0.01):\n",
    "        plt.plot(x_0,fx(x_0),color='b',marker='.')\n",
    "        x_0=x_1\n",
    "        x_1=x_0 - fx(x_0)/dfx(x_0)\n",
    "        i+=1\n",
    "        \n",
    "    plt.plot(x_1,fx(x_1),color='r',marker='.')\n",
    "    \n",
    "    print(f'No. of Iterations - {i}.')\n",
    "    print(f'Root of f(x) - {x_1:0.3f}.')"
   ]
  },
  {
   "cell_type": "code",
   "execution_count": 52,
   "id": "55a68bb9",
   "metadata": {},
   "outputs": [
    {
     "name": "stdout",
     "output_type": "stream",
     "text": [
      "No. of Iterations - 11.\n",
      "Root of f(x) - 3.019.\n"
     ]
    },
    {
     "data": {
      "image/png": "[encoded data removed]",
      "text/plain": [
       "<Figure size 432x288 with 1 Axes>"
      ]
     },
     "metadata": {
      "needs_background": "light"
     },
     "output_type": "display_data"
    }
   ],
   "source": [
    "NR(5.5,fx,dfx)"
   ]
  },
  {
   "cell_type": "markdown",
   "id": "9c028d77",
   "metadata": {},
   "source": [
    "Newton Raphson method can be used to find the stationary points of any function.  \n",
    "For that we need to apply the technique to find the roots of $f{'}(x)=0$, which are nothing but stationary points of $f(x)$."
   ]
  },
  {
   "cell_type": "code",
   "execution_count": null,
   "id": "6f2ee27b",
   "metadata": {},
   "outputs": [],
   "source": []
  }
 ],
 "metadata": {
  "kernelspec": {
   "display_name": "Python 3",
   "language": "python",
   "name": "python3"
  },
  "language_info": {
   "codemirror_mode": {
    "name": "ipython",
    "version": 3
   },
   "file_extension": ".py",
   "mimetype": "text/x-python",
   "name": "python",
   "nbconvert_exporter": "python",
   "pygments_lexer": "ipython3",
   "version": "3.9.0"
  }
 },
 "nbformat": 4,
 "nbformat_minor": 5
}
