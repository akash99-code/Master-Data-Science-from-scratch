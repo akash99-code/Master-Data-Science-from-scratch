{
 "cells": [
  {
   "cell_type": "markdown",
   "id": "efead0a5",
   "metadata": {},
   "source": [
    "## Calculas Concept Review"
   ]
  },
  {
   "cell_type": "markdown",
   "id": "7c59844c",
   "metadata": {},
   "source": [
    "#### Mean Value Theorem\n",
    "\n",
    " if $f$ is a continuous function on the closed interval $[a,b]$ and differentiable on the open interval $(a,b)$, then there exists a point $c$ in $(a,b)$ such that the tangent at $c$ is parallel to the secant line through the endpoints $(a,f(a))$and $(b,f(b))$ that is,  \n",
    " \n",
    " $f{'}(c) = \\frac{f(b) -f(a)}{b-a}$"
   ]
  },
  {
   "cell_type": "markdown",
   "id": "0fadf71a",
   "metadata": {},
   "source": [
    "#### Critical Points"
   ]
  },
  {
   "cell_type": "markdown",
   "id": "82a8abd7",
   "metadata": {},
   "source": [
    "Lets take a function $f(x)$,diffrentiable at $x_i$  \n",
    "Suppose, for $x$ values - $x_1, x_2, x_3,...$ , $\\frac{d}{dx} f(x)|_{x_i} =0,\\hspace{2.5cm}$*neccessary condition for stationary points*  \n",
    "Then, $x_1, x_2, x_3,..$ are known as **critical points**."
   ]
  },
  {
   "cell_type": "markdown",
   "id": "167cf709",
   "metadata": {},
   "source": [
    "Suppose we try to find out smallest($n^{th}$) derivative of the function at $x_i$,   \n",
    "Such that, $\\frac{d^n}{dx} f(x) |_{x=x_i} \\neq 0 $  \n",
    "  \n",
    "Then,\n",
    "Lets consider $\\frac{d^n}{dx} f(x)|_{x=x_i} = c$ (some constant)$\\hspace{5mm}[c\\neq0]$,  \n",
    "* If n is even, then $x_i$ is a **Local Extremum**.$\\hspace{2.5cm}$*sufficient condition for extremum*\n",
    "    * if $c<0$, then $x_i$ is local *maximum*.\n",
    "    * if $c>0$, then $x_i$ is local *minimum*.\n",
    "* If n is odd, then $x_i$ is an **Inflextion Point**."
   ]
  },
  {
   "cell_type": "markdown",
   "id": "500148a9",
   "metadata": {},
   "source": [
    "**Critical points of Multivariate functions**  \n",
    "\n",
    "Lets take a continuously differentiable function $f(X)=f(x_1,x_2,x_3,...)$  \n",
    "Neccessary condition for a point $X^*=(x_{1a},x_{2a},x_{3a},...)$, in $f(X)$, be a critical point is~  \n",
    "\n",
    "$\\nabla f(X) = 0$  \n",
    "or, $\\frac{\\delta f(X)}{\\delta x_i}|_{X=X^*} =0 ~~~$[$i$ = 1,2,3..][$\\delta$ - partial differential]  \n",
    "  \n",
    "    \n",
    "Construct **Hessian Matrix** of multivariate function    \n",
    "Hessian Matrix of above function$f(X)$ -  \n",
    "$H(X) = \n",
    "\\begin{bmatrix}\n",
    "\\frac{\\delta^2 f(X)}{\\delta x_1^2} & \\frac{\\delta^2 f(X)}{\\delta x_1 x_2} &....& \\frac{\\delta^2 f(X)}{\\delta x_1 x_n}\\\\\n",
    "\\frac{\\delta^2 f(X)}{\\delta x_2 x_1} & \\frac{\\delta^2 f(X)}{\\delta x_2^2} &....& \\frac{\\delta^2 f(X)}{\\delta x_2 x_n}\\\\\n",
    ". & . &....& .\\\\\n",
    ". & . &....& .\\\\\n",
    ". & . &....& .\\\\\n",
    "\\frac{\\delta^2 f(X)}{\\delta x_n x_1} & \\frac{\\delta^2 f(X)}{\\delta x_n x_2} &....& \\frac{\\delta^2 f(X)}{\\delta x_n^2}\\\\\n",
    "\\end{bmatrix}$  \n",
    "H(X) is going to be symmetric.  \n",
    "* if $H(X^*)$ has positive definite(all eigen values are +ve) ,then $f(X)$ at $X*$ is local minimum.\n",
    "* if $H(X^*)$ has negative definite(all eigen values are +ve) ,then $f(X)$ at $X*$ is local maximum.\n",
    "* else $f(X)$ at $X*$ is inflexion or saddle point."
   ]
  },
  {
   "cell_type": "markdown",
   "id": "adcdd99d",
   "metadata": {},
   "source": [
    "#### Taylors Theorem"
   ]
  },
  {
   "cell_type": "markdown",
   "id": "d0f20397",
   "metadata": {},
   "source": [
    "From Mean Value Theorem,  \n",
    " $\\frac{f(x+h) -f(x)}{h} = f{'}(c),\\hspace{2mm}c\\in (x, x+h)$\n"
   ]
  },
  {
   "cell_type": "code",
   "execution_count": null,
   "id": "c3bfdbd0",
   "metadata": {},
   "outputs": [],
   "source": []
  },
  {
   "cell_type": "code",
   "execution_count": null,
   "id": "1745188e",
   "metadata": {},
   "outputs": [],
   "source": []
  },
  {
   "cell_type": "code",
   "execution_count": null,
   "id": "7a8cff31",
   "metadata": {},
   "outputs": [],
   "source": []
  },
  {
   "cell_type": "code",
   "execution_count": null,
   "id": "1c3afe2e",
   "metadata": {},
   "outputs": [],
   "source": []
  },
  {
   "cell_type": "code",
   "execution_count": null,
   "id": "c3e2c1e5",
   "metadata": {},
   "outputs": [],
   "source": []
  },
  {
   "cell_type": "code",
   "execution_count": null,
   "id": "b4d55d47",
   "metadata": {},
   "outputs": [],
   "source": []
  }
 ],
 "metadata": {
  "kernelspec": {
   "display_name": "Python 3",
   "language": "python",
   "name": "python3"
  },
  "language_info": {
   "codemirror_mode": {
    "name": "ipython",
    "version": 3
   },
   "file_extension": ".py",
   "mimetype": "text/x-python",
   "name": "python",
   "nbconvert_exporter": "python",
   "pygments_lexer": "ipython3",
   "version": "3.9.0"
  }
 },
 "nbformat": 4,
 "nbformat_minor": 5
}
