{
 "cells": [
  {
   "cell_type": "markdown",
   "id": "efead0a5",
   "metadata": {},
   "source": [
    "## Calculas Concept Review"
   ]
  },
  {
   "cell_type": "markdown",
   "id": "0fadf71a",
   "metadata": {},
   "source": [
    "#### Critical Points"
   ]
  },
  {
   "cell_type": "markdown",
   "id": "82a8abd7",
   "metadata": {},
   "source": [
    "Lets take a function $f(x)$,diffrentiable at $x_i$  \n",
    "Suppose, for $x$ values - $x_1, x_2, x_3,...$ , $\\frac{d}{dx} f(x)|_{x_i} =0$,  \n",
    "Then, $x_1, x_2, x_3,..$ are known as **critical points**."
   ]
  },
  {
   "cell_type": "markdown",
   "id": "167cf709",
   "metadata": {},
   "source": [
    "Suppose we try to find out smallest($n^{th}$) derivative of the function at $x_i$,   \n",
    "Such that, $\\frac{d^n}{dx} f(x) |_{x=x_i} \\neq 0 $  \n",
    "  \n",
    "Then,\n",
    "Lets consider $\\frac{d^n}{dx} f(x)|_{x=x_i} = c$ (some constant)$\\hspace{5mm}[c\\neq0]$,  \n",
    "* If n is even, then $x_i$ is a **Local Extremum**.\n",
    "    * if $c<0$, then $x_i$ is local *maximum*.\n",
    "    * if $c>0$, then $x_i$ is local *minimum*.\n",
    "* If n is odd, then $x_i$ is an **Inflextion Point**."
   ]
  },
  {
   "cell_type": "markdown",
   "id": "adcdd99d",
   "metadata": {},
   "source": [
    "#### Taylors Theorem"
   ]
  },
  {
   "cell_type": "code",
   "execution_count": null,
   "id": "986fa3f3",
   "metadata": {},
   "outputs": [],
   "source": []
  },
  {
   "cell_type": "code",
   "execution_count": null,
   "id": "c3bfdbd0",
   "metadata": {},
   "outputs": [],
   "source": []
  },
  {
   "cell_type": "code",
   "execution_count": null,
   "id": "1745188e",
   "metadata": {},
   "outputs": [],
   "source": []
  },
  {
   "cell_type": "code",
   "execution_count": null,
   "id": "7a8cff31",
   "metadata": {},
   "outputs": [],
   "source": []
  },
  {
   "cell_type": "code",
   "execution_count": null,
   "id": "1c3afe2e",
   "metadata": {},
   "outputs": [],
   "source": []
  },
  {
   "cell_type": "code",
   "execution_count": null,
   "id": "c3e2c1e5",
   "metadata": {},
   "outputs": [],
   "source": []
  },
  {
   "cell_type": "code",
   "execution_count": null,
   "id": "b4d55d47",
   "metadata": {},
   "outputs": [],
   "source": []
  }
 ],
 "metadata": {
  "kernelspec": {
   "display_name": "Python 3",
   "language": "python",
   "name": "python3"
  },
  "language_info": {
   "codemirror_mode": {
    "name": "ipython",
    "version": 3
   },
   "file_extension": ".py",
   "mimetype": "text/x-python",
   "name": "python",
   "nbconvert_exporter": "python",
   "pygments_lexer": "ipython3",
   "version": "3.9.0"
  }
 },
 "nbformat": 4,
 "nbformat_minor": 5
}
