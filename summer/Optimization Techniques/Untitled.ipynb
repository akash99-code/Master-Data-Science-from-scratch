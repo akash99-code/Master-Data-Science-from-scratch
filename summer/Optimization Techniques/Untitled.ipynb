{
 "cells": [
  {
   "cell_type": "markdown",
   "id": "b73bbc99",
   "metadata": {},
   "source": [
    "### Convex Functions"
   ]
  },
  {
   "cell_type": "markdown",
   "id": "bb8ffe12",
   "metadata": {},
   "source": [
    "A real-valued function is called **Convex** if the line segment between any two points on the graph of the function lies above the graph between the two points."
   ]
  },
  {
   "cell_type": "markdown",
   "id": "d9e24aa9",
   "metadata": {},
   "source": [
    "A function $f: S \\subseteq R^n \\rightarrow R$  \n",
    "is said to be a **Convex function** if  \n",
    "$\\implies f(\\alpha X_1 + (1-\\alpha)X_2) \\leq \\alpha f(X_1) + (1-\\alpha)f(X_2)$, where $X_1, X_2 \\subseteq S$"
   ]
  },
  {
   "cell_type": "markdown",
   "id": "5dcd5773",
   "metadata": {},
   "source": [
    "Methods for determining the Convexity of a **single-variable function**:,   \n",
    "  \n",
    "1. Given $f$ is differentiable,  \n",
    "if $f(x_1) + (x_2-x_1)f{'}(x_1) \\leq f(x_2),\\hspace{3mm} \\forall x_1,x_2 \\in S\\subseteq R$  \n",
    "then, $f$ is a Convex function.  \n",
    "  \n",
    "      \n",
    "2. Given $f$ is twice diffrentiable,  \n",
    "if $f{''}(x) \\leq 0$  \n",
    "then, $f$ is a Convex function."
   ]
  },
  {
   "cell_type": "markdown",
   "id": "653136e6",
   "metadata": {},
   "source": [
    "Methods for determining the Convexity of a **multi-variable function**:,   \n",
    "  \n",
    "1. Given $f$ is continuously differentiable,  \n",
    "if $f(X) + (Y-X)\\nabla f(X) \\leq f(Y),\\hspace{3mm} \\forall X,Y \\in S\\subseteq R^n$  \n",
    "then, $f$ is a Convex function.  \n",
    "  \n",
    "      \n",
    "2. Given $f$ is twice continuosly diffrentiable,  \n",
    "if $H(X)$ is Positive Definite  \n",
    "then, $f$ is a Convex function."
   ]
  }
 ],
 "metadata": {
  "kernelspec": {
   "display_name": "Python 3",
   "language": "python",
   "name": "python3"
  },
  "language_info": {
   "codemirror_mode": {
    "name": "ipython",
    "version": 3
   },
   "file_extension": ".py",
   "mimetype": "text/x-python",
   "name": "python",
   "nbconvert_exporter": "python",
   "pygments_lexer": "ipython3",
   "version": "3.9.0"
  }
 },
 "nbformat": 4,
 "nbformat_minor": 5
}
