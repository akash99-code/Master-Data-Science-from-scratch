{
 "cells": [
  {
   "cell_type": "markdown",
   "id": "605cd6e1",
   "metadata": {},
   "source": [
    "## Direct search method"
   ]
  },
  {
   "cell_type": "code",
   "execution_count": 4,
   "id": "39f07216",
   "metadata": {},
   "outputs": [],
   "source": [
    "import math"
   ]
  },
  {
   "cell_type": "code",
   "execution_count": 3,
   "id": "6b884b62",
   "metadata": {},
   "outputs": [],
   "source": [
    "# dicotomy method\n",
    "def dico(x_l,x_r,delta):\n",
    "    x1 =(x_l+x_r-delta)/2\n",
    "    x2 =(x_l+x_r+delta)/2\n",
    "    return (x1,x2)"
   ]
  },
  {
   "cell_type": "code",
   "execution_count": 13,
   "id": "60f6cec5",
   "metadata": {},
   "outputs": [],
   "source": [
    "#golden section method\n",
    "def gsm(x_l,x_r,delta):\n",
    "    x1 =x_r - ((math.sqrt(5)-1)*(x_r-x_l)/2)\n",
    "    x2 =x_l + ((math.sqrt(5)-1)*(x_r-x_l)/2)\n",
    "    return (x1,x2)"
   ]
  },
  {
   "cell_type": "code",
   "execution_count": 6,
   "id": "44140f1a",
   "metadata": {},
   "outputs": [],
   "source": [
    "# sample function\n",
    "def fx(x):\n",
    "    if(0<=x and x<=2):\n",
    "        return 3*x\n",
    "    elif(2<=x and x<=3):\n",
    "        return (20-x)/3\n",
    "    else:\n",
    "        return None"
   ]
  },
  {
   "cell_type": "code",
   "execution_count": 30,
   "id": "14b5d76c",
   "metadata": {},
   "outputs": [],
   "source": [
    "#maximizer\n",
    "def maxim(func,x_l,x_r,method='gsm'):\n",
    "    met=gsm\n",
    "    if(method=='dico'):\n",
    "        met=dico\n",
    "    i=0\n",
    "    while(x_l<x_r):\n",
    "        print(f'iteration{i}- ({x_l:5f},{x_r:5f})')\n",
    "        i+=1\n",
    "        x1,x2 = met(x_l,x_r,0.1)\n",
    "        if(func(x1)>func(x2)):\n",
    "            x_r=x2\n",
    "        elif(func(x1)<func(x2)):\n",
    "            x_l=x1\n",
    "        else:\n",
    "            x_l=x1\n",
    "            x_r=x2"
   ]
  },
  {
   "cell_type": "code",
   "execution_count": 31,
   "id": "01301b09",
   "metadata": {},
   "outputs": [
    {
     "name": "stdout",
     "output_type": "stream",
     "text": [
      "iteration0- (0.000000,3.000000)\n",
      "iteration1- (1.145898,3.000000)\n",
      "iteration2- (1.854102,3.000000)\n",
      "iteration3- (1.854102,2.562306)\n",
      "iteration4- (1.854102,2.291796)\n",
      "iteration5- (1.854102,2.124612)\n",
      "iteration6- (1.957428,2.124612)\n",
      "iteration7- (1.957428,2.060753)\n",
      "iteration8- (1.996894,2.060753)\n",
      "iteration9- (1.996894,2.036361)\n",
      "iteration10- (1.996894,2.021286)\n",
      "iteration11- (1.996894,2.011969)\n",
      "iteration12- (1.996894,2.006211)\n",
      "iteration13- (1.996894,2.002653)\n",
      "iteration14- (1.999094,2.002653)\n",
      "iteration15- (1.999094,2.001293)\n",
      "iteration16- (1.999934,2.001293)\n",
      "iteration17- (1.999934,2.000774)\n",
      "iteration18- (1.999934,2.000453)\n",
      "iteration19- (1.999934,2.000255)\n",
      "iteration20- (1.999934,2.000132)\n",
      "iteration21- (1.999934,2.000056)\n",
      "iteration22- (1.999981,2.000056)\n",
      "iteration23- (1.999981,2.000028)\n",
      "iteration24- (1.999999,2.000028)\n",
      "iteration25- (1.999999,2.000016)\n",
      "iteration26- (1.999999,2.000010)\n",
      "iteration27- (1.999999,2.000005)\n",
      "iteration28- (1.999999,2.000003)\n",
      "iteration29- (1.999999,2.000001)\n",
      "iteration30- (2.000000,2.000001)\n",
      "iteration31- (2.000000,2.000001)\n",
      "iteration32- (2.000000,2.000001)\n",
      "iteration33- (2.000000,2.000000)\n",
      "iteration34- (2.000000,2.000000)\n",
      "iteration35- (2.000000,2.000000)\n",
      "iteration36- (2.000000,2.000000)\n",
      "iteration37- (2.000000,2.000000)\n",
      "iteration38- (2.000000,2.000000)\n",
      "iteration39- (2.000000,2.000000)\n",
      "iteration40- (2.000000,2.000000)\n",
      "iteration41- (2.000000,2.000000)\n",
      "iteration42- (2.000000,2.000000)\n",
      "iteration43- (2.000000,2.000000)\n",
      "iteration44- (2.000000,2.000000)\n",
      "iteration45- (2.000000,2.000000)\n",
      "iteration46- (2.000000,2.000000)\n",
      "iteration47- (2.000000,2.000000)\n",
      "iteration48- (2.000000,2.000000)\n",
      "iteration49- (2.000000,2.000000)\n",
      "iteration50- (2.000000,2.000000)\n",
      "iteration51- (2.000000,2.000000)\n",
      "iteration52- (2.000000,2.000000)\n",
      "iteration53- (2.000000,2.000000)\n",
      "iteration54- (2.000000,2.000000)\n",
      "iteration55- (2.000000,2.000000)\n",
      "iteration56- (2.000000,2.000000)\n",
      "iteration57- (2.000000,2.000000)\n",
      "iteration58- (2.000000,2.000000)\n",
      "iteration59- (2.000000,2.000000)\n",
      "iteration60- (2.000000,2.000000)\n",
      "iteration61- (2.000000,2.000000)\n",
      "iteration62- (2.000000,2.000000)\n",
      "iteration63- (2.000000,2.000000)\n",
      "iteration64- (2.000000,2.000000)\n",
      "iteration65- (2.000000,2.000000)\n",
      "iteration66- (2.000000,2.000000)\n",
      "iteration67- (2.000000,2.000000)\n",
      "iteration68- (2.000000,2.000000)\n",
      "iteration69- (2.000000,2.000000)\n",
      "iteration70- (2.000000,2.000000)\n",
      "iteration71- (2.000000,2.000000)\n",
      "iteration72- (2.000000,2.000000)\n"
     ]
    }
   ],
   "source": [
    "maxim(fx,0,3)"
   ]
  },
  {
   "cell_type": "code",
   "execution_count": 17,
   "id": "d7240c95",
   "metadata": {},
   "outputs": [
    {
     "name": "stdout",
     "output_type": "stream",
     "text": [
      "iteration0- (0,3)\n",
      "iteration1- (1.1458980337503153,3)\n",
      "iteration2- (1.8541019662496843,3)\n",
      "iteration3- (1.8541019662496843,2.5623058987490537)\n",
      "iteration4- (1.8541019662496843,2.291796067500631)\n",
      "iteration5- (1.8541019662496843,2.1246117974981074)\n",
      "iteration6- (1.9574275274955835,2.1246117974981074)\n",
      "iteration7- (1.9574275274955835,2.0607530887414827)\n",
      "iteration8- (1.996894379984858,2.0607530887414827)\n",
      "iteration9- (1.996894379984858,2.0363612324741327)\n",
      "iteration10- (1.996894379984858,2.021286236252208)\n",
      "iteration11- (1.996894379984858,2.0119693762067823)\n",
      "iteration12- (1.996894379984858,2.0062112400302836)\n",
      "iteration13- (1.996894379984858,2.002652516161357)\n",
      "iteration14- (1.9990937922924303,2.002652516161357)\n",
      "iteration15- (1.9990937922924303,2.0012932046000027)\n",
      "iteration16- (1.999933893038648,2.0012932046000027)\n",
      "iteration17- (1.999933893038648,2.000773993784866)\n",
      "iteration18- (1.999933893038648,2.000453103853785)\n",
      "iteration19- (1.999933893038648,2.000254782969729)\n",
      "iteration20- (1.999933893038648,2.000132213922704)\n",
      "iteration21- (1.999933893038648,2.0000564620856736)\n",
      "iteration22- (1.999980710248643,2.0000564620856736)\n",
      "iteration23- (1.999980710248643,2.0000275274586383)\n",
      "iteration24- (1.9999985928316029,2.0000275274586383)\n",
      "iteration25- (1.9999985928316029,2.0000164754145624)\n",
      "iteration26- (1.9999985928316029,2.0000096448756786)\n",
      "iteration27- (1.9999985928316029,2.000005423370487)\n",
      "iteration28- (1.9999985928316029,2.0000028143367947)\n",
      "iteration29- (1.9999985928316029,2.0000012018652953)\n",
      "iteration30- (1.9999995893937956,2.0000012018652953)\n",
      "iteration31- (1.9999995893937956,2.000000585955988)\n",
      "iteration32- (1.9999999700466813,2.000000585955988)\n",
      "iteration33- (1.9999999700466813,2.0000003506995667)\n",
      "iteration34- (1.9999999700466813,2.0000002053031025)\n",
      "iteration35- (1.9999999700466813,2.0000001154431457)\n",
      "iteration36- (1.9999999700466813,2.0000000599066383)\n",
      "iteration37- (1.9999999700466813,2.000000025583189)\n",
      "iteration38- (1.9999999912597395,2.000000025583189)\n",
      "iteration39- (1.9999999912597395,2.000000012472798)\n",
      "iteration40- (1.9999999993624067,2.000000012472798)\n",
      "iteration41- (1.9999999993624067,2.000000007465074)\n",
      "iteration42- (1.9999999993624067,2.0000000043701305)\n",
      "iteration43- (1.9999999993624067,2.0000000024573503)\n",
      "iteration44- (1.9999999993624067,2.000000001275187)\n",
      "iteration45- (1.9999999993624067,2.00000000054457)\n",
      "iteration46- (1.999999999813953,2.00000000054457)\n",
      "iteration47- (1.999999999813953,2.000000000265499)\n",
      "iteration48- (1.9999999999864284,2.000000000265499)\n",
      "iteration49- (1.9999999999864284,2.0000000001589036)\n",
      "iteration50- (1.9999999999864284,2.000000000093024)\n",
      "iteration51- (1.9999999999864284,2.000000000052308)\n",
      "iteration52- (1.9999999999864284,2.000000000027144)\n",
      "iteration53- (1.9999999999864284,2.000000000011592)\n",
      "iteration54- (1.99999999999604,2.000000000011592)\n",
      "iteration55- (1.99999999999604,2.000000000005652)\n",
      "iteration56- (1.9999999999997116,2.000000000005652)\n",
      "iteration57- (1.9999999999997116,2.000000000003383)\n",
      "iteration58- (1.9999999999997116,2.0000000000019806)\n",
      "iteration59- (1.9999999999997116,2.0000000000011138)\n",
      "iteration60- (1.9999999999997116,2.000000000000578)\n",
      "iteration61- (1.9999999999997116,2.0000000000002474)\n",
      "iteration62- (1.9999999999999163,2.0000000000002474)\n",
      "iteration63- (1.9999999999999163,2.000000000000121)\n",
      "iteration64- (1.9999999999999944,2.000000000000121)\n",
      "iteration65- (1.9999999999999944,2.0000000000000724)\n",
      "iteration66- (1.9999999999999944,2.0000000000000426)\n",
      "iteration67- (1.9999999999999944,2.0000000000000244)\n",
      "iteration68- (1.9999999999999944,2.000000000000013)\n",
      "iteration69- (1.9999999999999944,2.0000000000000058)\n",
      "iteration70- (1.9999999999999987,2.0000000000000058)\n",
      "iteration71- (1.9999999999999987,2.000000000000003)\n",
      "iteration72- (2.0000000000000004,2.0000000000000013)\n"
     ]
    }
   ],
   "source": [
    "maxim(fx,0,3, method='gsm')"
   ]
  },
  {
   "cell_type": "code",
   "execution_count": null,
   "id": "99376a51",
   "metadata": {},
   "outputs": [],
   "source": [
    "def fnc2(x):\n",
    "    return 2*x**2 + x*"
   ]
  }
 ],
 "metadata": {
  "kernelspec": {
   "display_name": "Python 3",
   "language": "python",
   "name": "python3"
  },
  "language_info": {
   "codemirror_mode": {
    "name": "ipython",
    "version": 3
   },
   "file_extension": ".py",
   "mimetype": "text/x-python",
   "name": "python",
   "nbconvert_exporter": "python",
   "pygments_lexer": "ipython3",
   "version": "3.9.0"
  }
 },
 "nbformat": 4,
 "nbformat_minor": 5
}
