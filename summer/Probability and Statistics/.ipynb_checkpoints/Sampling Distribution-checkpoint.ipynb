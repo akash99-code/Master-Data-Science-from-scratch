{
 "cells": [
  {
   "cell_type": "markdown",
   "id": "7c8192d2",
   "metadata": {},
   "source": [
    "## Sampling Distribution"
   ]
  },
  {
   "cell_type": "markdown",
   "id": "183c32a2",
   "metadata": {},
   "source": [
    "A sampling distribution refers to a probability distribution of a statistic that comes from choosing random samples of a given population.The sampling distribution depends on multiple factors – \n",
    "* the statistic, \n",
    "* sample size, \n",
    "* sampling process, and \n",
    "* the overall population.\n",
    "  \n",
    "It is used to **estimate** statistics( like means,variances, and standard deviations) of the whole population using multiple samples. Since populations are typically large in size, it is important to use a sampling distribution so that you can randomly select a subset of the entire population. Sampling distribution also helps make the data easier to manage and builds a foundation for statistical inferencing, which leads to making inferences for the whole population.\n",
    "(As you might know, this is the main working principle of any ML model training)."
   ]
  },
  {
   "cell_type": "markdown",
   "id": "af544b67",
   "metadata": {},
   "source": [
    "Steps to plot Sampling distribution -  \n",
    "1. Select a random sample of a specific size (n) from a given population.\n",
    "2. Calculate a statistic for the sample, for example sample mean $\\overline{X}$. (can be mode, median, or standard deviation as well)\n",
    "3. Repeat the above two steps for numerous times keeping the sample size fixed, alongside keep track of the frequency of the calculated sample means$(\\overline{X}_1, \\overline{X}_2, \\overline{X}_3, ....)$.\n",
    "4. Plot probability distribution of the above frequency table, where x-axis represents the sample mean, and y-axis represent its probability of occurence(its freq/total trials)\n",
    "5. The plot you get is the sampling distribution.  \n",
    "\n",
    "According to **Central Limit Theorem**, sampling distribution will turn out to be a Normal Distribution, with increase in no. of trials(or samplings)."
   ]
  },
  {
   "cell_type": "markdown",
   "id": "907ca32e",
   "metadata": {},
   "source": [
    "Some facts when the 'statistic' of sample, used to generate sampling distribution, is mean $\\overline{X}$:\n",
    "* Mean of the distribution will be almost same as the mean of the whole distribution\n",
    "* Standard Error(same as sd) of sampling distribution will be (s.d. of population / sample size taken in each trial)  \n",
    "\n",
    "*Yes, we are calculating mean of sample means to estimate population mean*"
   ]
  },
  {
   "cell_type": "markdown",
   "id": "de302efd",
   "metadata": {},
   "source": [
    "**Central Limt Theorem**  \n",
    "CLT states that when identically independent random variables are summed up, their properly normalized sum tends toward a normal distribution even if the original variables themselves are not normally distributed.   \n",
    "If $ X_{1},X_{2},\\dots ,X_{m}$ are $m$ identically independent random variables of each samples(sample size =$n$) drawn from a population with overall mean $\\mu$ and finite variance $\\sigma ^{2}$, and if ${\\bar {X}}_{m}$ is the sample mean, then the limiting form of the distribution, $Z=\\lim _{m\\to \\infty }{\\sqrt {n}}{\\left({\\frac {{\\bar {X}}_{n}-\\mu }{\\sigma }}\\right)}$, is a standard normal distribution.\n"
   ]
  },
  {
   "cell_type": "markdown",
   "id": "4285d72d",
   "metadata": {},
   "source": [
    "### Chi-Square Distribution$\\chi_n^2$  \n",
    "If $Z_1, Z_2, ... , Z_n$ are identically independent standard normal random variable.  \n",
    "$\\chi_n^2 = Z_1^2 + Z_2^2+ ... + Z_n^2 $  \n",
    "* $P(X \\geq \\chi^2_{\\alpha,n}) =\\alpha  (critical points)$\n",
    "* $\\chi^2_n - \\Gamma(n/2,1/2)$"
   ]
  },
  {
   "cell_type": "markdown",
   "id": "dd3b6d45",
   "metadata": {},
   "source": [
    "### t-Distribtion T  \n"
   ]
  },
  {
   "cell_type": "markdown",
   "id": "a3581c26",
   "metadata": {},
   "source": [
    "### F-Distribution F_{n,m}  "
   ]
  }
 ],
 "metadata": {
  "kernelspec": {
   "display_name": "Python 3",
   "language": "python",
   "name": "python3"
  },
  "language_info": {
   "codemirror_mode": {
    "name": "ipython",
    "version": 3
   },
   "file_extension": ".py",
   "mimetype": "text/x-python",
   "name": "python",
   "nbconvert_exporter": "python",
   "pygments_lexer": "ipython3",
   "version": "3.9.0"
  }
 },
 "nbformat": 4,
 "nbformat_minor": 5
}
