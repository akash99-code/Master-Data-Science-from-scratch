{
 "cells": [
  {
   "cell_type": "markdown",
   "id": "f7f7c87e",
   "metadata": {},
   "source": [
    "## Change of Variable"
   ]
  },
  {
   "cell_type": "markdown",
   "id": "26a7be9a",
   "metadata": {},
   "source": [
    "\n",
    "Let $X$ be Random Variable with **pdf** $f(x)$ and **cdf** F(x).   \n",
    "\n",
    "Our aim is find **pdf** and **cdf** of a Random Variable $Y$, such that $Y=T(X)$, a transformation function applied on $X$. \n",
    "  \n",
    "Lets, assume **pdf** of $Y$ is $g(y)$ and **cdf** of $Y$ is $G(y)$.  \n",
    "  \n",
    "$G(y) = P( Y \\leq y)\\hspace{5mm} $ (by definition)    \n",
    "or,$\\hspace{5mm} = P( T(X) \\leq y )$  \n",
    "or,$\\hspace{5mm} = P( -T^{-1}(y) \\geq X \\leq T^{-1}(y) )$  \n",
    "or,$\\hspace{5mm} = F( T^{-1}(y) ) - F( -T^{-1}(y) )$  \n",
    "  \n",
    "or, taking $y^{*}=T^{-1}(y)$,  \n",
    "$G(y) = F( y^{*} ) - F( -y^{*} )$\n",
    "  \n",
    "and,  \n",
    "  \n",
    "$g(y) = \\frac{d}{dy} G(y)$  \n",
    "or,$\\hspace{5mm} =\\frac{d}{dy} F( y^{*} ) - \\frac{d}{dy}F( -y^{*} )$  \n",
    "or,$\\hspace{5mm} =\\frac{d}{dy}(y^{*}) \\cdot f(y^{*}) -  \\frac{d}{dy}(-y^{*}) \\cdot f(-y^{*})$  \n",
    "  \n"
   ]
  },
  {
   "cell_type": "markdown",
   "id": "80ec6c5a",
   "metadata": {},
   "source": [
    "#### Important transformations   \n",
    "  \n",
    "  \n",
    "* $Y=|X|$, **pdf** of $X$ being $f(x)$   \n",
    "Then pdf of $Y$:  \n",
    "$\\implies g(y) = f(y) + f(-y)$  \n",
    "  \n",
    "  \n",
    "* $Y=X^2$, **pdf** of $X$ being $f(x)$   \n",
    "Then pdf of $Y$:  \n",
    "$\\implies g(y) = \\frac{1}{2 \\sqrt{y}}\\cdot \\{  f(\\sqrt{y}) + f(-\\sqrt{y}) \\}$    \n",
    "  \n",
    "  \n",
    "* $Y=\\sqrt{X}$, **pdf** of $X$ being $f(x)$   \n",
    "Then pdf of $Y$:  \n",
    "$\\implies g(y) = 2yf(y^2)$\n",
    "  \n",
    " \n",
    "* $Y=e^{tX}$, **pdf** of $X$ being $f(x)$   \n",
    "Then pdf of $Y$:  \n",
    "$\\implies g(y) = \\frac{1}{yt}\\cdot   f(\\frac{Log_ey}{t}) $   \n",
    "  "
   ]
  },
  {
   "cell_type": "markdown",
   "id": "10c6bfb0",
   "metadata": {},
   "source": [
    "#### Normal distribution $X$~ $N(0,\\sigma^2)$ transformations  \n",
    "\n",
    "~$f(x) = \\frac{1}{\\sqrt{2\\pi \\sigma^2}} e^{-\\frac{1}{2} \\big(\\frac{x}{\\sigma}\\big)^2}$\n",
    "  "
   ]
  },
  {
   "cell_type": "markdown",
   "id": "e008faf9",
   "metadata": {},
   "source": [
    "1. **If $Y=X^2$**  \n",
    "$\\implies g(y) = \\frac{1}{\\sqrt{2\\pi \\sigma^2 y}} e^{-\\frac{1}{2} \\big(\\frac{y}{\\sigma}\\big)^2}; \\forall y>0$  \n",
    "also,  \n",
    "$\\implies g(y) = \\Gamma\\big(\\frac{1}{2}, \\frac{1}{2\\sigma^2}\\big)$  \n",
    "   \n",
    "    Therefore,  \n",
    "  \n",
    "     $E[Y] = \\frac{\\alpha}{\\lambda} = \\sigma^2$, and  \n",
    "    $Var[Y] = \\frac{\\alpha}{\\lambda^2} = 2\\sigma^4$"
   ]
  },
  {
   "cell_type": "markdown",
   "id": "c8798b86",
   "metadata": {},
   "source": [
    "2. **If $Y=e^{tX}$**  \n",
    "$\\implies g(y) =  \\frac{1}{\\sigma ty} \\frac{1}{\\sqrt{2\\pi}} e^{-\\frac{1}{2} \\big(\\frac{Log_ey}{t\\sigma}\\big)^2}; \\forall y>0$  \n",
    "also,  \n",
    "$\\implies g(y) = LN(0,t\\sigma)$  \n",
    "   \n",
    "    Therefore,  \n",
    "$E[Y] = e^{\\mu + \\frac{\\sigma^2}{2}}=e^{\\frac{t\\sigma^2}{2}}$, and  \n",
    "$Var[Y] = (e^{\\sigma^2} -1)(e^{2\\mu+\\sigma^2}) = (e^{t^2\\sigma^2} -1)(e^{t^2\\sigma^2})$"
   ]
  },
  {
   "cell_type": "markdown",
   "id": "3a7b1c54",
   "metadata": {},
   "source": [
    "take $\\sigma =1$ in the above equations, to get the transformations of standard normal R.V."
   ]
  },
  {
   "cell_type": "markdown",
   "id": "54f8dbb9",
   "metadata": {},
   "source": [
    "**Chi-Squared transformation**  \n",
    "\n",
    "1. if $Y = \\sqrt{X}$, when $X$ ~ $\\chi^2_n$(chi-squared dist.) ~ $\\Gamma\\big(\\frac{n}{2}, \\frac{1}{2}\\big)$  \n",
    "  \n",
    "   Then **pdf** of $Y$:  \n",
    "   $\\implies g(y) = \\frac{\\big(\\frac{1}{2}\\big)^{\\frac{n}{2} - 1}}{\\Gamma\\big(\\frac{n}{2}\\big)} y^{n-1} e^{-\\frac{1}{2}y^2}$  \n",
    "  \n",
    "    Therefore, $Y$~$\\chi_n$ (chi distribution)"
   ]
  },
  {
   "cell_type": "markdown",
   "id": "efb2ff95",
   "metadata": {},
   "source": [
    "### Summing of 2 Random Variables"
   ]
  },
  {
   "cell_type": "markdown",
   "id": "8139a4d1",
   "metadata": {},
   "source": [
    "Let $X$ be a Random Variable, with **pdf** $f_X(x)$, and  \n",
    "$Y$ be a Random Variable, with **pdf** $f_Y(y)$, and  \n",
    "$f_{XY}(x,y)$ be Joint density function of $X$ and $Y$.  \n",
    "  \n",
    "Then,  \n",
    "Random Variable $Z$~$X+Y$ will have distribution with **pdf**:  \n",
    "\n",
    "$f_{X+Y}(z) = \\sum_{x+y=z} f_{XY}(x,y) = \\sum_{x} f_{XY}(x,z-x)$  \n",
    "  \n",
    "$\\hspace{1.5cm} = \\int_{-\\infty}^{\\infty} f_{XY}(x,y)dxdy= \\int_{x=-\\infty}^{\\infty} f_{XY}(x,z-x) dx$\n",
    "\n",
    "  \n",
    "  \n",
    "If $X, Y$ are independent Random Variables  \n",
    "$f_{X+Y}(z) = \\int_{-\\infty}^{\\infty} f_X(x) f_Y(z-x) dx$"
   ]
  },
  {
   "cell_type": "markdown",
   "id": "ad37d719",
   "metadata": {},
   "source": [
    "#### Important Implications from summation of random variables"
   ]
  },
  {
   "cell_type": "markdown",
   "id": "8fa55a83",
   "metadata": {},
   "source": [
    "1. Let 2 independent random variables be  \n",
    "$X$ ~ $N(\\mu_1, \\sigma_1)$, and   \n",
    "$Y$ ~ $N(\\mu_2, \\sigma_2)$  \n",
    "  \n",
    "    Then,  \n",
    "$\\implies X+Y$ ~ $N(\\mu_1+\\mu_2, \\sigma_1+\\sigma_2)$"
   ]
  },
  {
   "cell_type": "markdown",
   "id": "ea81c06a",
   "metadata": {},
   "source": [
    "2. $X$~ $N(0, \\sigma^2)$ and $Y$~ $N(0, \\sigma^2)$  \n",
    "\n",
    "     Then,  \n",
    "$\\implies X+Y$ = $N(0, 2\\sigma^2)$"
   ]
  },
  {
   "cell_type": "markdown",
   "id": "e7082597",
   "metadata": {},
   "source": [
    "3. Let $X$ and $Y$ be independent Random Variable,  \n",
    "$X$ ~ $\\Gamma(\\alpha_1, \\lambda)$  \n",
    "$Y$ ~ $\\Gamma(\\alpha_2, \\lambda)$  \n",
    "  \n",
    "     Then,  \n",
    "$\\implies X + Y$ ~ $\\Gamma(\\alpha_1 + \\alpha_2, \\lambda)$  \n",
    "  "
   ]
  },
  {
   "cell_type": "markdown",
   "id": "24a49773",
   "metadata": {},
   "source": [
    "4. Let $X$~ $N(0, \\sigma^2)$, and $Y$~ $N(0, \\sigma^2)$  \n",
    "  \n",
    "   Then,  \n",
    "$X^2$ ~ $\\Gamma\\big(\\frac{1}{2}, \\frac{1}{2\\sigma^2}\\big)$, and  \n",
    "$Y^2$ ~ $\\Gamma\\big(\\frac{1}{2}, \\frac{1}{2\\sigma^2}\\big)$  \n",
    "  \n",
    "    Therefore,  \n",
    "$\\implies X^2 + Y^2$ ~ $\\Gamma\\big(1, \\frac{1}{2\\sigma^2}\\big)$ ~ $Exp\\big(\\frac{\\sigma^2}{2}\\big)$"
   ]
  },
  {
   "cell_type": "markdown",
   "id": "8b35182e",
   "metadata": {},
   "source": [
    "5.  Let $Z_i$ ~ $N(0,1)$ for $i=1,2,..n$, be $n$ independent standard normals.  \n",
    "Then,  \n",
    "$\\implies Z_i^2$ ~ $\\Gamma\\big(\\frac{1}{2},\\frac{1}{2}\\big)$  \n",
    "  \n",
    "    Also,  \n",
    "$\\chi_n^2$ ~ $Z_1^2 + Z_2^2 + .... + Z_n^2$   \n",
    "$\\hspace{5mm}$ ~ $\\Gamma\\big(\\frac{n}{2},\\frac{1}{2}\\big)$"
   ]
  },
  {
   "cell_type": "markdown",
   "id": "45227618",
   "metadata": {},
   "source": [
    "6. Let $X$ and $Y$ be independent Random Variable,  \n",
    "$X$ ~ $Exp(\\lambda_1)$  \n",
    "$Y$ ~ $Exp(\\lambda_2)$  \n",
    "Then,  \n",
    "$\\implies X+Y$ ~ $\\Gamma(2, \\lambda)\\hspace{5mm}$ *(since $Exp(\\lambda)$~$\\Gamma(1,\\lambda)$)*\n"
   ]
  }
 ],
 "metadata": {
  "kernelspec": {
   "display_name": "Python 3",
   "language": "python",
   "name": "python3"
  },
  "language_info": {
   "codemirror_mode": {
    "name": "ipython",
    "version": 3
   },
   "file_extension": ".py",
   "mimetype": "text/x-python",
   "name": "python",
   "nbconvert_exporter": "python",
   "pygments_lexer": "ipython3",
   "version": "3.9.0"
  }
 },
 "nbformat": 4,
 "nbformat_minor": 5
}
