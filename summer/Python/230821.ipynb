{
 "cells": [
  {
   "cell_type": "markdown",
   "metadata": {
    "id": "3_Wjb_zuGtXI"
   },
   "source": [
    "# Data types in python\n",
    "- numbers\n",
    "- variables\n",
    "- strings\n",
    "- arrays\n",
    "- list\n",
    "- dictionary\n",
    "- set"
   ]
  },
  {
   "cell_type": "code",
   "execution_count": null,
   "metadata": {
    "id": "zqul8r_RHCs0"
   },
   "outputs": [],
   "source": []
  },
  {
   "cell_type": "markdown",
   "metadata": {
    "id": "fgtvn0_SGtXU"
   },
   "source": [
    "## Types of Numbers\n",
    "- Integers\n",
    "- Floating-Point numbers\n",
    "- Complex numbers\n",
    "\n",
    "### Integers\n",
    "- Integers are the number such as 1, 8, -6, 100,...\n",
    "- Integer arithmetic is exact\n",
    "### Floating-Point Numbers\n",
    "- These are the representation of real numbers\n",
    "- In general, the representation do not have the exact value is approximated value\n",
    "- Any single number containing a period (“.”) is considered by Python to specify a floating-point number\n",
    "\n"
   ]
  },
  {
   "cell_type": "code",
   "execution_count": null,
   "metadata": {
    "id": "2afCGplsGtXa",
    "outputId": "7f7d44ad-454a-44cb-992f-a0d79008d286"
   },
   "outputs": [
    {
     "data": {
      "text/plain": [
       "1.3333333333333333"
      ]
     },
     "execution_count": 1,
     "metadata": {},
     "output_type": "execute_result"
    }
   ],
   "source": [
    "4/3"
   ]
  },
  {
   "cell_type": "code",
   "execution_count": null,
   "metadata": {
    "id": "AHzsEPsjGtXf",
    "outputId": "5f670135-be02-452d-a87e-a089f8f8e196"
   },
   "outputs": [
    {
     "data": {
      "text/plain": [
       "0.2999999999999998"
      ]
     },
     "execution_count": 195,
     "metadata": {},
     "output_type": "execute_result"
    }
   ],
   "source": [
    "6-5.7"
   ]
  },
  {
   "cell_type": "markdown",
   "metadata": {
    "id": "LAO2SbDiGtXj"
   },
   "source": [
    "### Complex Numbers\n",
    "- Numbers of the form $a+bj$\n",
    "- It consists of real part and imaginary part\n",
    "- Each part of complex number is a floating-point number\n",
    "- Complex number arithmetic is not exact but subject to the same finite precision considerations as floats."
   ]
  },
  {
   "cell_type": "code",
   "execution_count": null,
   "metadata": {
    "id": "wiqTC7xkGtXm",
    "outputId": "8c1d78c7-31d7-46ca-d8cf-93dfdf146d3c"
   },
   "outputs": [
    {
     "data": {
      "text/plain": [
       "(2+6j)"
      ]
     },
     "execution_count": 2,
     "metadata": {},
     "output_type": "execute_result"
    }
   ],
   "source": [
    "complex(2,6)"
   ]
  },
  {
   "cell_type": "code",
   "execution_count": null,
   "metadata": {
    "id": "yWUOpCLeGtXp",
    "outputId": "da00cbc5-181c-4a9f-cc5c-a974bfe1c73e"
   },
   "outputs": [
    {
     "data": {
      "text/plain": [
       "complex"
      ]
     },
     "execution_count": 4,
     "metadata": {},
     "output_type": "execute_result"
    }
   ],
   "source": [
    "a=2+6j\n",
    "type(a)"
   ]
  },
  {
   "cell_type": "markdown",
   "metadata": {
    "id": "GVMK9I6JGtXu"
   },
   "source": [
    "## Basic Arithmetic\n",
    "- Addition +\n",
    "- Subtraction -\n",
    "- Multiplication *\n",
    "- Floating-point division /\n",
    "- Integer Division (quotient) //\n",
    "- Modulus (remainder) %\n",
    "- Exponentiation"
   ]
  },
  {
   "cell_type": "code",
   "execution_count": null,
   "metadata": {
    "id": "9-v4c0K9GtXz",
    "outputId": "335b9854-2e39-4e9c-e2e1-6efb07767905"
   },
   "outputs": [
    {
     "data": {
      "text/plain": [
       "5"
      ]
     },
     "execution_count": 5,
     "metadata": {},
     "output_type": "execute_result"
    }
   ],
   "source": [
    "# Addition\n",
    "2+3"
   ]
  },
  {
   "cell_type": "code",
   "execution_count": null,
   "metadata": {
    "id": "I-WbARD5GtX6",
    "outputId": "f7dcbd63-c8c7-4cc0-e32a-de35b760e7a8"
   },
   "outputs": [
    {
     "data": {
      "text/plain": [
       "-1"
      ]
     },
     "execution_count": 6,
     "metadata": {},
     "output_type": "execute_result"
    }
   ],
   "source": [
    "# Subtraction\n",
    "2-3"
   ]
  },
  {
   "cell_type": "code",
   "execution_count": null,
   "metadata": {
    "id": "b-B-5tjDGtX8",
    "outputId": "a5260859-c789-466a-f883-94395e2ee64f"
   },
   "outputs": [
    {
     "data": {
      "text/plain": [
       "6"
      ]
     },
     "execution_count": 7,
     "metadata": {},
     "output_type": "execute_result"
    }
   ],
   "source": [
    "# Multiplication\n",
    "2*3"
   ]
  },
  {
   "cell_type": "code",
   "execution_count": null,
   "metadata": {
    "id": "W1iCG1shGtX-",
    "outputId": "27044edd-3b65-4df5-90e5-d10302c2d1d2"
   },
   "outputs": [
    {
     "data": {
      "text/plain": [
       "0.6666666666666666"
      ]
     },
     "execution_count": 8,
     "metadata": {},
     "output_type": "execute_result"
    }
   ],
   "source": [
    "# Floting-point division\n",
    "2/3"
   ]
  },
  {
   "cell_type": "code",
   "execution_count": null,
   "metadata": {
    "id": "EtLasWOTGtYA",
    "outputId": "a6986730-6a6d-48ec-9b82-cb8301dc07ab"
   },
   "outputs": [
    {
     "data": {
      "text/plain": [
       "0"
      ]
     },
     "execution_count": 13,
     "metadata": {},
     "output_type": "execute_result"
    }
   ],
   "source": [
    "# Integer division\n",
    "# Always rounds down the result to\n",
    "# the nearest smaller integer\n",
    "# Also known as floor division\n",
    "2//3"
   ]
  },
  {
   "cell_type": "code",
   "execution_count": null,
   "metadata": {
    "id": "uURwJtvGGtYE",
    "outputId": "3e29024f-8d9c-4c4f-b8bf-dd7de7d35ab0"
   },
   "outputs": [
    {
     "data": {
      "text/plain": [
       "2.0"
      ]
     },
     "execution_count": 15,
     "metadata": {},
     "output_type": "execute_result"
    }
   ],
   "source": [
    "8.5//3"
   ]
  },
  {
   "cell_type": "code",
   "execution_count": null,
   "metadata": {
    "id": "5oalqsJ9GtYG",
    "outputId": "3debaeec-2633-4e0d-80d0-9faf5e5793c8"
   },
   "outputs": [
    {
     "data": {
      "text/plain": [
       "2"
      ]
     },
     "execution_count": 10,
     "metadata": {},
     "output_type": "execute_result"
    }
   ],
   "source": [
    "5//2"
   ]
  },
  {
   "cell_type": "code",
   "execution_count": null,
   "metadata": {
    "id": "t_QkRSlIGtYH",
    "outputId": "9b9a98e6-9ded-417e-8161-52fffade9a68"
   },
   "outputs": [
    {
     "data": {
      "text/plain": [
       "1"
      ]
     },
     "execution_count": 11,
     "metadata": {},
     "output_type": "execute_result"
    }
   ],
   "source": [
    "5%2"
   ]
  },
  {
   "cell_type": "code",
   "execution_count": null,
   "metadata": {
    "id": "vWOT8XEcGtYH",
    "outputId": "5f9de922-918b-48b4-984a-f77f82d95b64"
   },
   "outputs": [
    {
     "data": {
      "text/plain": [
       "25"
      ]
     },
     "execution_count": 12,
     "metadata": {},
     "output_type": "execute_result"
    }
   ],
   "source": [
    "5**2"
   ]
  },
  {
   "cell_type": "markdown",
   "metadata": {
    "id": "GjcIVbM2GtYI"
   },
   "source": [
    "### Methods and Attributes of Numbers\n",
    "Python numbers are objects and have certain attributes, which are accessed using the \"dot\". For instance, complex number objects have the attributes real and imag, which are real and imaginery parts of the number."
   ]
  },
  {
   "cell_type": "code",
   "execution_count": 1,
   "metadata": {
    "colab": {
     "base_uri": "https://localhost:8080/"
    },
    "executionInfo": {
     "elapsed": 90,
     "status": "ok",
     "timestamp": 1629707693016,
     "user": {
      "displayName": "Jammi Kunal",
      "photoUrl": "https://lh3.googleusercontent.com/a-/AOh14Gh3zNxRaIiJCAW5h0G9L9Qp58H7sndpCQG7BX15yw=s64",
      "userId": "11190505566074938915"
     },
     "user_tz": -330
    },
    "id": "P-pUDOb5GtYJ",
    "outputId": "ff0005dd-8a8e-4eec-9362-d3e6d606a6cf"
   },
   "outputs": [
    {
     "data": {
      "text/plain": [
       "2.0"
      ]
     },
     "execution_count": 1,
     "metadata": {},
     "output_type": "execute_result"
    }
   ],
   "source": [
    "(2+6j).real"
   ]
  },
  {
   "cell_type": "code",
   "execution_count": 2,
   "metadata": {
    "colab": {
     "base_uri": "https://localhost:8080/"
    },
    "executionInfo": {
     "elapsed": 79,
     "status": "ok",
     "timestamp": 1629707693017,
     "user": {
      "displayName": "Jammi Kunal",
      "photoUrl": "https://lh3.googleusercontent.com/a-/AOh14Gh3zNxRaIiJCAW5h0G9L9Qp58H7sndpCQG7BX15yw=s64",
      "userId": "11190505566074938915"
     },
     "user_tz": -330
    },
    "id": "11s_vtxXGtYK",
    "outputId": "cc6fc28c-02ad-4719-86f0-4e1b74c8a2bf"
   },
   "outputs": [
    {
     "data": {
      "text/plain": [
       "4.0"
      ]
     },
     "execution_count": 2,
     "metadata": {},
     "output_type": "execute_result"
    }
   ],
   "source": [
    "(7+4j).imag"
   ]
  },
  {
   "cell_type": "markdown",
   "metadata": {
    "id": "AKd415UgGtYL"
   },
   "source": [
    "Other attributes of complex number objects are `methods`: callable functions that act on their object in some way. For instance, `conjugate` is a method for the object complex number."
   ]
  },
  {
   "cell_type": "code",
   "execution_count": 3,
   "metadata": {
    "colab": {
     "base_uri": "https://localhost:8080/"
    },
    "executionInfo": {
     "elapsed": 69,
     "status": "ok",
     "timestamp": 1629707693017,
     "user": {
      "displayName": "Jammi Kunal",
      "photoUrl": "https://lh3.googleusercontent.com/a-/AOh14Gh3zNxRaIiJCAW5h0G9L9Qp58H7sndpCQG7BX15yw=s64",
      "userId": "11190505566074938915"
     },
     "user_tz": -330
    },
    "id": "7T-PvmJ5GtYM",
    "outputId": "0081df45-9b22-4d1f-ac29-34d4aa27de6c"
   },
   "outputs": [
    {
     "data": {
      "text/plain": [
       "(7-4j)"
      ]
     },
     "execution_count": 3,
     "metadata": {},
     "output_type": "execute_result"
    }
   ],
   "source": [
    "(7+4j).conjugate()"
   ]
  },
  {
   "cell_type": "markdown",
   "metadata": {
    "id": "DGpLEtmFGtYN"
   },
   "source": [
    "Here, the empty parentheses indicate that the method is to be `called`, i.e., the function to calculate the complex conjugate is to be run on the number $7+4j$"
   ]
  },
  {
   "cell_type": "markdown",
   "metadata": {
    "id": "5Z58ZRNxGtYO"
   },
   "source": [
    "## Mathematical Functions\n",
    "Built-in mathe matical functions are `abs` and `round`."
   ]
  },
  {
   "cell_type": "code",
   "execution_count": 4,
   "metadata": {
    "colab": {
     "base_uri": "https://localhost:8080/"
    },
    "executionInfo": {
     "elapsed": 66,
     "status": "ok",
     "timestamp": 1629707693018,
     "user": {
      "displayName": "Jammi Kunal",
      "photoUrl": "https://lh3.googleusercontent.com/a-/AOh14Gh3zNxRaIiJCAW5h0G9L9Qp58H7sndpCQG7BX15yw=s64",
      "userId": "11190505566074938915"
     },
     "user_tz": -330
    },
    "id": "XF3WzYusGtYO",
    "outputId": "1751849a-4e98-4324-ea78-1c1bb5d57578"
   },
   "outputs": [
    {
     "data": {
      "text/plain": [
       "5.7"
      ]
     },
     "execution_count": 4,
     "metadata": {},
     "output_type": "execute_result"
    }
   ],
   "source": [
    "abs(-5.7)"
   ]
  },
  {
   "cell_type": "code",
   "execution_count": 5,
   "metadata": {
    "colab": {
     "base_uri": "https://localhost:8080/"
    },
    "executionInfo": {
     "elapsed": 63,
     "status": "ok",
     "timestamp": 1629707693018,
     "user": {
      "displayName": "Jammi Kunal",
      "photoUrl": "https://lh3.googleusercontent.com/a-/AOh14Gh3zNxRaIiJCAW5h0G9L9Qp58H7sndpCQG7BX15yw=s64",
      "userId": "11190505566074938915"
     },
     "user_tz": -330
    },
    "id": "fIV2j4DQGtYP",
    "outputId": "88d18bfd-4668-46e0-a841-2d10fb6d8ca7"
   },
   "outputs": [
    {
     "data": {
      "text/plain": [
       "5.830951894845301"
      ]
     },
     "execution_count": 5,
     "metadata": {},
     "output_type": "execute_result"
    }
   ],
   "source": [
    "abs(3+5j)"
   ]
  },
  {
   "cell_type": "code",
   "execution_count": null,
   "metadata": {},
   "outputs": [],
   "source": []
  },
  {
   "cell_type": "code",
   "execution_count": 6,
   "metadata": {
    "colab": {
     "base_uri": "https://localhost:8080/"
    },
    "executionInfo": {
     "elapsed": 60,
     "status": "ok",
     "timestamp": 1629707693019,
     "user": {
      "displayName": "Jammi Kunal",
      "photoUrl": "https://lh3.googleusercontent.com/a-/AOh14Gh3zNxRaIiJCAW5h0G9L9Qp58H7sndpCQG7BX15yw=s64",
      "userId": "11190505566074938915"
     },
     "user_tz": -330
    },
    "id": "kzbaIfSWGtYQ",
    "outputId": "7b8fe421-ceed-444b-afac-2b7ad108db13"
   },
   "outputs": [
    {
     "data": {
      "text/plain": [
       "2"
      ]
     },
     "execution_count": 6,
     "metadata": {},
     "output_type": "execute_result"
    }
   ],
   "source": [
    "abs(-2)"
   ]
  },
  {
   "cell_type": "code",
   "execution_count": 7,
   "metadata": {
    "colab": {
     "base_uri": "https://localhost:8080/"
    },
    "executionInfo": {
     "elapsed": 57,
     "status": "ok",
     "timestamp": 1629707693019,
     "user": {
      "displayName": "Jammi Kunal",
      "photoUrl": "https://lh3.googleusercontent.com/a-/AOh14Gh3zNxRaIiJCAW5h0G9L9Qp58H7sndpCQG7BX15yw=s64",
      "userId": "11190505566074938915"
     },
     "user_tz": -330
    },
    "id": "6gFSm2WwGtYQ",
    "outputId": "a2b6c50c-afea-4202-a921-ea85e9103daa"
   },
   "outputs": [
    {
     "data": {
      "text/plain": [
       "5.0"
      ]
     },
     "execution_count": 7,
     "metadata": {},
     "output_type": "execute_result"
    }
   ],
   "source": [
    "abs(3+4j)"
   ]
  },
  {
   "cell_type": "code",
   "execution_count": 8,
   "metadata": {
    "colab": {
     "base_uri": "https://localhost:8080/"
    },
    "executionInfo": {
     "elapsed": 55,
     "status": "ok",
     "timestamp": 1629707693020,
     "user": {
      "displayName": "Jammi Kunal",
      "photoUrl": "https://lh3.googleusercontent.com/a-/AOh14Gh3zNxRaIiJCAW5h0G9L9Qp58H7sndpCQG7BX15yw=s64",
      "userId": "11190505566074938915"
     },
     "user_tz": -330
    },
    "id": "HR9QBeREGtYR",
    "outputId": "0396bb04-7f14-4bc6-f0fd-5e38172a5c1a"
   },
   "outputs": [
    {
     "data": {
      "text/plain": [
       "-10"
      ]
     },
     "execution_count": 8,
     "metadata": {},
     "output_type": "execute_result"
    }
   ],
   "source": [
    "round(-9.72)"
   ]
  },
  {
   "cell_type": "code",
   "execution_count": 9,
   "metadata": {
    "colab": {
     "base_uri": "https://localhost:8080/"
    },
    "executionInfo": {
     "elapsed": 51,
     "status": "ok",
     "timestamp": 1629707693020,
     "user": {
      "displayName": "Jammi Kunal",
      "photoUrl": "https://lh3.googleusercontent.com/a-/AOh14Gh3zNxRaIiJCAW5h0G9L9Qp58H7sndpCQG7BX15yw=s64",
      "userId": "11190505566074938915"
     },
     "user_tz": -330
    },
    "id": "hmPuLBx0GtYS",
    "outputId": "609581e1-6ac0-4f26-9942-40740dbdb29e"
   },
   "outputs": [
    {
     "data": {
      "text/plain": [
       "5"
      ]
     },
     "execution_count": 9,
     "metadata": {},
     "output_type": "execute_result"
    }
   ],
   "source": [
    "round(4.567)"
   ]
  },
  {
   "cell_type": "code",
   "execution_count": 10,
   "metadata": {
    "colab": {
     "base_uri": "https://localhost:8080/"
    },
    "executionInfo": {
     "elapsed": 47,
     "status": "ok",
     "timestamp": 1629707693021,
     "user": {
      "displayName": "Jammi Kunal",
      "photoUrl": "https://lh3.googleusercontent.com/a-/AOh14Gh3zNxRaIiJCAW5h0G9L9Qp58H7sndpCQG7BX15yw=s64",
      "userId": "11190505566074938915"
     },
     "user_tz": -330
    },
    "id": "LvRh09RBGtYT",
    "outputId": "fa0fc55c-57fb-4663-be13-0e9fd6053b8a"
   },
   "outputs": [
    {
     "data": {
      "text/plain": [
       "4.57"
      ]
     },
     "execution_count": 10,
     "metadata": {},
     "output_type": "execute_result"
    }
   ],
   "source": [
    "round(4.567,2)"
   ]
  },
  {
   "cell_type": "markdown",
   "metadata": {
    "id": "3cxL_mtLGtYU"
   },
   "source": [
    "Python is a very modular language: functionality is available in packages and modules that are `imported` if they are needed but are not loaded by default: this keeps the memory required to run a Python program to a minimum and improves performance.\n",
    "\n",
    "\n",
    "For instance, many useful mathematical functions are provided by the `math` module, which is imported with the statement `import math`"
   ]
  },
  {
   "cell_type": "code",
   "execution_count": 11,
   "metadata": {
    "colab": {
     "base_uri": "https://localhost:8080/"
    },
    "executionInfo": {
     "elapsed": 46,
     "status": "ok",
     "timestamp": 1629707693022,
     "user": {
      "displayName": "Jammi Kunal",
      "photoUrl": "https://lh3.googleusercontent.com/a-/AOh14Gh3zNxRaIiJCAW5h0G9L9Qp58H7sndpCQG7BX15yw=s64",
      "userId": "11190505566074938915"
     },
     "user_tz": -330
    },
    "id": "a2cELZeUGtYV",
    "outputId": "da134f27-e6ff-4a79-a0cc-a186f75a974a"
   },
   "outputs": [
    {
     "data": {
      "text/plain": [
       "1.0"
      ]
     },
     "execution_count": 11,
     "metadata": {},
     "output_type": "execute_result"
    }
   ],
   "source": [
    "import math\n",
    "math.exp(0)"
   ]
  },
  {
   "cell_type": "code",
   "execution_count": 12,
   "metadata": {
    "colab": {
     "base_uri": "https://localhost:8080/"
    },
    "executionInfo": {
     "elapsed": 45,
     "status": "ok",
     "timestamp": 1629707693022,
     "user": {
      "displayName": "Jammi Kunal",
      "photoUrl": "https://lh3.googleusercontent.com/a-/AOh14Gh3zNxRaIiJCAW5h0G9L9Qp58H7sndpCQG7BX15yw=s64",
      "userId": "11190505566074938915"
     },
     "user_tz": -330
    },
    "id": "H6jhyoxjGtYW",
    "outputId": "9327a36a-b878-40c0-cd72-1043ca89b1f1"
   },
   "outputs": [
    {
     "data": {
      "text/plain": [
       "1.0"
      ]
     },
     "execution_count": 12,
     "metadata": {},
     "output_type": "execute_result"
    }
   ],
   "source": [
    "math.cos(0)"
   ]
  },
  {
   "cell_type": "code",
   "execution_count": 13,
   "metadata": {
    "colab": {
     "base_uri": "https://localhost:8080/"
    },
    "executionInfo": {
     "elapsed": 45,
     "status": "ok",
     "timestamp": 1629707693023,
     "user": {
      "displayName": "Jammi Kunal",
      "photoUrl": "https://lh3.googleusercontent.com/a-/AOh14Gh3zNxRaIiJCAW5h0G9L9Qp58H7sndpCQG7BX15yw=s64",
      "userId": "11190505566074938915"
     },
     "user_tz": -330
    },
    "id": "xSQO3hGEGtYX",
    "outputId": "505fe200-2640-4962-ae03-cec34e4c10fc"
   },
   "outputs": [
    {
     "data": {
      "text/plain": [
       "4.0"
      ]
     },
     "execution_count": 13,
     "metadata": {},
     "output_type": "execute_result"
    }
   ],
   "source": [
    "math.sqrt(16)"
   ]
  },
  {
   "cell_type": "code",
   "execution_count": 14,
   "metadata": {
    "colab": {
     "base_uri": "https://localhost:8080/"
    },
    "executionInfo": {
     "elapsed": 44,
     "status": "ok",
     "timestamp": 1629707693023,
     "user": {
      "displayName": "Jammi Kunal",
      "photoUrl": "https://lh3.googleusercontent.com/a-/AOh14Gh3zNxRaIiJCAW5h0G9L9Qp58H7sndpCQG7BX15yw=s64",
      "userId": "11190505566074938915"
     },
     "user_tz": -330
    },
    "id": "ldwE0R-5GtYX",
    "outputId": "487535fb-f310-46d5-f1f0-3a8205747d74"
   },
   "outputs": [
    {
     "data": {
      "text/plain": [
       "3.141592653589793"
      ]
     },
     "execution_count": 14,
     "metadata": {},
     "output_type": "execute_result"
    }
   ],
   "source": [
    "math.pi"
   ]
  },
  {
   "cell_type": "code",
   "execution_count": 15,
   "metadata": {
    "colab": {
     "base_uri": "https://localhost:8080/"
    },
    "executionInfo": {
     "elapsed": 44,
     "status": "ok",
     "timestamp": 1629707693024,
     "user": {
      "displayName": "Jammi Kunal",
      "photoUrl": "https://lh3.googleusercontent.com/a-/AOh14Gh3zNxRaIiJCAW5h0G9L9Qp58H7sndpCQG7BX15yw=s64",
      "userId": "11190505566074938915"
     },
     "user_tz": -330
    },
    "id": "0d2LWV93GtYY",
    "outputId": "47ed868c-e504-4bd8-8737-6438b65e3edf"
   },
   "outputs": [
    {
     "data": {
      "text/plain": [
       "120"
      ]
     },
     "execution_count": 15,
     "metadata": {},
     "output_type": "execute_result"
    }
   ],
   "source": [
    "math.factorial(5)"
   ]
  },
  {
   "cell_type": "markdown",
   "metadata": {
    "id": "ABZJXIuTGtYZ"
   },
   "source": [
    "For more details about math module you can visit its [documentation](https://docs.python.org/3/library/math.html)."
   ]
  },
  {
   "cell_type": "markdown",
   "metadata": {
    "id": "WV4op1ezGtYZ"
   },
   "source": [
    "# Variables\n",
    "When an object created (like `float`) in a Python, memory is allocated for it: the location of this memory within the computer's architecture is called `address`\n",
    "\n",
    "> A `variable` is a name that refers to a value.\n",
    "\n",
    "A variable name can be assigned (“bound”) to any object and used to identify that object in future calculations"
   ]
  },
  {
   "cell_type": "code",
   "execution_count": 16,
   "metadata": {
    "colab": {
     "base_uri": "https://localhost:8080/"
    },
    "executionInfo": {
     "elapsed": 43,
     "status": "ok",
     "timestamp": 1629707693024,
     "user": {
      "displayName": "Jammi Kunal",
      "photoUrl": "https://lh3.googleusercontent.com/a-/AOh14Gh3zNxRaIiJCAW5h0G9L9Qp58H7sndpCQG7BX15yw=s64",
      "userId": "11190505566074938915"
     },
     "user_tz": -330
    },
    "id": "y6XlBVfQGtYa",
    "outputId": "0ba68654-127d-43b9-bfa4-a72e77a6803e"
   },
   "outputs": [
    {
     "data": {
      "text/plain": [
       "139819552031760"
      ]
     },
     "execution_count": 16,
     "metadata": {},
     "output_type": "execute_result"
    }
   ],
   "source": [
    "id(5.3)"
   ]
  },
  {
   "cell_type": "markdown",
   "metadata": {
    "id": "T_q2UgeCGtYb"
   },
   "source": [
    "This number refers to a specific location in memory that has been allocated to hold the\n",
    "float object with the value 5.3.\n"
   ]
  },
  {
   "cell_type": "code",
   "execution_count": 17,
   "metadata": {
    "colab": {
     "base_uri": "https://localhost:8080/"
    },
    "executionInfo": {
     "elapsed": 43,
     "status": "ok",
     "timestamp": 1629707693024,
     "user": {
      "displayName": "Jammi Kunal",
      "photoUrl": "https://lh3.googleusercontent.com/a-/AOh14Gh3zNxRaIiJCAW5h0G9L9Qp58H7sndpCQG7BX15yw=s64",
      "userId": "11190505566074938915"
     },
     "user_tz": -330
    },
    "id": "NvwOpTpgGtYb",
    "outputId": "9271bb91-806a-439e-8408-2b4253b45376"
   },
   "outputs": [
    {
     "data": {
      "text/plain": [
       "-1.5"
      ]
     },
     "execution_count": 17,
     "metadata": {},
     "output_type": "execute_result"
    }
   ],
   "source": [
    "a = 3\n",
    "b = -0.5\n",
    "c = a*b\n",
    "c"
   ]
  },
  {
   "cell_type": "markdown",
   "metadata": {
    "id": "DdLAwtukGtYc"
   },
   "source": [
    "Note that we did not have to declare the variables before we assign them (tell Python\n",
    "that the variable name `a` is to refer to an integer, `b` is to refer to a floating-point number, etc.), as is necessary in some computer languages."
   ]
  },
  {
   "cell_type": "markdown",
   "metadata": {
    "id": "EHXsx8mtGtYc"
   },
   "source": [
    "### Variable Names\n",
    "There are some rules about what makes a valid variable name:\n",
    "- Variable names are *case-sensitive*: a and A are different variables;\n",
    "- Variable names can contain any letter, the underscore character (“_”) and any digit (0–9)\n",
    "- ... but must not *start with* a digit;\n",
    "- A variable name must not be the same as one of the reserved keywords given in given Table.\n",
    "- The built-in constant names `True`, `False` and `None` cannot be assigned as variable names.\n",
    "- There are total 35 reserved key words in Python, you can't use as variable name.\n",
    "\n",
    "```\n",
    "and       del       from      None      True\n",
    "as        elif      global    nonlocal  try\n",
    "assert    else      if        not       while\n",
    "break     except    import    or        with\n",
    "class     False     in        pass      yield\n",
    "continue  finally   is        raise     async\n",
    "def       for       lambda    return    await\n",
    "\n",
    "\n",
    "```\n",
    "\n"
   ]
  },
  {
   "cell_type": "markdown",
   "metadata": {
    "id": "dRnvNksFGtYd"
   },
   "source": [
    "Good practice in naming variables:\n",
    "- Variable names should be meaningful (area is better than a) but not too long (the_area_of_the_triangle is unwieldy);\n",
    "- Generally, don’t use I (upper-case i), l (lower-case L) or the upper-case letter O: they look too much like the digits 1 and 0;\n",
    "- The variable names i, j and k are usually used as integer counters;\n",
    "- Use lower-case names, with words separated by underscores rather than “CamelCase”: for example, *mean_height* and not *MeanHeight*."
   ]
  },
  {
   "cell_type": "code",
   "execution_count": 18,
   "metadata": {
    "colab": {
     "base_uri": "https://localhost:8080/"
    },
    "executionInfo": {
     "elapsed": 43,
     "status": "ok",
     "timestamp": 1629707693025,
     "user": {
      "displayName": "Jammi Kunal",
      "photoUrl": "https://lh3.googleusercontent.com/a-/AOh14Gh3zNxRaIiJCAW5h0G9L9Qp58H7sndpCQG7BX15yw=s64",
      "userId": "11190505566074938915"
     },
     "user_tz": -330
    },
    "id": "McwAr8pxGtYe",
    "outputId": "0c085cbf-b452-4c7d-b0b2-af810d42a648"
   },
   "outputs": [
    {
     "data": {
      "text/plain": [
       "3.8935866886713875"
      ]
     },
     "execution_count": 18,
     "metadata": {},
     "output_type": "execute_result"
    }
   ],
   "source": [
    "# Example\n",
    "a = 4.5\n",
    "b = 2\n",
    "c = 3.902\n",
    "s = (a + b + c)/2\n",
    "area = math.sqrt(s * (s-a)*(s-b)*(s-c))\n",
    "area"
   ]
  },
  {
   "cell_type": "code",
   "execution_count": 19,
   "metadata": {
    "colab": {
     "base_uri": "https://localhost:8080/"
    },
    "executionInfo": {
     "elapsed": 42,
     "status": "ok",
     "timestamp": 1629707693025,
     "user": {
      "displayName": "Jammi Kunal",
      "photoUrl": "https://lh3.googleusercontent.com/a-/AOh14Gh3zNxRaIiJCAW5h0G9L9Qp58H7sndpCQG7BX15yw=s64",
      "userId": "11190505566074938915"
     },
     "user_tz": -330
    },
    "id": "DVy0paz6GtYf",
    "outputId": "090329c0-adcc-49ff-9e81-ae69c9b982d4"
   },
   "outputs": [
    {
     "data": {
      "text/plain": [
       "float"
      ]
     },
     "execution_count": 19,
     "metadata": {},
     "output_type": "execute_result"
    }
   ],
   "source": [
    "type(s)"
   ]
  },
  {
   "cell_type": "code",
   "execution_count": 20,
   "metadata": {
    "colab": {
     "base_uri": "https://localhost:8080/"
    },
    "executionInfo": {
     "elapsed": 41,
     "status": "ok",
     "timestamp": 1629707693025,
     "user": {
      "displayName": "Jammi Kunal",
      "photoUrl": "https://lh3.googleusercontent.com/a-/AOh14Gh3zNxRaIiJCAW5h0G9L9Qp58H7sndpCQG7BX15yw=s64",
      "userId": "11190505566074938915"
     },
     "user_tz": -330
    },
    "id": "7vPZB9nKGtYf",
    "outputId": "22b04d29-ae30-4dec-c93a-b68b39ef412f"
   },
   "outputs": [
    {
     "data": {
      "text/plain": [
       "139819552033200"
      ]
     },
     "execution_count": 20,
     "metadata": {},
     "output_type": "execute_result"
    }
   ],
   "source": [
    "id(s)"
   ]
  },
  {
   "cell_type": "code",
   "execution_count": 21,
   "metadata": {
    "colab": {
     "base_uri": "https://localhost:8080/"
    },
    "executionInfo": {
     "elapsed": 41,
     "status": "ok",
     "timestamp": 1629707693026,
     "user": {
      "displayName": "Jammi Kunal",
      "photoUrl": "https://lh3.googleusercontent.com/a-/AOh14Gh3zNxRaIiJCAW5h0G9L9Qp58H7sndpCQG7BX15yw=s64",
      "userId": "11190505566074938915"
     },
     "user_tz": -330
    },
    "id": "d_l9bgxsGtYg",
    "outputId": "44dcaba4-9e94-475e-f987-fc0d845e5488"
   },
   "outputs": [
    {
     "data": {
      "text/plain": [
       "139819552033520"
      ]
     },
     "execution_count": 21,
     "metadata": {},
     "output_type": "execute_result"
    }
   ],
   "source": [
    "id(area)"
   ]
  },
  {
   "cell_type": "markdown",
   "metadata": {
    "id": "MdBjPeMiGtYh"
   },
   "source": [
    "## Operators\n",
    "\n",
    "The main comparison operators used in Python to compare\n",
    "objects are given below:\n",
    "\n",
    "\n",
    "|     | Operator                |\n",
    "| --- | ----------------------  |\n",
    "| ==  | Equal to                |\n",
    "| !=  | Not Equal to            |\n",
    "| >   | Greater than            |\n",
    "| <   | Less than               |\n",
    "| >=  | Greater than or equal to|\n",
    "|<=   | Less than or equal to   |"
   ]
  },
  {
   "cell_type": "code",
   "execution_count": 22,
   "metadata": {
    "colab": {
     "base_uri": "https://localhost:8080/"
    },
    "executionInfo": {
     "elapsed": 41,
     "status": "ok",
     "timestamp": 1629707693026,
     "user": {
      "displayName": "Jammi Kunal",
      "photoUrl": "https://lh3.googleusercontent.com/a-/AOh14Gh3zNxRaIiJCAW5h0G9L9Qp58H7sndpCQG7BX15yw=s64",
      "userId": "11190505566074938915"
     },
     "user_tz": -330
    },
    "id": "PCGazm1qGtYh",
    "outputId": "1f43f05b-5559-4323-f8e2-b05de2fc17f9"
   },
   "outputs": [
    {
     "data": {
      "text/plain": [
       "False"
      ]
     },
     "execution_count": 22,
     "metadata": {},
     "output_type": "execute_result"
    }
   ],
   "source": [
    "7 == 8"
   ]
  },
  {
   "cell_type": "code",
   "execution_count": 23,
   "metadata": {
    "colab": {
     "base_uri": "https://localhost:8080/"
    },
    "executionInfo": {
     "elapsed": 41,
     "status": "ok",
     "timestamp": 1629707693027,
     "user": {
      "displayName": "Jammi Kunal",
      "photoUrl": "https://lh3.googleusercontent.com/a-/AOh14Gh3zNxRaIiJCAW5h0G9L9Qp58H7sndpCQG7BX15yw=s64",
      "userId": "11190505566074938915"
     },
     "user_tz": -330
    },
    "id": "E9Gde0jsGtYi",
    "outputId": "b070352b-40a4-4184-bb2d-4dba98043e89"
   },
   "outputs": [
    {
     "data": {
      "text/plain": [
       "True"
      ]
     },
     "execution_count": 23,
     "metadata": {},
     "output_type": "execute_result"
    }
   ],
   "source": [
    "4 >= 3.14"
   ]
  },
  {
   "cell_type": "markdown",
   "metadata": {
    "id": "1BnS8kD7GtYi"
   },
   "source": [
    "- The single equals sign is an *assignment*, which doesn't return a value\n",
    "- The double equals sign is a logical statement which return `True` or `False`."
   ]
  },
  {
   "cell_type": "code",
   "execution_count": 24,
   "metadata": {
    "colab": {
     "base_uri": "https://localhost:8080/"
    },
    "executionInfo": {
     "elapsed": 40,
     "status": "ok",
     "timestamp": 1629707693027,
     "user": {
      "displayName": "Jammi Kunal",
      "photoUrl": "https://lh3.googleusercontent.com/a-/AOh14Gh3zNxRaIiJCAW5h0G9L9Qp58H7sndpCQG7BX15yw=s64",
      "userId": "11190505566074938915"
     },
     "user_tz": -330
    },
    "id": "k0IL2OBlGtYj",
    "outputId": "99dc6ade-5af5-475d-87fd-fbde6aa559da"
   },
   "outputs": [
    {
     "data": {
      "text/plain": [
       "False"
      ]
     },
     "execution_count": 24,
     "metadata": {},
     "output_type": "execute_result"
    }
   ],
   "source": [
    "a = 0.01\n",
    "b = 0.1**2\n",
    "a == b"
   ]
  },
  {
   "cell_type": "code",
   "execution_count": 25,
   "metadata": {
    "colab": {
     "base_uri": "https://localhost:8080/"
    },
    "executionInfo": {
     "elapsed": 39,
     "status": "ok",
     "timestamp": 1629707693027,
     "user": {
      "displayName": "Jammi Kunal",
      "photoUrl": "https://lh3.googleusercontent.com/a-/AOh14Gh3zNxRaIiJCAW5h0G9L9Qp58H7sndpCQG7BX15yw=s64",
      "userId": "11190505566074938915"
     },
     "user_tz": -330
    },
    "id": "i_4HPXpxGtYk",
    "outputId": "d7ff81f6-3d23-42a9-f571-ee7bc9aad604"
   },
   "outputs": [
    {
     "data": {
      "text/plain": [
       "0.01"
      ]
     },
     "execution_count": 25,
     "metadata": {},
     "output_type": "execute_result"
    }
   ],
   "source": [
    "c = 4.5\n",
    "c = a \n",
    "c"
   ]
  },
  {
   "cell_type": "markdown",
   "metadata": {
    "id": "PGkeZFk_GtYl"
   },
   "source": [
    "### Logical Operators\n",
    "Comparisons can be modified and strung together with the logic operator keywords `and`, `not` and `or`. "
   ]
  },
  {
   "cell_type": "code",
   "execution_count": 26,
   "metadata": {
    "colab": {
     "base_uri": "https://localhost:8080/"
    },
    "executionInfo": {
     "elapsed": 39,
     "status": "ok",
     "timestamp": 1629707693028,
     "user": {
      "displayName": "Jammi Kunal",
      "photoUrl": "https://lh3.googleusercontent.com/a-/AOh14Gh3zNxRaIiJCAW5h0G9L9Qp58H7sndpCQG7BX15yw=s64",
      "userId": "11190505566074938915"
     },
     "user_tz": -330
    },
    "id": "X_xoEApVGtYl",
    "outputId": "1189fdd2-7624-4fcf-91da-65a80623e743"
   },
   "outputs": [
    {
     "data": {
      "text/plain": [
       "False"
      ]
     },
     "execution_count": 26,
     "metadata": {},
     "output_type": "execute_result"
    }
   ],
   "source": [
    "7.0 > 4 and -1 >= 0"
   ]
  },
  {
   "cell_type": "code",
   "execution_count": 27,
   "metadata": {
    "colab": {
     "base_uri": "https://localhost:8080/"
    },
    "executionInfo": {
     "elapsed": 39,
     "status": "ok",
     "timestamp": 1629707693028,
     "user": {
      "displayName": "Jammi Kunal",
      "photoUrl": "https://lh3.googleusercontent.com/a-/AOh14Gh3zNxRaIiJCAW5h0G9L9Qp58H7sndpCQG7BX15yw=s64",
      "userId": "11190505566074938915"
     },
     "user_tz": -330
    },
    "id": "YOBFZlTBGtYm",
    "outputId": "39aface1-0908-425a-f365-7faa53f91e16"
   },
   "outputs": [
    {
     "data": {
      "text/plain": [
       "True"
      ]
     },
     "execution_count": 27,
     "metadata": {},
     "output_type": "execute_result"
    }
   ],
   "source": [
    "5 < 4 or 1 != 2 "
   ]
  },
  {
   "cell_type": "code",
   "execution_count": 28,
   "metadata": {
    "colab": {
     "base_uri": "https://localhost:8080/"
    },
    "executionInfo": {
     "elapsed": 38,
     "status": "ok",
     "timestamp": 1629707693028,
     "user": {
      "displayName": "Jammi Kunal",
      "photoUrl": "https://lh3.googleusercontent.com/a-/AOh14Gh3zNxRaIiJCAW5h0G9L9Qp58H7sndpCQG7BX15yw=s64",
      "userId": "11190505566074938915"
     },
     "user_tz": -330
    },
    "id": "hc7QP99mGtYm",
    "outputId": "31639ab5-c7f4-4fc8-ae51-003d84e57ce6"
   },
   "outputs": [
    {
     "data": {
      "text/plain": [
       "True"
      ]
     },
     "execution_count": 28,
     "metadata": {},
     "output_type": "execute_result"
    }
   ],
   "source": [
    "not 7.5 < 0.9"
   ]
  },
  {
   "cell_type": "code",
   "execution_count": 29,
   "metadata": {
    "colab": {
     "base_uri": "https://localhost:8080/"
    },
    "executionInfo": {
     "elapsed": 38,
     "status": "ok",
     "timestamp": 1629707693029,
     "user": {
      "displayName": "Jammi Kunal",
      "photoUrl": "https://lh3.googleusercontent.com/a-/AOh14Gh3zNxRaIiJCAW5h0G9L9Qp58H7sndpCQG7BX15yw=s64",
      "userId": "11190505566074938915"
     },
     "user_tz": -330
    },
    "id": "gHuRsNAUGtYn",
    "outputId": "c71b137f-1f14-4996-8360-8132b5a91574"
   },
   "outputs": [
    {
     "data": {
      "text/plain": [
       "True"
      ]
     },
     "execution_count": 29,
     "metadata": {},
     "output_type": "execute_result"
    }
   ],
   "source": [
    "not 7.5 < 0.9 or 4 == 4"
   ]
  },
  {
   "cell_type": "code",
   "execution_count": 30,
   "metadata": {
    "colab": {
     "base_uri": "https://localhost:8080/"
    },
    "executionInfo": {
     "elapsed": 37,
     "status": "ok",
     "timestamp": 1629707693029,
     "user": {
      "displayName": "Jammi Kunal",
      "photoUrl": "https://lh3.googleusercontent.com/a-/AOh14Gh3zNxRaIiJCAW5h0G9L9Qp58H7sndpCQG7BX15yw=s64",
      "userId": "11190505566074938915"
     },
     "user_tz": -330
    },
    "id": "kZF0HQ2eGtYn",
    "outputId": "6c03b919-ffa6-4fd0-963c-59d3c28f3f7c"
   },
   "outputs": [
    {
     "data": {
      "text/plain": [
       "False"
      ]
     },
     "execution_count": 30,
     "metadata": {},
     "output_type": "execute_result"
    }
   ],
   "source": [
    "not(7.5 < 0.9 or 4 == 4)"
   ]
  },
  {
   "cell_type": "code",
   "execution_count": 31,
   "metadata": {
    "colab": {
     "base_uri": "https://localhost:8080/"
    },
    "executionInfo": {
     "elapsed": 35,
     "status": "ok",
     "timestamp": 1629707693029,
     "user": {
      "displayName": "Jammi Kunal",
      "photoUrl": "https://lh3.googleusercontent.com/a-/AOh14Gh3zNxRaIiJCAW5h0G9L9Qp58H7sndpCQG7BX15yw=s64",
      "userId": "11190505566074938915"
     },
     "user_tz": -330
    },
    "id": "Pn2-2kFNGtYo",
    "outputId": "2b5fc81a-369a-4cf5-f3ce-da416d2bff90"
   },
   "outputs": [
    {
     "data": {
      "text/plain": [
       "True"
      ]
     },
     "execution_count": 31,
     "metadata": {},
     "output_type": "execute_result"
    }
   ],
   "source": [
    "not(7.5 < 0.9 and 4 == 4)"
   ]
  },
  {
   "cell_type": "markdown",
   "metadata": {
    "id": "eRB55O1RGtYp"
   },
   "source": [
    "# Strings\n",
    "\n",
    "- A Python string onject is an ordered, immutable\n",
    "sequence of characters.\n",
    "\n",
    "- To define a  variable containing some string, enclose the text in either single or double quotes.\n",
    "\n",
    "- Strings used to store text data in python"
   ]
  },
  {
   "cell_type": "code",
   "execution_count": null,
   "metadata": {
    "id": "izYQPb5uGtYp",
    "outputId": "9a8acb13-c7be-4c58-8ad1-621b1deb7c4a"
   },
   "outputs": [
    {
     "name": "stdout",
     "output_type": "stream",
     "text": [
      "Sairam, I am Sampath!\n"
     ]
    }
   ],
   "source": [
    "greet = 'Sairam, I am Sampath!'\n",
    "print(greet)"
   ]
  },
  {
   "cell_type": "code",
   "execution_count": null,
   "metadata": {
    "id": "H5YNTL5RGtYq",
    "outputId": "0f9c6fe9-3b83-4abb-e0c8-bed34f8ccd37"
   },
   "outputs": [
    {
     "data": {
      "text/plain": [
       "str"
      ]
     },
     "execution_count": 13,
     "metadata": {},
     "output_type": "execute_result"
    }
   ],
   "source": [
    "type(greet)"
   ]
  },
  {
   "cell_type": "code",
   "execution_count": null,
   "metadata": {
    "id": "dk66IfVkGtYq",
    "outputId": "3c02e617-f9b0-475d-e786-8203218a5a33"
   },
   "outputs": [
    {
     "data": {
      "text/plain": [
       "'Sairam Sampath'"
      ]
     },
     "execution_count": 3,
     "metadata": {},
     "output_type": "execute_result"
    }
   ],
   "source": [
    "# + operator useful to perform adding strings\n",
    "'Sairam' +' ' + 'Sampath'"
   ]
  },
  {
   "cell_type": "code",
   "execution_count": null,
   "metadata": {
    "id": "s6LFHao7GtYr",
    "outputId": "fc10f573-3272-4cef-ce2c-bfee884beb5f"
   },
   "outputs": [
    {
     "data": {
      "text/plain": [
       "'Sairam Sampath'"
      ]
     },
     "execution_count": 5,
     "metadata": {},
     "output_type": "execute_result"
    }
   ],
   "source": [
    "'Sairam '  'Sampath'"
   ]
  },
  {
   "cell_type": "markdown",
   "metadata": {
    "id": "Gc402eQ1GtYr"
   },
   "source": [
    "Python doesn't place any restriction on the length of a line. However, it's recommended that the maximum length of each line string of length upto 79 characters. To break up a string over two or more lines of code, use the line continuation character, \"\\\" or enclose the string literal in parentheses."
   ]
  },
  {
   "cell_type": "code",
   "execution_count": null,
   "metadata": {
    "id": "Lh3BpAs0GtYs"
   },
   "outputs": [],
   "source": [
    "# Multiple lines\n",
    "long_string = 'Sairam brothers, we continue to learning python,'\\\n",
    "    'during the course, we also solve problems from MDSC-101,102 and 103...'"
   ]
  },
  {
   "cell_type": "code",
   "execution_count": null,
   "metadata": {
    "id": "TcntmhipGtYs",
    "outputId": "1c9e3f84-e8f4-4c9c-e781-4797b1f5c8fb"
   },
   "outputs": [
    {
     "data": {
      "text/plain": [
       "'Sairam brothers, we continue to learning python,during the course, we also solve problems from MDSC-101,102 and 103...'"
      ]
     },
     "execution_count": 18,
     "metadata": {},
     "output_type": "execute_result"
    }
   ],
   "source": [
    "long_string"
   ]
  },
  {
   "cell_type": "code",
   "execution_count": null,
   "metadata": {
    "id": "K0UHSZMiGtYt",
    "outputId": "cdbd31b2-6286-493e-fc06-faddf149b650"
   },
   "outputs": [
    {
     "data": {
      "text/plain": [
       "''"
      ]
     },
     "execution_count": 11,
     "metadata": {},
     "output_type": "execute_result"
    }
   ],
   "source": [
    "# empty string\n",
    "s = ''\n",
    "s"
   ]
  },
  {
   "cell_type": "code",
   "execution_count": null,
   "metadata": {
    "id": "CepDLcJiGtYt",
    "outputId": "a0400fdd-80f8-40a4-a7e9-83de5e010c9d"
   },
   "outputs": [
    {
     "data": {
      "text/plain": [
       "'42'"
      ]
     },
     "execution_count": 12,
     "metadata": {},
     "output_type": "execute_result"
    }
   ],
   "source": [
    "# Converting int to string\n",
    "str(42)"
   ]
  },
  {
   "cell_type": "code",
   "execution_count": null,
   "metadata": {
    "id": "e4VhSLQNGtYu",
    "outputId": "4cf84375-46e1-489b-c82a-84bf2e74fe2f"
   },
   "outputs": [
    {
     "data": {
      "text/plain": [
       "'0.034'"
      ]
     },
     "execution_count": 15,
     "metadata": {},
     "output_type": "execute_result"
    }
   ],
   "source": [
    "str(3.4e-2)"
   ]
  },
  {
   "cell_type": "code",
   "execution_count": null,
   "metadata": {
    "id": "S8iZiQ6RGtYu",
    "outputId": "5f73a250-249b-4d49-c8d2-768c6dc50dc8"
   },
   "outputs": [
    {
     "data": {
      "text/plain": [
       "'340.0'"
      ]
     },
     "execution_count": 16,
     "metadata": {},
     "output_type": "execute_result"
    }
   ],
   "source": [
    "str(3.4e2)"
   ]
  },
  {
   "cell_type": "markdown",
   "metadata": {
    "id": "clboke4fGtYv"
   },
   "source": [
    "### Escape Sequences\n",
    "- Do you want include both quotes in a string?\n",
    "- Do you want include more than one line in the string?\n",
    "\n",
    "This case is handled by special escape sequences indicated by a\n",
    "backslash, \\. \n",
    "\n",
    "### Common Python escape sequences\n",
    "|Escape sequence | Meaning         |\n",
    "| -------------- | -------         |\n",
    "|\\'              | Single quote(') |\n",
    "|\\\"              | Double quote(\") |\n",
    "|\\n              | Linefeed(LF)    |\n",
    "|\\r              | Carriage return |\n",
    "|\\t              | Horizontal tab  |\n",
    "|\\b              | Backspace       |\n",
    "|\\\\              | The backslach character itself |\n",
    "|\\u, \\U, \\N{}    | Unicode character|\n",
    "|\\x              | Hex-encoded byte |"
   ]
  },
  {
   "cell_type": "code",
   "execution_count": null,
   "metadata": {
    "id": "Q8ofxuMKGtYw",
    "outputId": "40ae40be-687d-4a52-ae9d-0c7d0a418bfd"
   },
   "outputs": [
    {
     "data": {
      "text/plain": [
       "'He said, \"This parrot\\'s dead.\"'"
      ]
     },
     "execution_count": 19,
     "metadata": {},
     "output_type": "execute_result"
    }
   ],
   "source": [
    "sentence = \"He said, \\\"This parrot's dead.\\\"\"\n",
    "sentence"
   ]
  },
  {
   "cell_type": "code",
   "execution_count": null,
   "metadata": {
    "id": "WGR6Xyp8GtYx",
    "outputId": "4d17d243-15fe-4fb6-9f0a-c487b5cdb929"
   },
   "outputs": [
    {
     "name": "stdout",
     "output_type": "stream",
     "text": [
      "He said, \"This parrot's dead.\"\n"
     ]
    }
   ],
   "source": [
    "print(sentence)"
   ]
  },
  {
   "cell_type": "code",
   "execution_count": null,
   "metadata": {
    "id": "OgcWwqdNGtYx",
    "outputId": "4cfef030-1955-408f-f183-4946865de911"
   },
   "outputs": [
    {
     "data": {
      "text/plain": [
       "'MDSC-101\\nMDSC-102\\nMDSC-103\\nMDSC-106'"
      ]
     },
     "execution_count": 21,
     "metadata": {},
     "output_type": "execute_result"
    }
   ],
   "source": [
    "subjects = 'MDSC-101\\nMDSC-102\\nMDSC-103\\nMDSC-106'\n",
    "subjects"
   ]
  },
  {
   "cell_type": "code",
   "execution_count": null,
   "metadata": {
    "id": "QBZlIXYJGtYz",
    "outputId": "5c1f025c-9624-4150-bfa9-d72748acc60a"
   },
   "outputs": [
    {
     "name": "stdout",
     "output_type": "stream",
     "text": [
      "MDSC-101\n",
      "MDSC-102\n",
      "MDSC-103\n",
      "MDSC-106\n"
     ]
    }
   ],
   "source": [
    "print(subjects)"
   ]
  },
  {
   "cell_type": "markdown",
   "metadata": {
    "id": "y91Jp_S2GtY0"
   },
   "source": [
    "### Note:\n",
    "\n",
    "-  By typing a variable’s name at the Python shell prompt simply echoes its\n",
    "literal value back to you (in quotes).\n",
    "- To produce the desired string including the proper interpretation of special characters, pass the variable to the `print` built-in function.\n",
    "\n",
    "\n",
    "If you want to define a string to include character sequences such\n",
    "as “\\n” without them being escaped, define a raw string prefixed with `r`."
   ]
  },
  {
   "cell_type": "code",
   "execution_count": 14,
   "metadata": {
    "id": "DfDNC_m9GtY1",
    "outputId": "5c5cf4f7-3e54-40af-f673-350515a2c74d"
   },
   "outputs": [
    {
     "data": {
      "text/plain": [
       "'The escape sequence for a new line \\\\n.'"
      ]
     },
     "execution_count": 14,
     "metadata": {},
     "output_type": "execute_result"
    }
   ],
   "source": [
    "rawstring = r'The escape sequence for a new line \\n.'\n",
    "rawstring"
   ]
  },
  {
   "cell_type": "code",
   "execution_count": null,
   "metadata": {
    "id": "KWVdoPBYGtY1",
    "outputId": "cb752f00-1923-41cd-8f85-a27f487a30ce"
   },
   "outputs": [
    {
     "name": "stdout",
     "output_type": "stream",
     "text": [
      "The escape sequence for a new line \\n.\n"
     ]
    }
   ],
   "source": [
    "print(rawstring)"
   ]
  },
  {
   "cell_type": "markdown",
   "metadata": {
    "id": "zImlnQ90GtY2"
   },
   "source": [
    "### Triple-quoted strings\n",
    "When defining a block of text including several line endings it is often inconvenient to\n",
    "use \\n repeatedly. This can be avoided by using _triple-quoted_ strings: new lines defined\n",
    "within strings delimited by \"\"\" and ''' are preserved in the string."
   ]
  },
  {
   "cell_type": "code",
   "execution_count": null,
   "metadata": {
    "id": "S3JgizS3GtY2",
    "outputId": "3ebc6955-32f5-4969-e5e1-e7e7ccd33d19"
   },
   "outputs": [
    {
     "data": {
      "text/plain": [
       "'\\nHello!!\\nHow are you?\\nSairam.\\n'"
      ]
     },
     "execution_count": 28,
     "metadata": {},
     "output_type": "execute_result"
    }
   ],
   "source": [
    "a = \"\"\"\n",
    "Hello!!\n",
    "How are you?\n",
    "Sairam.\n",
    "\"\"\"\n",
    "a"
   ]
  },
  {
   "cell_type": "code",
   "execution_count": null,
   "metadata": {
    "id": "XFRvc6q-GtY3",
    "outputId": "29b60d1e-72c5-48d6-a85c-9fb35250b421"
   },
   "outputs": [
    {
     "name": "stdout",
     "output_type": "stream",
     "text": [
      "\n",
      "Hello!!\n",
      "How are you?\n",
      "Sairam.\n",
      "\n"
     ]
    }
   ],
   "source": [
    "print(a)"
   ]
  },
  {
   "cell_type": "code",
   "execution_count": 19,
   "metadata": {
    "id": "qzuHfTiiGtY3",
    "outputId": "133c97de-f241-4ee6-c421-f6c46d0be078"
   },
   "outputs": [
    {
     "name": "stdout",
     "output_type": "stream",
     "text": [
      "dada\b\n"
     ]
    }
   ],
   "source": [
    "print('dada\\b')"
   ]
  },
  {
   "cell_type": "markdown",
   "metadata": {
    "id": "aljWmxp6GtY4"
   },
   "source": [
    "## Indexing and Slicing Strings\n",
    "- *Indexing* a string returns a single character at a given location. Like\n",
    "all sequences in Python, strings are indexed with the first character having the index 0;\n",
    "- *Slicing* a string, $s[i:j],$ produces a substring of a string between the characters at two\n",
    "indexes, including the first (i) but excluding the second (j);\n",
    "\n"
   ]
  },
  {
   "cell_type": "code",
   "execution_count": null,
   "metadata": {
    "id": "ao3u2wIEGtY4",
    "outputId": "a6bd1a3d-0a97-476f-d280-2ad82ab9dbf4"
   },
   "outputs": [
    {
     "data": {
      "text/plain": [
       "'K'"
      ]
     },
     "execution_count": 33,
     "metadata": {},
     "output_type": "execute_result"
    }
   ],
   "source": [
    "a = 'Knight'\n",
    "a[0]"
   ]
  },
  {
   "cell_type": "code",
   "execution_count": null,
   "metadata": {
    "id": "HyQWX6bKGtY5",
    "outputId": "97061d9c-bb14-4f05-b22e-238e4079d34f"
   },
   "outputs": [
    {
     "data": {
      "text/plain": [
       "'t'"
      ]
     },
     "execution_count": 34,
     "metadata": {},
     "output_type": "execute_result"
    }
   ],
   "source": [
    "a[-1]"
   ]
  },
  {
   "cell_type": "code",
   "execution_count": null,
   "metadata": {
    "id": "u5c6OBTOGtY5",
    "outputId": "fc265aab-a28a-42d4-8986-238e45c5c75f"
   },
   "outputs": [
    {
     "data": {
      "text/plain": [
       "'i'"
      ]
     },
     "execution_count": 35,
     "metadata": {},
     "output_type": "execute_result"
    }
   ],
   "source": [
    "a[-4]"
   ]
  },
  {
   "cell_type": "code",
   "execution_count": null,
   "metadata": {
    "id": "QZ2cOuSOGtY6",
    "outputId": "c04049dd-4d46-498a-bb3c-a0e705dd7ffe"
   },
   "outputs": [
    {
     "ename": "IndexError",
     "evalue": "string index out of range",
     "output_type": "error",
     "traceback": [
      "\u001b[1;31m---------------------------------------------------------------------------\u001b[0m",
      "\u001b[1;31mIndexError\u001b[0m                                Traceback (most recent call last)",
      "\u001b[1;32m<ipython-input-36-84c1e027215d>\u001b[0m in \u001b[0;36m<module>\u001b[1;34m\u001b[0m\n\u001b[1;32m----> 1\u001b[1;33m \u001b[0ma\u001b[0m\u001b[1;33m[\u001b[0m\u001b[1;36m6\u001b[0m\u001b[1;33m]\u001b[0m\u001b[1;33m\u001b[0m\u001b[1;33m\u001b[0m\u001b[0m\n\u001b[0m",
      "\u001b[1;31mIndexError\u001b[0m: string index out of range"
     ]
    }
   ],
   "source": [
    "a[6]"
   ]
  },
  {
   "cell_type": "code",
   "execution_count": null,
   "metadata": {
    "id": "O7p6Q6aCGtY6",
    "outputId": "56da7a3a-306b-4a4c-ddec-9054d8d1a612"
   },
   "outputs": [
    {
     "data": {
      "text/plain": [
       "'ni'"
      ]
     },
     "execution_count": 37,
     "metadata": {},
     "output_type": "execute_result"
    }
   ],
   "source": [
    "a[1:3]"
   ]
  },
  {
   "cell_type": "code",
   "execution_count": null,
   "metadata": {
    "id": "o-iZK6C_GtY7",
    "outputId": "29e8814b-b8c2-49ea-b60d-ea58b1d93aff"
   },
   "outputs": [
    {
     "data": {
      "text/plain": [
       "'Kni'"
      ]
     },
     "execution_count": 38,
     "metadata": {},
     "output_type": "execute_result"
    }
   ],
   "source": [
    "a[:3]"
   ]
  },
  {
   "cell_type": "code",
   "execution_count": null,
   "metadata": {
    "id": "Ey0aHNnKGtY7",
    "outputId": "5da7987b-29c2-46f8-b71f-391b2d019f51"
   },
   "outputs": [
    {
     "data": {
      "text/plain": [
       "'ght'"
      ]
     },
     "execution_count": 39,
     "metadata": {},
     "output_type": "execute_result"
    }
   ],
   "source": [
    "a[3:]"
   ]
  },
  {
   "cell_type": "code",
   "execution_count": null,
   "metadata": {
    "id": "yeOTgDtGGtY8",
    "outputId": "5ba66114-a43f-4a71-99c9-4c6c3d368dc5"
   },
   "outputs": [
    {
     "data": {
      "text/plain": [
       "'Knight'"
      ]
     },
     "execution_count": 40,
     "metadata": {},
     "output_type": "execute_result"
    }
   ],
   "source": [
    "a[:]"
   ]
  },
  {
   "cell_type": "code",
   "execution_count": null,
   "metadata": {
    "id": "r-g2uBg9GtY8",
    "outputId": "99864da3-4843-4952-adfe-ed890c5b5ab4"
   },
   "outputs": [
    {
     "data": {
      "text/plain": [
       "True"
      ]
     },
     "execution_count": 42,
     "metadata": {},
     "output_type": "execute_result"
    }
   ],
   "source": [
    "a[:3]+a[3:] == a"
   ]
  },
  {
   "cell_type": "code",
   "execution_count": null,
   "metadata": {
    "id": "zcp1X6UyGtY9",
    "outputId": "cc6c0d0a-9c29-4e72-9ce6-df866a1bc122"
   },
   "outputs": [
    {
     "data": {
      "text/plain": [
       "'ght'"
      ]
     },
     "execution_count": 43,
     "metadata": {},
     "output_type": "execute_result"
    }
   ],
   "source": [
    "a[3:10]"
   ]
  },
  {
   "cell_type": "code",
   "execution_count": null,
   "metadata": {
    "id": "HJkOi8n-GtY9",
    "outputId": "f96c2320-bd17-435a-ad4b-4209b989c74f"
   },
   "outputs": [
    {
     "data": {
      "text/plain": [
       "True"
      ]
     },
     "execution_count": 44,
     "metadata": {},
     "output_type": "execute_result"
    }
   ],
   "source": [
    "# To test if a string contains a given substring\n",
    "'Kni' in a"
   ]
  },
  {
   "cell_type": "code",
   "execution_count": null,
   "metadata": {
    "id": "c4KFRgiJGtY-",
    "outputId": "6449c922-36d7-4892-81b0-57055c77614e"
   },
   "outputs": [
    {
     "data": {
      "text/plain": [
       "False"
      ]
     },
     "execution_count": 45,
     "metadata": {},
     "output_type": "execute_result"
    }
   ],
   "source": [
    "'kni' in a"
   ]
  },
  {
   "cell_type": "code",
   "execution_count": null,
   "metadata": {
    "id": "sQ6gKiw5GtY_",
    "outputId": "1167d5b6-a491-48ca-d301-83c8c5b7286a"
   },
   "outputs": [
    {
     "data": {
      "text/plain": [
       "['__add__',\n",
       " '__class__',\n",
       " '__contains__',\n",
       " '__delattr__',\n",
       " '__dir__',\n",
       " '__doc__',\n",
       " '__eq__',\n",
       " '__format__',\n",
       " '__ge__',\n",
       " '__getattribute__',\n",
       " '__getitem__',\n",
       " '__getnewargs__',\n",
       " '__gt__',\n",
       " '__hash__',\n",
       " '__init__',\n",
       " '__init_subclass__',\n",
       " '__iter__',\n",
       " '__le__',\n",
       " '__len__',\n",
       " '__lt__',\n",
       " '__mod__',\n",
       " '__mul__',\n",
       " '__ne__',\n",
       " '__new__',\n",
       " '__reduce__',\n",
       " '__reduce_ex__',\n",
       " '__repr__',\n",
       " '__rmod__',\n",
       " '__rmul__',\n",
       " '__setattr__',\n",
       " '__sizeof__',\n",
       " '__str__',\n",
       " '__subclasshook__',\n",
       " 'capitalize',\n",
       " 'casefold',\n",
       " 'center',\n",
       " 'count',\n",
       " 'encode',\n",
       " 'endswith',\n",
       " 'expandtabs',\n",
       " 'find',\n",
       " 'format',\n",
       " 'format_map',\n",
       " 'index',\n",
       " 'isalnum',\n",
       " 'isalpha',\n",
       " 'isascii',\n",
       " 'isdecimal',\n",
       " 'isdigit',\n",
       " 'isidentifier',\n",
       " 'islower',\n",
       " 'isnumeric',\n",
       " 'isprintable',\n",
       " 'isspace',\n",
       " 'istitle',\n",
       " 'isupper',\n",
       " 'join',\n",
       " 'ljust',\n",
       " 'lower',\n",
       " 'lstrip',\n",
       " 'maketrans',\n",
       " 'partition',\n",
       " 'removeprefix',\n",
       " 'removesuffix',\n",
       " 'replace',\n",
       " 'rfind',\n",
       " 'rindex',\n",
       " 'rjust',\n",
       " 'rpartition',\n",
       " 'rsplit',\n",
       " 'rstrip',\n",
       " 'split',\n",
       " 'splitlines',\n",
       " 'startswith',\n",
       " 'strip',\n",
       " 'swapcase',\n",
       " 'title',\n",
       " 'translate',\n",
       " 'upper',\n",
       " 'zfill']"
      ]
     },
     "execution_count": 46,
     "metadata": {},
     "output_type": "execute_result"
    }
   ],
   "source": [
    "dir(a)"
   ]
  },
  {
   "cell_type": "code",
   "execution_count": null,
   "metadata": {
    "id": "gHJ4vuPPGtZA",
    "outputId": "639c0bc5-c903-4dd3-bd2f-72bb7fda4600"
   },
   "outputs": [
    {
     "data": {
      "text/plain": [
       "'Rbr agad'"
      ]
     },
     "execution_count": 50,
     "metadata": {},
     "output_type": "execute_result"
    }
   ],
   "source": [
    "# Stride in a string\n",
    "# To return every kth letter,\n",
    "# set the stride to k.\n",
    "\n",
    "s = 'Robert Langlands'\n",
    "s[::2] # striding 2 over s"
   ]
  },
  {
   "cell_type": "code",
   "execution_count": null,
   "metadata": {
    "id": "MqyzRr5dGtZA",
    "outputId": "bd497937-a3d0-4c80-d789-d6c637704758"
   },
   "outputs": [
    {
     "data": {
      "text/plain": [
       "'Re nas'"
      ]
     },
     "execution_count": 48,
     "metadata": {},
     "output_type": "execute_result"
    }
   ],
   "source": [
    "s[::3]"
   ]
  },
  {
   "cell_type": "code",
   "execution_count": null,
   "metadata": {
    "id": "GsoaspS6GtZB",
    "outputId": "1eed9c1d-9956-44bb-fdd3-06ef753a5ec8"
   },
   "outputs": [
    {
     "data": {
      "text/plain": [
       "'oetLnlns'"
      ]
     },
     "execution_count": 49,
     "metadata": {},
     "output_type": "execute_result"
    }
   ],
   "source": [
    "s[1::2]"
   ]
  },
  {
   "cell_type": "code",
   "execution_count": null,
   "metadata": {
    "id": "Nh8kigSRGtZB",
    "outputId": "b5d86b25-29c4-435d-dcf5-d8bc59c1d215"
   },
   "outputs": [
    {
     "data": {
      "text/plain": [
       "'sdnalgnaL treboR'"
      ]
     },
     "execution_count": 51,
     "metadata": {},
     "output_type": "execute_result"
    }
   ],
   "source": [
    "# Reversing a string\n",
    "s[::-1]"
   ]
  },
  {
   "cell_type": "markdown",
   "metadata": {
    "id": "OLq1cTg3GtZC"
   },
   "source": [
    "## String Methods\n",
    "- Python strings are *immutable* objects.\n",
    "- It's NOT possible to change a string by assignment\n",
    "- New strings can be constructed from existing strings, but only as new objects\n",
    "- To find the number of characters a string contains, we use `len` built-in method"
   ]
  },
  {
   "cell_type": "code",
   "execution_count": 20,
   "metadata": {
    "id": "DMgpNy9FGtZC",
    "outputId": "bf5f3b92-cd95-41d0-d50f-99aa7408991b"
   },
   "outputs": [
    {
     "ename": "TypeError",
     "evalue": "'str' object does not support item assignment",
     "output_type": "error",
     "traceback": [
      "\u001b[1;31m---------------------------------------------------------------------------\u001b[0m",
      "\u001b[1;31mTypeError\u001b[0m                                 Traceback (most recent call last)",
      "\u001b[1;32m<ipython-input-20-b1be7481fc4c>\u001b[0m in \u001b[0;36m<module>\u001b[1;34m\u001b[0m\n\u001b[0;32m      1\u001b[0m \u001b[0ma\u001b[0m \u001b[1;33m=\u001b[0m \u001b[1;34m'Knight'\u001b[0m\u001b[1;33m\u001b[0m\u001b[1;33m\u001b[0m\u001b[0m\n\u001b[1;32m----> 2\u001b[1;33m \u001b[0ma\u001b[0m\u001b[1;33m[\u001b[0m\u001b[1;36m0\u001b[0m\u001b[1;33m]\u001b[0m \u001b[1;33m=\u001b[0m \u001b[1;34m'b'\u001b[0m\u001b[1;33m\u001b[0m\u001b[1;33m\u001b[0m\u001b[0m\n\u001b[0m",
      "\u001b[1;31mTypeError\u001b[0m: 'str' object does not support item assignment"
     ]
    }
   ],
   "source": [
    "a = 'Knight'\n",
    "a[0] = 'b'"
   ]
  },
  {
   "cell_type": "code",
   "execution_count": 26,
   "metadata": {
    "id": "KCuOd5kWGtZD",
    "outputId": "3466d387-bf34-4d01-9d36-cabff4a1237f"
   },
   "outputs": [
    {
     "data": {
      "text/plain": [
       "'Knight King King King King King King'"
      ]
     },
     "execution_count": 26,
     "metadata": {},
     "output_type": "execute_result"
    }
   ],
   "source": [
    "a += ' King'\n",
    "a"
   ]
  },
  {
   "cell_type": "code",
   "execution_count": null,
   "metadata": {
    "id": "rggt0kfoGtZD",
    "outputId": "d6535564-ae5d-41de-8c32-7faf4dc6a407"
   },
   "outputs": [
    {
     "data": {
      "text/plain": [
       "'Knight King'"
      ]
     },
     "execution_count": 54,
     "metadata": {},
     "output_type": "execute_result"
    }
   ],
   "source": [
    "a"
   ]
  },
  {
   "cell_type": "code",
   "execution_count": null,
   "metadata": {
    "id": "CVn63EOrGtZE",
    "outputId": "810f9ab6-c9f3-4089-bab0-968e4b76aa4d"
   },
   "outputs": [
    {
     "data": {
      "text/plain": [
       "16"
      ]
     },
     "execution_count": 56,
     "metadata": {},
     "output_type": "execute_result"
    }
   ],
   "source": [
    "len(a)"
   ]
  },
  {
   "cell_type": "code",
   "execution_count": null,
   "metadata": {
    "id": "GR58hPqWGtZF",
    "outputId": "34ffced1-fc0d-47cf-cd42-b3aefcea1ba1"
   },
   "outputs": [
    {
     "data": {
      "text/plain": [
       "'Knight King King'"
      ]
     },
     "execution_count": 57,
     "metadata": {},
     "output_type": "execute_result"
    }
   ],
   "source": [
    "a"
   ]
  },
  {
   "cell_type": "markdown",
   "metadata": {
    "id": "LQ1TMMfuGtZG"
   },
   "source": [
    "### Some common string Methods\n",
    "![Drag Racing](2021-08-22.png)"
   ]
  },
  {
   "cell_type": "code",
   "execution_count": null,
   "metadata": {
    "id": "4CTSHHjxGtZG",
    "outputId": "565151f8-fd3a-423a-a753-4e8420adb435"
   },
   "outputs": [
    {
     "data": {
      "text/plain": [
       "['__add__',\n",
       " '__class__',\n",
       " '__contains__',\n",
       " '__delattr__',\n",
       " '__dir__',\n",
       " '__doc__',\n",
       " '__eq__',\n",
       " '__format__',\n",
       " '__ge__',\n",
       " '__getattribute__',\n",
       " '__getitem__',\n",
       " '__getnewargs__',\n",
       " '__gt__',\n",
       " '__hash__',\n",
       " '__init__',\n",
       " '__init_subclass__',\n",
       " '__iter__',\n",
       " '__le__',\n",
       " '__len__',\n",
       " '__lt__',\n",
       " '__mod__',\n",
       " '__mul__',\n",
       " '__ne__',\n",
       " '__new__',\n",
       " '__reduce__',\n",
       " '__reduce_ex__',\n",
       " '__repr__',\n",
       " '__rmod__',\n",
       " '__rmul__',\n",
       " '__setattr__',\n",
       " '__sizeof__',\n",
       " '__str__',\n",
       " '__subclasshook__',\n",
       " 'capitalize',\n",
       " 'casefold',\n",
       " 'center',\n",
       " 'count',\n",
       " 'encode',\n",
       " 'endswith',\n",
       " 'expandtabs',\n",
       " 'find',\n",
       " 'format',\n",
       " 'format_map',\n",
       " 'index',\n",
       " 'isalnum',\n",
       " 'isalpha',\n",
       " 'isascii',\n",
       " 'isdecimal',\n",
       " 'isdigit',\n",
       " 'isidentifier',\n",
       " 'islower',\n",
       " 'isnumeric',\n",
       " 'isprintable',\n",
       " 'isspace',\n",
       " 'istitle',\n",
       " 'isupper',\n",
       " 'join',\n",
       " 'ljust',\n",
       " 'lower',\n",
       " 'lstrip',\n",
       " 'maketrans',\n",
       " 'partition',\n",
       " 'removeprefix',\n",
       " 'removesuffix',\n",
       " 'replace',\n",
       " 'rfind',\n",
       " 'rindex',\n",
       " 'rjust',\n",
       " 'rpartition',\n",
       " 'rsplit',\n",
       " 'rstrip',\n",
       " 'split',\n",
       " 'splitlines',\n",
       " 'startswith',\n",
       " 'strip',\n",
       " 'swapcase',\n",
       " 'title',\n",
       " 'translate',\n",
       " 'upper',\n",
       " 'zfill']"
      ]
     },
     "execution_count": 58,
     "metadata": {},
     "output_type": "execute_result"
    }
   ],
   "source": [
    "dir(a)"
   ]
  },
  {
   "cell_type": "code",
   "execution_count": null,
   "metadata": {
    "id": "MfRCydpdGtZH",
    "outputId": "2f42ec90-6587-42cd-e216-ff05c825b7d3"
   },
   "outputs": [
    {
     "data": {
      "text/plain": [
       "'knight king king'"
      ]
     },
     "execution_count": 59,
     "metadata": {},
     "output_type": "execute_result"
    }
   ],
   "source": [
    "a.lower()"
   ]
  },
  {
   "cell_type": "code",
   "execution_count": null,
   "metadata": {
    "id": "CD9eQE_eGtZI",
    "outputId": "722a01d5-d79f-4f15-fae8-e697b17dca1f"
   },
   "outputs": [
    {
     "data": {
      "text/plain": [
       "'KNIGHT KING KING'"
      ]
     },
     "execution_count": 60,
     "metadata": {},
     "output_type": "execute_result"
    }
   ],
   "source": [
    "a.upper()"
   ]
  },
  {
   "cell_type": "code",
   "execution_count": null,
   "metadata": {
    "id": "DWzotCD2GtZI",
    "outputId": "204801f0-1678-49e6-d2f2-d340fce3dd84"
   },
   "outputs": [
    {
     "data": {
      "text/plain": [
       "'Knight King King'"
      ]
     },
     "execution_count": 62,
     "metadata": {},
     "output_type": "execute_result"
    }
   ],
   "source": [
    "a"
   ]
  },
  {
   "cell_type": "code",
   "execution_count": null,
   "metadata": {
    "id": "_p6UyWA8GtZJ",
    "outputId": "3f30c69f-3b85-43bd-d086-9284862922ed"
   },
   "outputs": [
    {
     "data": {
      "text/plain": [
       "'Knight Queen Queen'"
      ]
     },
     "execution_count": 64,
     "metadata": {},
     "output_type": "execute_result"
    }
   ],
   "source": [
    "a.replace('King','Queen')"
   ]
  },
  {
   "cell_type": "code",
   "execution_count": null,
   "metadata": {
    "id": "yP66oog-GtZJ",
    "outputId": "41d89b99-3165-4ecc-d58a-850d2f73618b"
   },
   "outputs": [
    {
     "data": {
      "text/plain": [
       "['Knight', 'King', 'King']"
      ]
     },
     "execution_count": 65,
     "metadata": {},
     "output_type": "execute_result"
    }
   ],
   "source": [
    "a.split()"
   ]
  },
  {
   "cell_type": "markdown",
   "metadata": {
    "id": "k46fA_RoGtZK"
   },
   "source": [
    "## The `print` function\n",
    "\n",
    "- In Python 3, `print` is a built-in function\n",
    "- We discuss two standard string formating, number formatting methods\n"
   ]
  },
  {
   "cell_type": "code",
   "execution_count": null,
   "metadata": {
    "id": "3T9IX_LJGtZK",
    "outputId": "1550828b-1841-4086-d4f2-0fad30045e88"
   },
   "outputs": [
    {
     "data": {
      "text/plain": [
       "'2 plus 3 equals five'"
      ]
     },
     "execution_count": 66,
     "metadata": {},
     "output_type": "execute_result"
    }
   ],
   "source": [
    "'{} plus {} equals {}'.format(2,3,'five')"
   ]
  },
  {
   "cell_type": "code",
   "execution_count": 28,
   "metadata": {
    "id": "L18pTVMWGtZL",
    "outputId": "ff91f0bc-00ce-4a81-ac5b-616e326c067d"
   },
   "outputs": [
    {
     "name": "stdout",
     "output_type": "stream",
     "text": [
      "a=       134\n"
     ]
    }
   ],
   "source": [
    "a =134\n",
    "print('a={0:10d}'.format(a)) #decimal\n"
   ]
  },
  {
   "cell_type": "code",
   "execution_count": null,
   "metadata": {
    "id": "kEgv7As2GtZL",
    "outputId": "03ee812e-9d40-492a-f404-454aa218ee3e"
   },
   "outputs": [
    {
     "data": {
      "text/plain": [
       "'a=  10000110'"
      ]
     },
     "execution_count": 68,
     "metadata": {},
     "output_type": "execute_result"
    }
   ],
   "source": [
    "'a={0:10b}'.format(a) #binary"
   ]
  },
  {
   "cell_type": "code",
   "execution_count": 31,
   "metadata": {
    "id": "T5jtn6u1GtZM",
    "outputId": "55cd1571-d348-4811-fe84-8e0c17f2bb91"
   },
   "outputs": [
    {
     "data": {
      "text/plain": [
       "'a=  206'"
      ]
     },
     "execution_count": 31,
     "metadata": {},
     "output_type": "execute_result"
    }
   ],
   "source": [
    "'a={:5o}'.format(a)"
   ]
  },
  {
   "cell_type": "code",
   "execution_count": null,
   "metadata": {
    "id": "WvF72c0vGtZM",
    "outputId": "ce773121-f365-4ac4-8b64-938eb9686892"
   },
   "outputs": [
    {
     "name": "stdout",
     "output_type": "stream",
     "text": [
      "-4510\n",
      "+1001\n",
      "=-3026\n"
     ]
    }
   ],
   "source": [
    "print('{0:5d}\\n{1:+5d}\\n={2:+3d}'.format(-4510,1001,-3026))"
   ]
  },
  {
   "cell_type": "code",
   "execution_count": 32,
   "metadata": {
    "id": "lxI02nImGtZN",
    "outputId": "36386c07-c517-40ed-c21b-31eb2ef30093"
   },
   "outputs": [
    {
     "data": {
      "text/plain": [
       "'1.464e-07'"
      ]
     },
     "execution_count": 32,
     "metadata": {},
     "output_type": "execute_result"
    }
   ],
   "source": [
    "a = 1.464e-7\n",
    "'{0:g}'.format(a)"
   ]
  },
  {
   "cell_type": "code",
   "execution_count": 39,
   "metadata": {
    "id": "XUfLaKkdGtZN",
    "outputId": "4871441f-40b0-46d7-bc3b-0ac312bcb908"
   },
   "outputs": [
    {
     "data": {
      "text/plain": [
       "' 0.0000001464'"
      ]
     },
     "execution_count": 39,
     "metadata": {},
     "output_type": "execute_result"
    }
   ],
   "source": [
    "'{0:13.10f}'.format(a)"
   ]
  },
  {
   "cell_type": "code",
   "execution_count": 47,
   "metadata": {
    "id": "1wBAvaanGtZO",
    "outputId": "959fe18f-e686-4eb3-8a88-5793c942401d"
   },
   "outputs": [
    {
     "data": {
      "text/plain": [
       "'  0.000000'"
      ]
     },
     "execution_count": 47,
     "metadata": {},
     "output_type": "execute_result"
    }
   ],
   "source": [
    "'{0:10f}'.format(a)"
   ]
  },
  {
   "cell_type": "markdown",
   "metadata": {
    "id": "gzkbOJ6fGtZO"
   },
   "source": [
    "## f-strings\n",
    "-  A string literal denoted with a `f` before the quotes can evaluate expressions placed within braces, including references to variables, function calls and comparisons\n",
    "- This provides an expressive and concise way to define string objects\n",
    "- It supported from Python 3.6+"
   ]
  },
  {
   "cell_type": "code",
   "execution_count": null,
   "metadata": {
    "id": "VxpDi9BaGtZP",
    "outputId": "63ccfa1a-b6f1-40de-e240-0adf307410e3"
   },
   "outputs": [
    {
     "data": {
      "text/plain": [
       "'The name Langalands has 10 letters and 0 \"e\" s.'"
      ]
     },
     "execution_count": 80,
     "metadata": {},
     "output_type": "execute_result"
    }
   ],
   "source": [
    "name = 'Langalands'\n",
    "f'The name {name} has {len(name)} letters and {name.lower().count(\"e\")} \"e\" s.'"
   ]
  },
  {
   "cell_type": "code",
   "execution_count": null,
   "metadata": {
    "id": "H1jwAxfgGtZP",
    "outputId": "d2f20fc1-7dde-4c58-944c-a079f3a7ed0e"
   },
   "outputs": [
    {
     "name": "stdout",
     "output_type": "stream",
     "text": [
      "The total distnce travelled: 1097 km\n"
     ]
    }
   ],
   "source": [
    "Hyd_Bangalore = 635\n",
    "Bangalore_Chennai = 462\n",
    "total_distance = Hyd_Bangalore + Bangalore_Chennai\n",
    "print(\"The total distnce travelled:\", total_distance, 'km')"
   ]
  },
  {
   "cell_type": "code",
   "execution_count": null,
   "metadata": {
    "id": "MvNhhxInGtZQ",
    "outputId": "4aaf0f8a-c751-4fd2-e59d-2d07a656888d"
   },
   "outputs": [
    {
     "name": "stdout",
     "output_type": "stream",
     "text": [
      "Total time taken to travel 1097  km is 18.283\n"
     ]
    }
   ],
   "source": [
    "mph = 60\n",
    "time = total_distance / mph\n",
    "print('Total time taken to travel', total_distance, ' km is', round(time,3))"
   ]
  },
  {
   "cell_type": "markdown",
   "metadata": {
    "id": "J5QsJAPLGtZR"
   },
   "source": [
    "# Lists\n",
    "- Python provides data structures for holding an *ordered* list of objects\n",
    "- In languages like C and Fortran such data structure is called an *array* and it can hold only one type of data (for instance, an array of integers)\n",
    "- The array structure in python can hold a mixture of data types\n",
    "- A Python *list* is an ordered, mutable array of objects.\n",
    "- A list is constructed by specifying the objects, separated by commas, between square brackets []\n",
    "- Python list can contain references to any type of object: strings, the various\n",
    "types of numbers, built-in constants such as the boolean value True, and even other lists.\n"
   ]
  },
  {
   "cell_type": "code",
   "execution_count": null,
   "metadata": {
    "id": "bXUKR22AGtZR",
    "outputId": "9651a36a-c760-4c00-d0e1-b139ee9c5b5a"
   },
   "outputs": [
    {
     "data": {
      "text/plain": [
       "[1, 'two', 3.14, 0]"
      ]
     },
     "execution_count": 86,
     "metadata": {},
     "output_type": "execute_result"
    }
   ],
   "source": [
    "list1 = [1, 'two', 3.14, 0]\n",
    "list1"
   ]
  },
  {
   "cell_type": "code",
   "execution_count": null,
   "metadata": {
    "id": "ZiqOO4_YGtZS"
   },
   "outputs": [],
   "source": [
    "a = 4\n",
    "list2 = [2, a, -0.1, list1, True]"
   ]
  },
  {
   "cell_type": "code",
   "execution_count": null,
   "metadata": {
    "id": "8rubjo0gGtZS",
    "outputId": "d2eb80e8-a303-441f-8b6e-6bc51e12a49d"
   },
   "outputs": [
    {
     "data": {
      "text/plain": [
       "[2, 4, -0.1, [1, 'two', 3.14, 0], True]"
      ]
     },
     "execution_count": 88,
     "metadata": {},
     "output_type": "execute_result"
    }
   ],
   "source": [
    "list2"
   ]
  },
  {
   "cell_type": "code",
   "execution_count": null,
   "metadata": {
    "id": "0KbxUnGOGtZS",
    "outputId": "2982949c-e8ad-4f25-bf2e-c1915e445e0d"
   },
   "outputs": [
    {
     "data": {
      "text/plain": [
       "[]"
      ]
     },
     "execution_count": 90,
     "metadata": {},
     "output_type": "execute_result"
    }
   ],
   "source": [
    "# empty list\n",
    "list0 = []\n",
    "list0"
   ]
  },
  {
   "cell_type": "code",
   "execution_count": null,
   "metadata": {
    "id": "wpjLzy-kGtZT",
    "outputId": "9cecd88f-105e-4125-8dde-92a6177d122b"
   },
   "outputs": [
    {
     "data": {
      "text/plain": [
       "4"
      ]
     },
     "execution_count": 91,
     "metadata": {},
     "output_type": "execute_result"
    }
   ],
   "source": [
    "list2[1]"
   ]
  },
  {
   "cell_type": "code",
   "execution_count": null,
   "metadata": {
    "id": "0YmPdqVuGtZU",
    "outputId": "369a38bc-f8ac-43e8-f0fd-454152d0c492"
   },
   "outputs": [
    {
     "data": {
      "text/plain": [
       "[2, 4, -0.1, [1, 'two', 3.14, 0], True]"
      ]
     },
     "execution_count": 92,
     "metadata": {},
     "output_type": "execute_result"
    }
   ],
   "source": [
    "list2"
   ]
  },
  {
   "cell_type": "code",
   "execution_count": null,
   "metadata": {
    "id": "wJcik2ysGtZU",
    "outputId": "bf961bff-e201-4556-e877-2029d589e1ae"
   },
   "outputs": [
    {
     "data": {
      "text/plain": [
       "[1, 'two', 3.14, 0]"
      ]
     },
     "execution_count": 94,
     "metadata": {},
     "output_type": "execute_result"
    }
   ],
   "source": [
    "list2[3]"
   ]
  },
  {
   "cell_type": "code",
   "execution_count": null,
   "metadata": {
    "id": "7vd3N-L9GtZV",
    "outputId": "d594d831-ca15-499b-958f-76c080c2e49d"
   },
   "outputs": [
    {
     "data": {
      "text/plain": [
       "'two'"
      ]
     },
     "execution_count": 95,
     "metadata": {},
     "output_type": "execute_result"
    }
   ],
   "source": [
    "list2[3][1]"
   ]
  },
  {
   "cell_type": "code",
   "execution_count": null,
   "metadata": {
    "id": "8o4GorWnGtZV",
    "outputId": "ca06f488-8e7f-4c47-bda7-97eb3be6cec5"
   },
   "outputs": [
    {
     "data": {
      "text/plain": [
       "'wo'"
      ]
     },
     "execution_count": 96,
     "metadata": {},
     "output_type": "execute_result"
    }
   ],
   "source": [
    "list2[3][1][1:]"
   ]
  },
  {
   "cell_type": "code",
   "execution_count": null,
   "metadata": {
    "id": "wksICEOZGtZW",
    "outputId": "a7698397-ca08-4e94-cc76-561eb5ca6108"
   },
   "outputs": [
    {
     "data": {
      "text/plain": [
       "True"
      ]
     },
     "execution_count": 97,
     "metadata": {},
     "output_type": "execute_result"
    }
   ],
   "source": [
    "4 in list2"
   ]
  },
  {
   "cell_type": "code",
   "execution_count": null,
   "metadata": {
    "id": "qHDcnAc_GtZW",
    "outputId": "3a52ef90-237d-4126-ba1c-04b920cfa4ad"
   },
   "outputs": [
    {
     "data": {
      "text/plain": [
       "False"
      ]
     },
     "execution_count": 98,
     "metadata": {},
     "output_type": "execute_result"
    }
   ],
   "source": [
    "'two' in list2"
   ]
  },
  {
   "cell_type": "code",
   "execution_count": null,
   "metadata": {
    "id": "zDYT3jXUGtZX",
    "outputId": "ab60323e-54ea-40c3-fa1f-0497136d75eb"
   },
   "outputs": [
    {
     "data": {
      "text/plain": [
       "True"
      ]
     },
     "execution_count": 99,
     "metadata": {},
     "output_type": "execute_result"
    }
   ],
   "source": [
    "'two' in list2[3]"
   ]
  },
  {
   "cell_type": "code",
   "execution_count": null,
   "metadata": {
    "id": "ADVsTBC5GtZY",
    "outputId": "b668a133-f5d2-4d36-d3cf-b3c6e2b331e8"
   },
   "outputs": [
    {
     "data": {
      "text/plain": [
       "[1, 2, 'two']"
      ]
     },
     "execution_count": 100,
     "metadata": {},
     "output_type": "execute_result"
    }
   ],
   "source": [
    "q1 = [1, 2, 3]\n",
    "q2 = q1 \n",
    "q1[2] = 'two'\n",
    "q1"
   ]
  },
  {
   "cell_type": "code",
   "execution_count": null,
   "metadata": {
    "id": "nOMjVHcpGtZZ",
    "outputId": "1a66bb41-9355-4f40-c276-4579278aaa61"
   },
   "outputs": [
    {
     "data": {
      "text/plain": [
       "[1, 2, 'two']"
      ]
     },
     "execution_count": 101,
     "metadata": {},
     "output_type": "execute_result"
    }
   ],
   "source": [
    "q2"
   ]
  },
  {
   "cell_type": "code",
   "execution_count": 30,
   "metadata": {
    "id": "LGw39hkKGtZZ",
    "outputId": "e8e159dc-87d6-44ef-d215-219836a6810b"
   },
   "outputs": [
    {
     "data": {
      "text/plain": [
       "1445008925008"
      ]
     },
     "execution_count": 30,
     "metadata": {},
     "output_type": "execute_result"
    }
   ],
   "source": [
    "# Slicing the list\n",
    "q1 = [0., 0.1, 0.2, 0.3, 0.4, 0.5]\n",
    "#q1[1:4]\n",
    "id(q1[2])"
   ]
  },
  {
   "cell_type": "code",
   "execution_count": null,
   "metadata": {
    "id": "NbcawnvSGtZa",
    "outputId": "f7094158-9da1-45c0-999f-867daffc3c35"
   },
   "outputs": [
    {
     "data": {
      "text/plain": [
       "[0.5, 0.4, 0.3, 0.2, 0.1, 0.0]"
      ]
     },
     "execution_count": 105,
     "metadata": {},
     "output_type": "execute_result"
    }
   ],
   "source": [
    "q1[::-1] # return a reversedcopy of the list"
   ]
  },
  {
   "cell_type": "code",
   "execution_count": null,
   "metadata": {
    "id": "Owlywn20GtZa",
    "outputId": "05efbc06-1805-4c3c-e2cf-da43e0e7b80c"
   },
   "outputs": [
    {
     "data": {
      "text/plain": [
       "[0.1, 0.3, 0.5]"
      ]
     },
     "execution_count": 106,
     "metadata": {},
     "output_type": "execute_result"
    }
   ],
   "source": [
    "q1[1::2] # striding: returns element at 1, 3, 5"
   ]
  },
  {
   "cell_type": "code",
   "execution_count": 31,
   "metadata": {
    "id": "-h8RZqlnGtZb",
    "outputId": "9e74752a-7742-4ee6-a407-5a5170295dcb"
   },
   "outputs": [
    {
     "data": {
      "text/plain": [
       "1444934604208"
      ]
     },
     "execution_count": 31,
     "metadata": {},
     "output_type": "execute_result"
    }
   ],
   "source": [
    "q2 = q1[1:4] \n",
    "q2[1] = 99 \n",
    "q2\n",
    "id(q2[1])"
   ]
  },
  {
   "cell_type": "code",
   "execution_count": 29,
   "metadata": {
    "id": "ndXI8SfnGtZb",
    "outputId": "844a62ff-b47f-42e3-f28b-59e4787eef3b"
   },
   "outputs": [
    {
     "data": {
      "text/plain": [
       "[0.0, 0.1, 0.2, 0.3, 0.4, 0.5]"
      ]
     },
     "execution_count": 29,
     "metadata": {},
     "output_type": "execute_result"
    }
   ],
   "source": [
    "q1"
   ]
  },
  {
   "cell_type": "markdown",
   "metadata": {
    "id": "GVqcwFp2GtZc"
   },
   "source": [
    "## List Methods\n",
    "- Python *list* come with a large number of useful methods.\n",
    "- Since the *list* are mutable, they can grow or shrink in a place\n",
    "- Some useful *list* methods\n",
    "  - `append` - add an item to the end of the list\n",
    "  - `extend` - add one or more objects by copying them from another list\n",
    "  - `insert` - insert an item at a specified index;\n",
    "  - `remove` - remove a specified item from the list.\n",
    "  - `reverse` - Reverse the list in place\n",
    "  - `sort` - Sort the list in place\n",
    "  - `copy` - Return a copy of the list\n",
    "  - `count` - Return the number of elements equal to element in the list\n",
    "  - `index` - Return the lowest index of the list containg element\n",
    "  - `pop` - Remove and return the last element from the list"
   ]
  },
  {
   "cell_type": "code",
   "execution_count": null,
   "metadata": {
    "id": "XKMzjkENGtZd",
    "outputId": "63e10799-d21b-45a2-82f9-84914807f066"
   },
   "outputs": [
    {
     "data": {
      "text/plain": [
       "['__add__',\n",
       " '__class__',\n",
       " '__class_getitem__',\n",
       " '__contains__',\n",
       " '__delattr__',\n",
       " '__delitem__',\n",
       " '__dir__',\n",
       " '__doc__',\n",
       " '__eq__',\n",
       " '__format__',\n",
       " '__ge__',\n",
       " '__getattribute__',\n",
       " '__getitem__',\n",
       " '__gt__',\n",
       " '__hash__',\n",
       " '__iadd__',\n",
       " '__imul__',\n",
       " '__init__',\n",
       " '__init_subclass__',\n",
       " '__iter__',\n",
       " '__le__',\n",
       " '__len__',\n",
       " '__lt__',\n",
       " '__mul__',\n",
       " '__ne__',\n",
       " '__new__',\n",
       " '__reduce__',\n",
       " '__reduce_ex__',\n",
       " '__repr__',\n",
       " '__reversed__',\n",
       " '__rmul__',\n",
       " '__setattr__',\n",
       " '__setitem__',\n",
       " '__sizeof__',\n",
       " '__str__',\n",
       " '__subclasshook__',\n",
       " 'append',\n",
       " 'clear',\n",
       " 'copy',\n",
       " 'count',\n",
       " 'extend',\n",
       " 'index',\n",
       " 'insert',\n",
       " 'pop',\n",
       " 'remove',\n",
       " 'reverse',\n",
       " 'sort']"
      ]
     },
     "execution_count": 138,
     "metadata": {},
     "output_type": "execute_result"
    }
   ],
   "source": [
    "dir(q1)"
   ]
  },
  {
   "cell_type": "code",
   "execution_count": 14,
   "metadata": {
    "id": "U8aSaYxEGtZd",
    "outputId": "00a33c28-3141-4ad0-a1d5-bdbd43010dfd"
   },
   "outputs": [
    {
     "data": {
      "text/plain": [
       "[4]"
      ]
     },
     "execution_count": 14,
     "metadata": {},
     "output_type": "execute_result"
    }
   ],
   "source": [
    "q = []\n",
    "q.append(4)\n",
    "q"
   ]
  },
  {
   "cell_type": "code",
   "execution_count": 15,
   "metadata": {
    "id": "lwN4CnxNGtZe",
    "outputId": "fc8d1469-e3a6-4ccd-cce5-79f601dca98d"
   },
   "outputs": [
    {
     "data": {
      "text/plain": [
       "[4, 3, 4, 5, 6]"
      ]
     },
     "execution_count": 15,
     "metadata": {},
     "output_type": "execute_result"
    }
   ],
   "source": [
    "q.extend({6,3,5,4})\n",
    "q"
   ]
  },
  {
   "cell_type": "code",
   "execution_count": null,
   "metadata": {
    "id": "MuCk_8aBGtZe",
    "outputId": "2eb473e2-9d36-4073-f10e-599ef644d0e3"
   },
   "outputs": [
    {
     "data": {
      "text/plain": [
       "[4, 5, 6, 7, 9]"
      ]
     },
     "execution_count": 113,
     "metadata": {},
     "output_type": "execute_result"
    }
   ],
   "source": [
    "q.insert(1,5) # insert 5 at index 1\n",
    "q"
   ]
  },
  {
   "cell_type": "code",
   "execution_count": null,
   "metadata": {
    "id": "BRdbhcn8GtZf"
   },
   "outputs": [],
   "source": [
    "q.remove(7)"
   ]
  },
  {
   "cell_type": "code",
   "execution_count": null,
   "metadata": {
    "id": "XrdxjRUGGtZf",
    "outputId": "b53e6141-2775-4b1d-b0b2-f172ceecc12a"
   },
   "outputs": [
    {
     "data": {
      "text/plain": [
       "[4, 5, 6, 9]"
      ]
     },
     "execution_count": 115,
     "metadata": {},
     "output_type": "execute_result"
    }
   ],
   "source": [
    "q"
   ]
  },
  {
   "cell_type": "code",
   "execution_count": null,
   "metadata": {
    "id": "b4Oxl1sZGtZg",
    "outputId": "ba0aa2ec-ccd6-48f9-8452-fb8229d107ec"
   },
   "outputs": [
    {
     "data": {
      "text/plain": [
       "[4, 5, 6, 9, 6]"
      ]
     },
     "execution_count": 116,
     "metadata": {},
     "output_type": "execute_result"
    }
   ],
   "source": [
    "q.append(6)\n",
    "q"
   ]
  },
  {
   "cell_type": "code",
   "execution_count": null,
   "metadata": {
    "id": "-AWym_VwGtZg",
    "outputId": "eb1bc342-df48-4af1-ac5e-a0a12b84160f"
   },
   "outputs": [
    {
     "data": {
      "text/plain": [
       "2"
      ]
     },
     "execution_count": 117,
     "metadata": {},
     "output_type": "execute_result"
    }
   ],
   "source": [
    "q.index(6)"
   ]
  },
  {
   "cell_type": "code",
   "execution_count": null,
   "metadata": {
    "id": "oMgiILkTGtZh",
    "outputId": "905140a8-c728-4810-c1ac-0a26ef03c56f"
   },
   "outputs": [
    {
     "data": {
      "text/plain": [
       "[4, 5, 6, 6, 9]"
      ]
     },
     "execution_count": 119,
     "metadata": {},
     "output_type": "execute_result"
    }
   ],
   "source": [
    "q.sort()\n",
    "q"
   ]
  },
  {
   "cell_type": "code",
   "execution_count": null,
   "metadata": {
    "id": "b25rLBmUGtZh",
    "outputId": "c3a3158f-b7de-4ca6-c1e9-dd487e7da242"
   },
   "outputs": [
    {
     "data": {
      "text/plain": [
       "[9, 6, 6, 5, 4]"
      ]
     },
     "execution_count": 122,
     "metadata": {},
     "output_type": "execute_result"
    }
   ],
   "source": [
    "q.reverse()\n",
    "q"
   ]
  },
  {
   "cell_type": "code",
   "execution_count": null,
   "metadata": {
    "id": "W5BYwtSUGtZi",
    "outputId": "a181069b-b750-4676-f2c8-6707d0d6b8c4"
   },
   "outputs": [
    {
     "data": {
      "text/plain": [
       "[9, 6, 6]"
      ]
     },
     "execution_count": 124,
     "metadata": {},
     "output_type": "execute_result"
    }
   ],
   "source": [
    "q.pop()\n",
    "q"
   ]
  },
  {
   "cell_type": "code",
   "execution_count": null,
   "metadata": {
    "id": "ZHSnoaAaGtZi",
    "outputId": "dcd4d5ff-a556-4529-e834-95fd759908d2"
   },
   "outputs": [
    {
     "ename": "AttributeError",
     "evalue": "'list' object has no attribute 'sorted'",
     "output_type": "error",
     "traceback": [
      "\u001b[1;31m---------------------------------------------------------------------------\u001b[0m",
      "\u001b[1;31mAttributeError\u001b[0m                            Traceback (most recent call last)",
      "\u001b[1;32m<ipython-input-125-de7980ddb74b>\u001b[0m in \u001b[0;36m<module>\u001b[1;34m\u001b[0m\n\u001b[0;32m      1\u001b[0m \u001b[0mq\u001b[0m \u001b[1;33m=\u001b[0m \u001b[1;33m[\u001b[0m\u001b[1;34m'a'\u001b[0m\u001b[1;33m,\u001b[0m \u001b[1;34m'e'\u001b[0m\u001b[1;33m,\u001b[0m\u001b[1;34m'b'\u001b[0m\u001b[1;33m,\u001b[0m\u001b[1;34m'f'\u001b[0m\u001b[1;33m,\u001b[0m\u001b[1;34m'A'\u001b[0m\u001b[1;33m,\u001b[0m\u001b[1;34m'X'\u001b[0m\u001b[1;33m]\u001b[0m\u001b[1;33m\u001b[0m\u001b[1;33m\u001b[0m\u001b[0m\n\u001b[1;32m----> 2\u001b[1;33m \u001b[0mq\u001b[0m\u001b[1;33m.\u001b[0m\u001b[0msorted\u001b[0m\u001b[1;33m(\u001b[0m\u001b[1;33m)\u001b[0m\u001b[1;33m\u001b[0m\u001b[1;33m\u001b[0m\u001b[0m\n\u001b[0m",
      "\u001b[1;31mAttributeError\u001b[0m: 'list' object has no attribute 'sorted'"
     ]
    }
   ],
   "source": [
    "q = ['a', 'e','b','f','A','X']\n",
    "q.sorted()"
   ]
  },
  {
   "cell_type": "code",
   "execution_count": null,
   "metadata": {
    "id": "URElC4CZGtZj",
    "outputId": "296c70d6-3829-463e-a187-adf006117047"
   },
   "outputs": [
    {
     "data": {
      "text/plain": [
       "['A', 'X', 'a', 'b', 'e', 'f']"
      ]
     },
     "execution_count": 126,
     "metadata": {},
     "output_type": "execute_result"
    }
   ],
   "source": [
    "sorted(q)"
   ]
  },
  {
   "cell_type": "code",
   "execution_count": null,
   "metadata": {
    "id": "UzbspZYpGtZk",
    "outputId": "08995fa4-7a7d-4c32-e969-2fb45d5bb6c1"
   },
   "outputs": [
    {
     "data": {
      "text/plain": [
       "['A', 'X', 'a', 'b', 'e', 'f']"
      ]
     },
     "execution_count": 129,
     "metadata": {},
     "output_type": "execute_result"
    }
   ],
   "source": [
    "q.sort()\n",
    "q"
   ]
  },
  {
   "cell_type": "markdown",
   "metadata": {
    "id": "SkJGYcsYGtZk"
   },
   "source": [
    "> By default, `sort()` and `sorted()` order the items in an array in *ascending order*"
   ]
  },
  {
   "cell_type": "code",
   "execution_count": null,
   "metadata": {
    "id": "VXshElshGtZk",
    "outputId": "a4520c32-ea80-429a-97de-f6296fd0c16a"
   },
   "outputs": [
    {
     "data": {
      "text/plain": [
       "['f', 'e', 'b', 'a', 'X', 'A']"
      ]
     },
     "execution_count": 127,
     "metadata": {},
     "output_type": "execute_result"
    }
   ],
   "source": [
    "sorted(q,reverse=True) # for descending order"
   ]
  },
  {
   "cell_type": "code",
   "execution_count": null,
   "metadata": {
    "id": "uyc6HK3dGtZl",
    "outputId": "e557f8c4-8b98-45e9-c4ea-944473f1d215"
   },
   "outputs": [
    {
     "ename": "TypeError",
     "evalue": "'<' not supported between instances of 'str' and 'int'",
     "output_type": "error",
     "traceback": [
      "\u001b[1;31m---------------------------------------------------------------------------\u001b[0m",
      "\u001b[1;31mTypeError\u001b[0m                                 Traceback (most recent call last)",
      "\u001b[1;32m<ipython-input-130-582c5e7cbe92>\u001b[0m in \u001b[0;36m<module>\u001b[1;34m\u001b[0m\n\u001b[0;32m      1\u001b[0m \u001b[0mq\u001b[0m \u001b[1;33m=\u001b[0m \u001b[1;33m[\u001b[0m\u001b[1;36m5\u001b[0m\u001b[1;33m,\u001b[0m \u001b[1;34m'4'\u001b[0m\u001b[1;33m,\u001b[0m \u001b[1;36m3\u001b[0m\u001b[1;33m,\u001b[0m \u001b[1;36m2\u001b[0m\u001b[1;33m,\u001b[0m \u001b[1;36m1\u001b[0m\u001b[1;33m]\u001b[0m\u001b[1;33m\u001b[0m\u001b[1;33m\u001b[0m\u001b[0m\n\u001b[1;32m----> 2\u001b[1;33m \u001b[0msorted\u001b[0m\u001b[1;33m(\u001b[0m\u001b[0mq\u001b[0m\u001b[1;33m)\u001b[0m\u001b[1;33m\u001b[0m\u001b[1;33m\u001b[0m\u001b[0m\n\u001b[0m",
      "\u001b[1;31mTypeError\u001b[0m: '<' not supported between instances of 'str' and 'int'"
     ]
    }
   ],
   "source": [
    "q = [5, '4', 3, 2, 1]\n",
    "sorted(q)"
   ]
  },
  {
   "cell_type": "code",
   "execution_count": null,
   "metadata": {
    "id": "0mOKJ-pfGtZm",
    "outputId": "e8e63852-4578-4d09-b618-d9de6704c572"
   },
   "outputs": [
    {
     "ename": "TypeError",
     "evalue": "'<' not supported between instances of 'str' and 'int'",
     "output_type": "error",
     "traceback": [
      "\u001b[1;31m---------------------------------------------------------------------------\u001b[0m",
      "\u001b[1;31mTypeError\u001b[0m                                 Traceback (most recent call last)",
      "\u001b[1;32m<ipython-input-131-27cdafc62d64>\u001b[0m in \u001b[0;36m<module>\u001b[1;34m\u001b[0m\n\u001b[1;32m----> 1\u001b[1;33m \u001b[0mq\u001b[0m\u001b[1;33m.\u001b[0m\u001b[0msort\u001b[0m\u001b[1;33m(\u001b[0m\u001b[1;33m)\u001b[0m\u001b[1;33m\u001b[0m\u001b[1;33m\u001b[0m\u001b[0m\n\u001b[0m",
      "\u001b[1;31mTypeError\u001b[0m: '<' not supported between instances of 'str' and 'int'"
     ]
    }
   ],
   "source": [
    "q.sort()"
   ]
  },
  {
   "cell_type": "markdown",
   "metadata": {
    "id": "qfBv5XYPGtZm"
   },
   "source": [
    "# Tuples\n",
    "- A tuple can be thought as an immutable list.\n",
    "- Tuples are constructed by placing the items inside the parentheses.\n",
    "- Tuples can be *indexed* and *sliced* in the same way as *lists* but, being *immutable*, they\n",
    "cannot be *appended* to, *extended* or have elements removed from them.\n"
   ]
  },
  {
   "cell_type": "code",
   "execution_count": null,
   "metadata": {
    "id": "N4kS_cd7GtZn",
    "outputId": "a9913be8-ba3e-4873-f19a-c7722bdb46a0"
   },
   "outputs": [
    {
     "data": {
      "text/plain": [
       "(1, 'two', 3)"
      ]
     },
     "execution_count": 132,
     "metadata": {},
     "output_type": "execute_result"
    }
   ],
   "source": [
    "t = (1,'two',3)\n",
    "t"
   ]
  },
  {
   "cell_type": "code",
   "execution_count": null,
   "metadata": {
    "id": "OpqU07nJGtZo",
    "outputId": "d6c1fcc1-f41a-4168-893b-f9db6e7c35f3"
   },
   "outputs": [
    {
     "data": {
      "text/plain": [
       "tuple"
      ]
     },
     "execution_count": 133,
     "metadata": {},
     "output_type": "execute_result"
    }
   ],
   "source": [
    "type(t)"
   ]
  },
  {
   "cell_type": "code",
   "execution_count": null,
   "metadata": {
    "id": "XIZ5RTN2GtZo",
    "outputId": "19fc8d42-389e-4f6e-b90d-77eb4333e8d3"
   },
   "outputs": [
    {
     "data": {
      "text/plain": [
       "'two'"
      ]
     },
     "execution_count": 134,
     "metadata": {},
     "output_type": "execute_result"
    }
   ],
   "source": [
    "t[1]"
   ]
  },
  {
   "cell_type": "code",
   "execution_count": null,
   "metadata": {
    "id": "cYcNgS_0GtZp",
    "outputId": "5b97fced-3671-4c9b-88ba-37baa82b5c65"
   },
   "outputs": [
    {
     "ename": "TypeError",
     "evalue": "'tuple' object does not support item assignment",
     "output_type": "error",
     "traceback": [
      "\u001b[1;31m---------------------------------------------------------------------------\u001b[0m",
      "\u001b[1;31mTypeError\u001b[0m                                 Traceback (most recent call last)",
      "\u001b[1;32m<ipython-input-135-3feed840db06>\u001b[0m in \u001b[0;36m<module>\u001b[1;34m\u001b[0m\n\u001b[1;32m----> 1\u001b[1;33m \u001b[0mt\u001b[0m\u001b[1;33m[\u001b[0m\u001b[1;36m2\u001b[0m\u001b[1;33m]\u001b[0m \u001b[1;33m=\u001b[0m \u001b[1;36m4\u001b[0m\u001b[1;33m\u001b[0m\u001b[1;33m\u001b[0m\u001b[0m\n\u001b[0m",
      "\u001b[1;31mTypeError\u001b[0m: 'tuple' object does not support item assignment"
     ]
    }
   ],
   "source": [
    "t[2] = 4"
   ]
  },
  {
   "cell_type": "code",
   "execution_count": null,
   "metadata": {
    "id": "WzqrKqqYGtZp",
    "outputId": "3453a371-0631-4b55-fbac-4ffdaea7b2c2"
   },
   "outputs": [
    {
     "data": {
      "text/plain": [
       "(1, [1, 'two', 3.14, 0], 0)"
      ]
     },
     "execution_count": 136,
     "metadata": {},
     "output_type": "execute_result"
    }
   ],
   "source": [
    "t = (1, list1, 0)\n",
    "t"
   ]
  },
  {
   "cell_type": "code",
   "execution_count": null,
   "metadata": {
    "id": "DQVsfIcgGtZq",
    "outputId": "b78cda21-c3ce-4f0c-b84b-ddc6bfac6252"
   },
   "outputs": [
    {
     "data": {
      "text/plain": [
       "tuple"
      ]
     },
     "execution_count": 137,
     "metadata": {},
     "output_type": "execute_result"
    }
   ],
   "source": [
    "type(t)"
   ]
  },
  {
   "cell_type": "code",
   "execution_count": null,
   "metadata": {
    "id": "94m63WXdGtZr",
    "outputId": "73a9fbcf-4b20-4377-9ca7-719c3682a28d"
   },
   "outputs": [
    {
     "data": {
      "text/plain": [
       "(1, [1, 'Three', 3.14, 0], 0)"
      ]
     },
     "execution_count": 139,
     "metadata": {},
     "output_type": "execute_result"
    }
   ],
   "source": [
    "t[1][1] = 'Three' # Ok to change the list within the tuple\n",
    "t"
   ]
  },
  {
   "cell_type": "markdown",
   "metadata": {
    "id": "Pjj5ESsSGtZr"
   },
   "source": [
    "# Disctionaries\n",
    "\n",
    "- A *disctionay* in Python is a type of \"associative array\"\n",
    "- A dictionary can contain any objects as its values, but unlike sequences such as lists and tuples, in which the items are indexed by an integer starting at 0, each item\n",
    "in a dictionary is indexed by a unique *key*, which may be any *immutable* object.\n",
    "- The distcionry is a collection of *key-value* pairs\n",
    "- Disctionaries are *mutable* objects\n",
    "- The dictionary *keys* must be unique, the dictionary *values* need not be."
   ]
  },
  {
   "cell_type": "code",
   "execution_count": null,
   "metadata": {
    "id": "Thd5yDy1GtZs"
   },
   "outputs": [],
   "source": [
    "height = {'Burj Khalifa': 828., 'One World Trade Center': 541.3,\n",
    "          'Mercury City Tower': -1., 'Q1':323.,\n",
    "          'Eiffel Tower': 324}"
   ]
  },
  {
   "cell_type": "code",
   "execution_count": null,
   "metadata": {
    "id": "QbVEhbE0GtZs",
    "outputId": "f1bcf0ef-6329-4932-bf42-cb4920e718c9"
   },
   "outputs": [
    {
     "data": {
      "text/plain": [
       "{'Burj Khalifa': 828.0,\n",
       " 'One World Trade Center': 541.3,\n",
       " 'Mercury City Tower': -1.0,\n",
       " 'Q1': 323.0,\n",
       " 'Eiffel Tower': 324}"
      ]
     },
     "execution_count": 141,
     "metadata": {},
     "output_type": "execute_result"
    }
   ],
   "source": [
    "height"
   ]
  },
  {
   "cell_type": "code",
   "execution_count": null,
   "metadata": {
    "id": "Zt96eAyuGtZt",
    "outputId": "67cee69c-06e1-42fe-dce3-111ed94e41cf"
   },
   "outputs": [
    {
     "data": {
      "text/plain": [
       "dict"
      ]
     },
     "execution_count": 142,
     "metadata": {},
     "output_type": "execute_result"
    }
   ],
   "source": [
    "type(height)"
   ]
  },
  {
   "cell_type": "code",
   "execution_count": null,
   "metadata": {
    "id": "e9t-CQfbGtZt",
    "outputId": "5c0ef17b-de61-4e7d-e802-9e9e5ac0790f"
   },
   "outputs": [
    {
     "data": {
      "text/plain": [
       "828.0"
      ]
     },
     "execution_count": 143,
     "metadata": {},
     "output_type": "execute_result"
    }
   ],
   "source": [
    "height['Burj Khalifa']"
   ]
  },
  {
   "cell_type": "code",
   "execution_count": null,
   "metadata": {
    "id": "E1Vv0xgKGtZu",
    "outputId": "260a1db9-082c-4e63-ef95-68fe75d57cd8"
   },
   "outputs": [
    {
     "data": {
      "text/plain": [
       "323.0"
      ]
     },
     "execution_count": 144,
     "metadata": {},
     "output_type": "execute_result"
    }
   ],
   "source": [
    "building = 'Q1'\n",
    "height[building]"
   ]
  },
  {
   "cell_type": "code",
   "execution_count": null,
   "metadata": {
    "id": "1h0o9qCJGtZv"
   },
   "outputs": [],
   "source": [
    "height['The Shard'] = 306.0"
   ]
  },
  {
   "cell_type": "code",
   "execution_count": null,
   "metadata": {
    "id": "5p_lZw-yGtZv",
    "outputId": "2bdad45e-8cfe-420c-f601-558528a69415"
   },
   "outputs": [
    {
     "data": {
      "text/plain": [
       "{'Burj Khalifa': 828.0,\n",
       " 'One World Trade Center': 541.3,\n",
       " 'Mercury City Tower': -1.0,\n",
       " 'Q1': 323.0,\n",
       " 'Eiffel Tower': 324,\n",
       " 'The Shard': 306.0}"
      ]
     },
     "execution_count": 148,
     "metadata": {},
     "output_type": "execute_result"
    }
   ],
   "source": [
    "height"
   ]
  },
  {
   "cell_type": "markdown",
   "metadata": {
    "id": "irmoCypWGtZw"
   },
   "source": [
    "An alternative way of defining a dictionary is to pass a sequence of *(key, value)*\n",
    "pairs to the dict constructor."
   ]
  },
  {
   "cell_type": "code",
   "execution_count": null,
   "metadata": {
    "id": "7IoV94NBGtZw",
    "outputId": "84b25385-7b35-4dbb-eb61-9f01a9c68aa2"
   },
   "outputs": [
    {
     "data": {
      "text/plain": [
       "{'Mercury': 3.301e+23, 'Venus': 4.867e+24, 'Earth': 5.972e+24}"
      ]
     },
     "execution_count": 149,
     "metadata": {},
     "output_type": "execute_result"
    }
   ],
   "source": [
    "ordinal = dict([(1,'First'),(2,'Second'),(3,'Third')])\n",
    "mass = dict(Mercury=3.301e23, Venus=4.867e24, Earth=5.972e24)\n",
    "mass"
   ]
  },
  {
   "cell_type": "code",
   "execution_count": null,
   "metadata": {
    "id": "UPjqjHT_GtZx",
    "outputId": "20d14373-c722-468f-cba8-9bb2d65164e7"
   },
   "outputs": [
    {
     "data": {
      "text/plain": [
       "5.972e+24"
      ]
     },
     "execution_count": 150,
     "metadata": {},
     "output_type": "execute_result"
    }
   ],
   "source": [
    "mass['Earth']"
   ]
  },
  {
   "cell_type": "code",
   "execution_count": null,
   "metadata": {
    "id": "Val1-9V8GtZx",
    "outputId": "b426c916-3c9b-475a-d47a-759730480477"
   },
   "outputs": [
    {
     "data": {
      "text/plain": [
       "'Second'"
      ]
     },
     "execution_count": 151,
     "metadata": {},
     "output_type": "execute_result"
    }
   ],
   "source": [
    "ordinal[2]"
   ]
  },
  {
   "cell_type": "markdown",
   "metadata": {
    "id": "6Xar73q8GtZy"
   },
   "source": [
    "## Methods in Dictionary\n",
    "Some useful dictionary methods.\n",
    "- `get` - used to retrive the value, given a key if it exists\n",
    "- `keys` - return a dictioney keys\n",
    "- `values` - return a dictionary values\n",
    "- `items` - return a dictionary items"
   ]
  },
  {
   "cell_type": "code",
   "execution_count": null,
   "metadata": {
    "id": "_bhN4YK4GtZy",
    "outputId": "0b82581e-7252-46a1-9c99-4295d37c0801"
   },
   "outputs": [
    {
     "data": {
      "text/plain": [
       "['__class__',\n",
       " '__class_getitem__',\n",
       " '__contains__',\n",
       " '__delattr__',\n",
       " '__delitem__',\n",
       " '__dir__',\n",
       " '__doc__',\n",
       " '__eq__',\n",
       " '__format__',\n",
       " '__ge__',\n",
       " '__getattribute__',\n",
       " '__getitem__',\n",
       " '__gt__',\n",
       " '__hash__',\n",
       " '__init__',\n",
       " '__init_subclass__',\n",
       " '__ior__',\n",
       " '__iter__',\n",
       " '__le__',\n",
       " '__len__',\n",
       " '__lt__',\n",
       " '__ne__',\n",
       " '__new__',\n",
       " '__or__',\n",
       " '__reduce__',\n",
       " '__reduce_ex__',\n",
       " '__repr__',\n",
       " '__reversed__',\n",
       " '__ror__',\n",
       " '__setattr__',\n",
       " '__setitem__',\n",
       " '__sizeof__',\n",
       " '__str__',\n",
       " '__subclasshook__',\n",
       " 'clear',\n",
       " 'copy',\n",
       " 'fromkeys',\n",
       " 'get',\n",
       " 'items',\n",
       " 'keys',\n",
       " 'pop',\n",
       " 'popitem',\n",
       " 'setdefault',\n",
       " 'update',\n",
       " 'values']"
      ]
     },
     "execution_count": 152,
     "metadata": {},
     "output_type": "execute_result"
    }
   ],
   "source": [
    "dir(mass)"
   ]
  },
  {
   "cell_type": "code",
   "execution_count": null,
   "metadata": {
    "id": "MplqSO8mGtZz",
    "outputId": "e635854c-bbc8-4d87-b01a-4ebfbabc3ab0"
   },
   "outputs": [
    {
     "data": {
      "text/plain": [
       "dict_values([3.301e+23, 4.867e+24, 5.972e+24])"
      ]
     },
     "execution_count": 154,
     "metadata": {},
     "output_type": "execute_result"
    }
   ],
   "source": [
    "mass.values()"
   ]
  },
  {
   "cell_type": "code",
   "execution_count": null,
   "metadata": {
    "id": "lZPAeZgsGtZ0",
    "outputId": "034ea69f-bee5-49c1-a4f1-6e044a9926fd"
   },
   "outputs": [
    {
     "data": {
      "text/plain": [
       "dict_keys(['Mercury', 'Venus', 'Earth'])"
      ]
     },
     "execution_count": 155,
     "metadata": {},
     "output_type": "execute_result"
    }
   ],
   "source": [
    "mass.keys()"
   ]
  },
  {
   "cell_type": "code",
   "execution_count": null,
   "metadata": {
    "id": "yoJOTI-mGtZ1",
    "outputId": "707b9006-046d-4c4a-f669-98bb310b17b8"
   },
   "outputs": [
    {
     "data": {
      "text/plain": [
       "dict_keys(['Mercury', 'Venus', 'Earth'])"
      ]
     },
     "execution_count": 156,
     "metadata": {},
     "output_type": "execute_result"
    }
   ],
   "source": [
    "planets = mass.keys()\n",
    "planets"
   ]
  },
  {
   "cell_type": "code",
   "execution_count": null,
   "metadata": {
    "id": "CSAfEUjWGtZ1",
    "outputId": "b0d019e4-8370-48d4-e4ff-063ba7d9095b"
   },
   "outputs": [
    {
     "name": "stdout",
     "output_type": "stream",
     "text": [
      "dict_keys(['Mercury', 'Venus', 'Earth'])\n"
     ]
    }
   ],
   "source": [
    "print(planets)"
   ]
  },
  {
   "cell_type": "code",
   "execution_count": null,
   "metadata": {
    "id": "ChXGrZD8GtZ2"
   },
   "outputs": [],
   "source": [
    "planet_list = list(mass.keys())"
   ]
  },
  {
   "cell_type": "code",
   "execution_count": null,
   "metadata": {
    "id": "HwHNN5-0GtZ3",
    "outputId": "f4e8d26d-9814-4ca4-a4a5-d76bc2a84f1a"
   },
   "outputs": [
    {
     "data": {
      "text/plain": [
       "['Mercury', 'Venus', 'Earth']"
      ]
     },
     "execution_count": 160,
     "metadata": {},
     "output_type": "execute_result"
    }
   ],
   "source": [
    "planet_list"
   ]
  },
  {
   "cell_type": "code",
   "execution_count": null,
   "metadata": {
    "id": "fquk7XI0GtZ4",
    "outputId": "fc311aeb-38ba-41e6-c5a6-de263ebc173e"
   },
   "outputs": [
    {
     "data": {
      "text/plain": [
       "'Mercury'"
      ]
     },
     "execution_count": 161,
     "metadata": {},
     "output_type": "execute_result"
    }
   ],
   "source": [
    "planet_list[0]"
   ]
  },
  {
   "cell_type": "markdown",
   "metadata": {
    "id": "xFItD3WQGtZ5"
   },
   "source": [
    "# Sets\n",
    "\n",
    "- A `set` is an *unordered* collection of  *unique items*\n",
    "- A set is useful for removing duplicates from a sequence\n",
    "and for determining the union, intersection and difference between two collections.\n",
    "- Since they are unordered, set objects cannot be indexed or sliced, but they can be iterated over, tested for membership and they support the `len` built-in.\n",
    "- A `set` is created by listing its elements between braces ({...}) or set() constructor.\n"
   ]
  },
  {
   "cell_type": "code",
   "execution_count": null,
   "metadata": {
    "id": "aTgUOdMjGtZ6",
    "outputId": "60b4d5d8-17ff-4999-b3ee-18926c01e08b"
   },
   "outputs": [
    {
     "data": {
      "text/plain": [
       "{1, 2, 3, 4, 'Surprise!'}"
      ]
     },
     "execution_count": 162,
     "metadata": {},
     "output_type": "execute_result"
    }
   ],
   "source": [
    "s = set([1,1,4,3,2,2,3,4,1,3,'Surprise!'])\n",
    "s"
   ]
  },
  {
   "cell_type": "code",
   "execution_count": null,
   "metadata": {
    "id": "xRtmerb1GtZ6",
    "outputId": "a47c3bcf-63a0-4e2e-c811-dd2b17c9c760"
   },
   "outputs": [
    {
     "data": {
      "text/plain": [
       "set"
      ]
     },
     "execution_count": 163,
     "metadata": {},
     "output_type": "execute_result"
    }
   ],
   "source": [
    "type(s)"
   ]
  },
  {
   "cell_type": "code",
   "execution_count": null,
   "metadata": {
    "id": "es7RYQn4GtZ7",
    "outputId": "1e137adb-024f-4dfb-c091-b844250aba54"
   },
   "outputs": [
    {
     "data": {
      "text/plain": [
       "5"
      ]
     },
     "execution_count": 164,
     "metadata": {},
     "output_type": "execute_result"
    }
   ],
   "source": [
    "len(s)"
   ]
  },
  {
   "cell_type": "code",
   "execution_count": null,
   "metadata": {
    "id": "q8Fy5i2tGtZ7",
    "outputId": "abdcd6e0-1dc0-46f5-ab0a-614f76c62393"
   },
   "outputs": [
    {
     "data": {
      "text/plain": [
       "True"
      ]
     },
     "execution_count": 165,
     "metadata": {},
     "output_type": "execute_result"
    }
   ],
   "source": [
    "2 in s"
   ]
  },
  {
   "cell_type": "code",
   "execution_count": null,
   "metadata": {
    "id": "MSd048TYGtZ8",
    "outputId": "9fa98a28-e03f-4e5b-cdbe-b1c8fb5a018e"
   },
   "outputs": [
    {
     "data": {
      "text/plain": [
       "True"
      ]
     },
     "execution_count": 166,
     "metadata": {},
     "output_type": "execute_result"
    }
   ],
   "source": [
    "6 not in s"
   ]
  },
  {
   "cell_type": "code",
   "execution_count": null,
   "metadata": {
    "id": "9pmR4__WGtZ8",
    "outputId": "e37dd719-d360-4f77-90f9-d462676121fa"
   },
   "outputs": [
    {
     "data": {
      "text/plain": [
       "(True, True)"
      ]
     },
     "execution_count": 167,
     "metadata": {},
     "output_type": "execute_result"
    }
   ],
   "source": [
    "4 in s, 6 not in s"
   ]
  },
  {
   "cell_type": "markdown",
   "metadata": {
    "id": "Wm3w9y8WGtZ9"
   },
   "source": [
    "## Methods in set\n",
    "The following are some useful methods in set object\n",
    "- `add` - to add elemts to given set\n",
    "- `remove` - to remove a specified element but raises a *KeyError exception* if the element is not present in the set;\n",
    "- `discard` - It does the same as remove but does not raise an\n",
    "error in this case.\n",
    "- `pop` -  removes an arbitrary element from the set \n",
    "- `clear` -removes all elements from the set"
   ]
  },
  {
   "cell_type": "code",
   "execution_count": null,
   "metadata": {
    "id": "lHlYg9gjGtZ9",
    "outputId": "464995c6-6a7e-496f-fcdc-04c6cfd05c72"
   },
   "outputs": [
    {
     "data": {
      "text/plain": [
       "{-2, 0, 1, 2}"
      ]
     },
     "execution_count": 168,
     "metadata": {},
     "output_type": "execute_result"
    }
   ],
   "source": [
    "\n",
    "s = {2, -2, 0}\n",
    "s.add(1)\n",
    "s"
   ]
  },
  {
   "cell_type": "code",
   "execution_count": null,
   "metadata": {
    "id": "SshMFgiEGtZ9",
    "outputId": "a829a15d-ca16-4917-b675-daceae3f55a6"
   },
   "outputs": [
    {
     "data": {
      "text/plain": [
       "{-2, -1, 0, 1, 2}"
      ]
     },
     "execution_count": 169,
     "metadata": {},
     "output_type": "execute_result"
    }
   ],
   "source": [
    "s.add(-1)\n",
    "s.add(1.0)\n",
    "s"
   ]
  },
  {
   "cell_type": "code",
   "execution_count": null,
   "metadata": {
    "id": "8sU6CmWeGtZ-",
    "outputId": "207c3b78-35cc-4648-b323-2c443aa7d848"
   },
   "outputs": [
    {
     "data": {
      "text/plain": [
       "{-2, -1, 0, 2}"
      ]
     },
     "execution_count": 170,
     "metadata": {},
     "output_type": "execute_result"
    }
   ],
   "source": [
    "s.remove(1)\n",
    "s"
   ]
  },
  {
   "cell_type": "code",
   "execution_count": null,
   "metadata": {
    "id": "ENX0TRNrGtZ_",
    "outputId": "5f9dffcb-da0d-4443-a1c4-85ea4c696381"
   },
   "outputs": [
    {
     "data": {
      "text/plain": [
       "{-2, -1, 0, 2}"
      ]
     },
     "execution_count": 172,
     "metadata": {},
     "output_type": "execute_result"
    }
   ],
   "source": [
    "s.discard(3)\n",
    "s"
   ]
  },
  {
   "cell_type": "code",
   "execution_count": null,
   "metadata": {
    "id": "isco8w4ZGtZ_",
    "outputId": "ee6aa931-6f46-4a92-8933-7e4390e14e4a"
   },
   "outputs": [
    {
     "ename": "KeyError",
     "evalue": "3",
     "output_type": "error",
     "traceback": [
      "\u001b[1;31m---------------------------------------------------------------------------\u001b[0m",
      "\u001b[1;31mKeyError\u001b[0m                                  Traceback (most recent call last)",
      "\u001b[1;32m<ipython-input-173-b06e0f5ff900>\u001b[0m in \u001b[0;36m<module>\u001b[1;34m\u001b[0m\n\u001b[1;32m----> 1\u001b[1;33m \u001b[0ms\u001b[0m\u001b[1;33m.\u001b[0m\u001b[0mremove\u001b[0m\u001b[1;33m(\u001b[0m\u001b[1;36m3\u001b[0m\u001b[1;33m)\u001b[0m\u001b[1;33m\u001b[0m\u001b[1;33m\u001b[0m\u001b[0m\n\u001b[0m",
      "\u001b[1;31mKeyError\u001b[0m: 3"
     ]
    }
   ],
   "source": [
    "s.remove(3)"
   ]
  },
  {
   "cell_type": "code",
   "execution_count": null,
   "metadata": {
    "id": "taFZSAxaGtaB",
    "outputId": "6e6c2981-64cc-43d7-98b2-1e45b4288af2"
   },
   "outputs": [
    {
     "data": {
      "text/plain": [
       "{-2, -1, 2}"
      ]
     },
     "execution_count": 174,
     "metadata": {},
     "output_type": "execute_result"
    }
   ],
   "source": [
    "s.pop()\n",
    "s"
   ]
  },
  {
   "cell_type": "code",
   "execution_count": null,
   "metadata": {
    "id": "jYnMOUF0GtaB",
    "outputId": "969d3330-53ee-4168-cd8d-d1ff489422bc"
   },
   "outputs": [
    {
     "data": {
      "text/plain": [
       "set()"
      ]
     },
     "execution_count": 176,
     "metadata": {},
     "output_type": "execute_result"
    }
   ],
   "source": [
    "s.clear()\n",
    "s"
   ]
  },
  {
   "cell_type": "code",
   "execution_count": null,
   "metadata": {
    "id": "2gCv8oC6GtaC",
    "outputId": "de5bf1e2-c433-43d7-9602-c90ace425aac"
   },
   "outputs": [
    {
     "data": {
      "text/plain": [
       "['__and__',\n",
       " '__class__',\n",
       " '__class_getitem__',\n",
       " '__contains__',\n",
       " '__delattr__',\n",
       " '__dir__',\n",
       " '__doc__',\n",
       " '__eq__',\n",
       " '__format__',\n",
       " '__ge__',\n",
       " '__getattribute__',\n",
       " '__gt__',\n",
       " '__hash__',\n",
       " '__iand__',\n",
       " '__init__',\n",
       " '__init_subclass__',\n",
       " '__ior__',\n",
       " '__isub__',\n",
       " '__iter__',\n",
       " '__ixor__',\n",
       " '__le__',\n",
       " '__len__',\n",
       " '__lt__',\n",
       " '__ne__',\n",
       " '__new__',\n",
       " '__or__',\n",
       " '__rand__',\n",
       " '__reduce__',\n",
       " '__reduce_ex__',\n",
       " '__repr__',\n",
       " '__ror__',\n",
       " '__rsub__',\n",
       " '__rxor__',\n",
       " '__setattr__',\n",
       " '__sizeof__',\n",
       " '__str__',\n",
       " '__sub__',\n",
       " '__subclasshook__',\n",
       " '__xor__',\n",
       " 'add',\n",
       " 'clear',\n",
       " 'copy',\n",
       " 'difference',\n",
       " 'difference_update',\n",
       " 'discard',\n",
       " 'intersection',\n",
       " 'intersection_update',\n",
       " 'isdisjoint',\n",
       " 'issubset',\n",
       " 'issuperset',\n",
       " 'pop',\n",
       " 'remove',\n",
       " 'symmetric_difference',\n",
       " 'symmetric_difference_update',\n",
       " 'union',\n",
       " 'update']"
      ]
     },
     "execution_count": 177,
     "metadata": {},
     "output_type": "execute_result"
    }
   ],
   "source": [
    "dir(s)"
   ]
  },
  {
   "cell_type": "markdown",
   "metadata": {
    "id": "oW9Ffw4mGtaC"
   },
   "source": [
    "### Set methods for set operations\n",
    "- union\n",
    "- intersection\n",
    "- difference\n",
    "- symmetric_difference\n",
    "- isdisjoint\n",
    "- issubset\n",
    "- issuperset"
   ]
  },
  {
   "cell_type": "code",
   "execution_count": null,
   "metadata": {
    "id": "A1Cd5-exGtaD",
    "outputId": "39dfbdfc-0a03-45eb-a8e9-1ad277badc03"
   },
   "outputs": [
    {
     "data": {
      "text/plain": [
       "True"
      ]
     },
     "execution_count": 181,
     "metadata": {},
     "output_type": "execute_result"
    }
   ],
   "source": [
    "A = set([1,2,3])\n",
    "B = set((1,2,3,4))\n",
    "A <= B"
   ]
  },
  {
   "cell_type": "code",
   "execution_count": null,
   "metadata": {
    "id": "WovALAbsGtaD",
    "outputId": "fc411491-d381-4e49-da46-7254529f164a"
   },
   "outputs": [
    {
     "data": {
      "text/plain": [
       "True"
      ]
     },
     "execution_count": 182,
     "metadata": {},
     "output_type": "execute_result"
    }
   ],
   "source": [
    "A.issubset(B)"
   ]
  },
  {
   "cell_type": "code",
   "execution_count": null,
   "metadata": {
    "id": "-7EyDOn2GtaE",
    "outputId": "0c2f2de5-1b98-4d6a-f54e-b72dfa7a8111"
   },
   "outputs": [
    {
     "data": {
      "text/plain": [
       "{1, 2, 3, 4, 5, 6}"
      ]
     },
     "execution_count": 184,
     "metadata": {},
     "output_type": "execute_result"
    }
   ],
   "source": [
    "C, D = set((3,4,5,6)), set((7,8,9))\n",
    "B | C # union"
   ]
  },
  {
   "cell_type": "code",
   "execution_count": null,
   "metadata": {
    "id": "N3-ruNl1GtaE",
    "outputId": "f40410c4-b5c0-460c-ee32-36a6c1d16560"
   },
   "outputs": [
    {
     "data": {
      "text/plain": [
       "{1, 2, 3, 4, 5, 6, 7, 8, 9}"
      ]
     },
     "execution_count": 185,
     "metadata": {},
     "output_type": "execute_result"
    }
   ],
   "source": [
    "A | C | D"
   ]
  },
  {
   "cell_type": "code",
   "execution_count": null,
   "metadata": {
    "id": "haXiXwQwGtaF",
    "outputId": "ffa9dad0-d7a3-4e83-b97d-b325798f41fa"
   },
   "outputs": [
    {
     "data": {
      "text/plain": [
       "{3}"
      ]
     },
     "execution_count": 186,
     "metadata": {},
     "output_type": "execute_result"
    }
   ],
   "source": [
    "A & C # intersection"
   ]
  },
  {
   "cell_type": "code",
   "execution_count": null,
   "metadata": {
    "id": "cIDAvWtvGtaF",
    "outputId": "62d50bba-bf37-4141-cd11-14b2fd178100"
   },
   "outputs": [
    {
     "data": {
      "text/plain": [
       "set()"
      ]
     },
     "execution_count": 187,
     "metadata": {},
     "output_type": "execute_result"
    }
   ],
   "source": [
    "C & D"
   ]
  },
  {
   "cell_type": "code",
   "execution_count": null,
   "metadata": {
    "id": "rlWxbFIhGtaG",
    "outputId": "0936a257-3d96-40fa-e495-2db4cd6c92f7"
   },
   "outputs": [
    {
     "data": {
      "text/plain": [
       "True"
      ]
     },
     "execution_count": 188,
     "metadata": {},
     "output_type": "execute_result"
    }
   ],
   "source": [
    "C.isdisjoint(D)"
   ]
  },
  {
   "cell_type": "code",
   "execution_count": null,
   "metadata": {
    "id": "_-JuWipfGtaH",
    "outputId": "803ba8a9-9a6a-4362-d526-c9da9c3274d6"
   },
   "outputs": [
    {
     "data": {
      "text/plain": [
       "{1, 2}"
      ]
     },
     "execution_count": 189,
     "metadata": {},
     "output_type": "execute_result"
    }
   ],
   "source": [
    "B - C # difference"
   ]
  },
  {
   "cell_type": "code",
   "execution_count": null,
   "metadata": {
    "id": "zWEt9lPxGtaI",
    "outputId": "d4fce925-e775-4eaf-a5e5-90976c41be96"
   },
   "outputs": [
    {
     "data": {
      "text/plain": [
       "{1, 2, 5, 6}"
      ]
     },
     "execution_count": 190,
     "metadata": {},
     "output_type": "execute_result"
    }
   ],
   "source": [
    "B^C # symmetric difference"
   ]
  },
  {
   "cell_type": "markdown",
   "metadata": {
    "id": "9lT_j0TUGtaJ"
   },
   "source": [
    "## Frozensets\n",
    "- sets are mutable objects\n",
    "- A frozenset object is immutable set\n",
    "- Frozensets are fixed, unordered collections of unique objects and can be used as dictionary keys and\n",
    "set members."
   ]
  },
  {
   "cell_type": "code",
   "execution_count": 45,
   "metadata": {
    "id": "JwTQKpYcGtaJ",
    "outputId": "8fed85d2-3e2b-4d35-bb64-751538eeb293"
   },
   "outputs": [
    {
     "ename": "TypeError",
     "evalue": "set expected at most 1 argument, got 3",
     "output_type": "error",
     "traceback": [
      "\u001b[1;31m---------------------------------------------------------------------------\u001b[0m",
      "\u001b[1;31mTypeError\u001b[0m                                 Traceback (most recent call last)",
      "\u001b[1;32m<ipython-input-45-e80c49732001>\u001b[0m in \u001b[0;36m<module>\u001b[1;34m\u001b[0m\n\u001b[1;32m----> 1\u001b[1;33m \u001b[0ma\u001b[0m \u001b[1;33m=\u001b[0m \u001b[0mset\u001b[0m\u001b[1;33m(\u001b[0m\u001b[1;36m1\u001b[0m\u001b[1;33m,\u001b[0m\u001b[1;36m2\u001b[0m\u001b[1;33m,\u001b[0m\u001b[1;36m3\u001b[0m\u001b[1;33m)\u001b[0m\u001b[1;33m\u001b[0m\u001b[1;33m\u001b[0m\u001b[0m\n\u001b[0m\u001b[0;32m      2\u001b[0m \u001b[0mb\u001b[0m \u001b[1;33m=\u001b[0m \u001b[0mset\u001b[0m\u001b[1;33m(\u001b[0m\u001b[1;33m(\u001b[0m\u001b[1;34m'p'\u001b[0m\u001b[1;33m,\u001b[0m\u001b[1;36m1\u001b[0m\u001b[1;33m,\u001b[0m\u001b[1;36m3\u001b[0m\u001b[1;33m,\u001b[0m\u001b[0ma\u001b[0m\u001b[1;33m)\u001b[0m\u001b[1;33m)\u001b[0m\u001b[1;33m\u001b[0m\u001b[1;33m\u001b[0m\u001b[0m\n\u001b[0;32m      3\u001b[0m \u001b[0mb\u001b[0m\u001b[1;33m\u001b[0m\u001b[1;33m\u001b[0m\u001b[0m\n",
      "\u001b[1;31mTypeError\u001b[0m: set expected at most 1 argument, got 3"
     ]
    }
   ],
   "source": [
    "a = set(1,2,3)\n",
    "b = set(('p',1,3,a))\n",
    "b\n",
    "#unhasable objects are mutable objects, coz mutable objects will have unstable hash\n",
    "# sets and dictionary keys requires immutable objects(hashable), so that hash function(mapping) works properly..."
   ]
  },
  {
   "cell_type": "code",
   "execution_count": null,
   "metadata": {
    "id": "5YHoE3KPGtaK",
    "outputId": "43b6f997-81ec-4b3d-aa65-a2f55000b9b6"
   },
   "outputs": [
    {
     "data": {
      "text/plain": [
       "{(1, 2), frozenset({1, 2, 3}), 'q'}"
      ]
     },
     "execution_count": 193,
     "metadata": {},
     "output_type": "execute_result"
    }
   ],
   "source": [
    "a = frozenset((1,2,3))\n",
    "b = set(('q',(1,2),a))\n",
    "b"
   ]
  },
  {
   "cell_type": "code",
   "execution_count": null,
   "metadata": {
    "id": "MlwX__3KGtaK",
    "outputId": "508fd88f-3142-47e2-fb0f-5a11aa303b9b"
   },
   "outputs": [
    {
     "data": {
      "text/plain": [
       "['__and__',\n",
       " '__class__',\n",
       " '__class_getitem__',\n",
       " '__contains__',\n",
       " '__delattr__',\n",
       " '__dir__',\n",
       " '__doc__',\n",
       " '__eq__',\n",
       " '__format__',\n",
       " '__ge__',\n",
       " '__getattribute__',\n",
       " '__gt__',\n",
       " '__hash__',\n",
       " '__init__',\n",
       " '__init_subclass__',\n",
       " '__iter__',\n",
       " '__le__',\n",
       " '__len__',\n",
       " '__lt__',\n",
       " '__ne__',\n",
       " '__new__',\n",
       " '__or__',\n",
       " '__rand__',\n",
       " '__reduce__',\n",
       " '__reduce_ex__',\n",
       " '__repr__',\n",
       " '__ror__',\n",
       " '__rsub__',\n",
       " '__rxor__',\n",
       " '__setattr__',\n",
       " '__sizeof__',\n",
       " '__str__',\n",
       " '__sub__',\n",
       " '__subclasshook__',\n",
       " '__xor__',\n",
       " 'copy',\n",
       " 'difference',\n",
       " 'intersection',\n",
       " 'isdisjoint',\n",
       " 'issubset',\n",
       " 'issuperset',\n",
       " 'symmetric_difference',\n",
       " 'union']"
      ]
     },
     "execution_count": 194,
     "metadata": {},
     "output_type": "execute_result"
    }
   ],
   "source": [
    "dir(a)"
   ]
  },
  {
   "cell_type": "markdown",
   "metadata": {
    "id": "aflcVdKYGtaL"
   },
   "source": [
    "## Questions for Revision\n",
    "\n",
    "These review questions copied from [Jovian](https://jovian.ai/aakashns/python-variables-and-data-types/v/12#C353) page\n",
    "\n",
    "Try answering the following questions to test your understanding of the topics covered in this notebook:\n",
    "\n",
    "1. What is a variable in Python?\n",
    "2. How do you create a variable?\n",
    "3. How do you check the value within a variable?\n",
    "4. How do you create multiple variables in a single statement?\n",
    "5. How do you create multiple variables with the same value?\n",
    "6. How do you change the value of a variable?\n",
    "7. How do you reassign a variable by modifying the previous value?\n",
    "8. What does the statement `counter += 4` do?\n",
    "9. What are the rules for naming a variable?\n",
    "10. Are variable names case-sensitive? Do `a_variable`, `A_Variable`, and `A_VARIABLE` represent the same variable or different ones?\n",
    "11. What is Syntax? Why is it important?\n",
    "12. What happens if you execute a statement with invalid syntax?\n",
    "13. How do you check the data type of a variable?\n",
    "14. What are the built-in data types in Python?\n",
    "15. What is a primitive data type? \n",
    "16. What are the primitive data types available in Python?\n",
    "17. What is a data structure or container data type?\n",
    "18. What are the container types available in Python?\n",
    "19. What kind of data does the Integer data type represent?\n",
    "20. What are the numerical limits of the integer data type?\n",
    "21. What kind of data does the float data type represent?\n",
    "22. How does Python decide if a given number is a float or an integer?\n",
    "23. How can you create a variable which stores a whole number, e.g., 4 but has the float data type?\n",
    "24. How do you create floats representing very large (e.g., 6.023 x 10^23) or very small numbers (0.000000123)?\n",
    "25. What does the expression `23e-12` represent?\n",
    "26. Can floats be used to store numbers with unlimited precision?\n",
    "27. What are the differences between integers and floats?\n",
    "28. How do you convert an integer to a float?\n",
    "29. How do you convert a float to an integer?\n",
    "30. What is the result obtained when you convert 1.99 to an integer?\n",
    "31. What are the data types of the results of the division operators `/` and `//`?\n",
    "32. What kind of data does the Boolean data type represent?\n",
    "33. Which types of Python operators return booleans as a result?\n",
    "34. What happens if you try to use a boolean in arithmetic operation?\n",
    "35. How can any value in Python be covered to a boolean?\n",
    "36. What are truthy and falsy values?\n",
    "37. What are the values in Python that evaluate to False?\n",
    "38. Give some examples of values that evaluate to True.\n",
    "39. What kind of data does the None data type represent?\n",
    "40. What is the purpose of None?\n",
    "41. What kind of data does the String data type represent?\n",
    "42. What are the different ways of creating strings in Python?\n",
    "43. What is the difference between strings creating using single quotes, i.e. `'` and `'` vs. those created using double quotes, i.e. `\"` and `\"`?\n",
    "44. How do you create multi-line strings in Python?\n",
    "45. What is the newline character, `\\n`?\n",
    "46. What are escaped characters? How are they useful?\n",
    "47. How do you check the length of a string?\n",
    "48. How do you convert a string into a list of characters?\n",
    "49. How do you access a specific character from a string?\n",
    "50. How do you access a range of characters from a string?\n",
    "51. How do you check if a specific character occurs in a string?\n",
    "52. How do you check if a smaller string occurs within a bigger string?\n",
    "53. How do you join two or more strings?\n",
    "54. What are \"methods\" in Python? How are they different from functions?\n",
    "55. What do the `.lower`, `.upper` and `.capitalize` methods on strings do?\n",
    "56. How do you replace a specific part of a string with something else?\n",
    "57. How do you split the string \"Sun,Mon,Tue,Wed,Thu,Fri,Sat\" into a list of days?\n",
    "58. How do you remove whitespace from the beginning and end of a string?\n",
    "59. What is the string `.format` method used for? Can you give an example?\n",
    "60. What are the benefits of using the `.format` method instead of string concatenation?\n",
    "61. How do you convert a value of another type to a string?\n",
    "62. How do you check if two strings have the same value?\n",
    "63. Where can you find the list of all the methods supported by strings?\n",
    "64. What is a list in Python?\n",
    "65. How do you create a list?\n",
    "66. Can a Python list contain values of different data types?\n",
    "67. Can a list contain another list as an element within it?\n",
    "68. Can you create a list without any values?\n",
    "69. How do you check the length of a list in Python?\n",
    "70. How do you retrieve a value from a list?\n",
    "71. What is the smallest and largest index you can use to access elements from a list containing five elements?\n",
    "72. What happens if you try to access an index equal to or larger than the size of a list?\n",
    "73. What happens if you try to access a negative index within a list?\n",
    "74. How do you access a range of elements from a list?\n",
    "75. How many elements does the list returned by the expression `a_list[2:5]` contain?\n",
    "76. What do the ranges `a_list[:2]` and `a_list[2:]` represent?\n",
    "77. How do you change the item stored at a specific index within a list?\n",
    "78. How do you insert a new item at the beginning, middle, or end of a list?\n",
    "79. How do you remove an item from al list?\n",
    "80. How do you remove the item at a given index from a list?\n",
    "81. How do you check if a list contains a value?\n",
    "82. How do you combine two or most lists to create a larger list?\n",
    "83. How do you create a copy of a list?\n",
    "84. Does the expression `a_new_list = a_list` create a copy of the list `a_list`?\n",
    "85. Where can you find the list of all the methods supported by lists?\n",
    "86. What is a Tuple in Python?\n",
    "87. How is a tuple different from a list?\n",
    "88. Can you add or remove elements in a tuple?\n",
    "89. How do you create a tuple with just one element?\n",
    "90. How do you convert a tuple to a list and vice versa?\n",
    "91. What are the `count` and `index` method of a Tuple used for?\n",
    "92. What is a dictionary in Python?\n",
    "93. How do you create a dictionary?\n",
    "94. What are keys and values?\n",
    "95. How do you access the value associated with a specific key in a dictionary?\n",
    "96. What happens if you try to access the value for a key that doesn't exist in a dictionary?\n",
    "97. What is the `.get` method of a dictionary used for?\n",
    "98. How do you change the value associated with a key in a dictionary?\n",
    "99. How do you add or remove a key-value pair in a dictionary?\n",
    "100. How do you access the keys, values, and key-value pairs within a dictionary?"
   ]
  },
  {
   "cell_type": "code",
   "execution_count": null,
   "metadata": {
    "id": "viM7sEY4GtaN"
   },
   "outputs": [],
   "source": []
  }
 ],
 "metadata": {
  "colab": {
   "name": "230821.ipynb",
   "provenance": []
  },
  "interpreter": {
   "hash": "a65d8f67d09b4ab847b5c538330978b4976ad7f006df7e5ad1ae57be3517caf4"
  },
  "kernelspec": {
   "display_name": "Python 3",
   "language": "python",
   "name": "python3"
  },
  "language_info": {
   "codemirror_mode": {
    "name": "ipython",
    "version": 3
   },
   "file_extension": ".py",
   "mimetype": "text/x-python",
   "name": "python",
   "nbconvert_exporter": "python",
   "pygments_lexer": "ipython3",
   "version": "3.9.0"
  }
 },
 "nbformat": 4,
 "nbformat_minor": 1
}
