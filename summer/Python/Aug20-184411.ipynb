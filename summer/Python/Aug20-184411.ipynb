{
 "cells": [
  {
   "cell_type": "markdown",
   "id": "6f8bcf97",
   "metadata": {},
   "source": [
    "## EX - 2.2.6"
   ]
  },
  {
   "cell_type": "code",
   "execution_count": 85,
   "id": "c76305fa",
   "metadata": {},
   "outputs": [],
   "source": [
    "import math"
   ]
  },
  {
   "cell_type": "markdown",
   "id": "0a5c66cf",
   "metadata": {},
   "source": [
    "Q2.2.1 Predict the result of the following expressions and check them using the Python shell.  \n",
    "```\n",
    "(a) 2.7 / 2      - 1.35  \n",
    "(b) 2 / 4 - 1    - -0.5  \n",
    "(c) 2 // 4 - 1   - -1  \n",
    "(d) (2 + 5) % 3  - 1  \n",
    "(e) 2 + 5 % 3    - 4  \n",
    "(f) 3 * 4 // 6   - 2  \n",
    "(g) 3 * (4 // 6) - 0  \n",
    "(h) 3 * 2 ** 2   - 12  \n",
    "(i) 3 ** 2 * 2   - 18  \n",
    "```"
   ]
  },
  {
   "cell_type": "code",
   "execution_count": 87,
   "id": "cedf7b48",
   "metadata": {},
   "outputs": [
    {
     "name": "stdout",
     "output_type": "stream",
     "text": [
      "a. 1.35\n",
      "b. -0.5\n",
      "c. -1\n",
      "d. 1\n",
      "e. 4\n",
      "f. 2\n",
      "i. 0\n",
      "g. 12\n",
      "h. 18\n"
     ]
    }
   ],
   "source": [
    "print('a.', 2.7 / 2)\n",
    "print('b.', 2 / 4 - 1)\n",
    "print('c.', 2 // 4 - 1)\n",
    "print('d.', (2 + 5) % 3)\n",
    "print('e.', 2 + 5 % 3)\n",
    "print('f.', 3 * 4 // 6)\n",
    "print('i.', 3 * (4 // 6))\n",
    "print('g.', 3 * 2 ** 2)\n",
    "print('h.', 3 ** 2 * 2)\n",
    "\n"
   ]
  },
  {
   "cell_type": "markdown",
   "id": "569161f1",
   "metadata": {},
   "source": [
    "Q2.2.2 Predict the result of the following expressions and check them using the Python shell.    \n",
    "```\n",
    "(a) −2 ** 2        - -4  \n",
    "(b) 2 ** -2        - 0.25  \n",
    "(c) −2 ** -2       - -0.25  \n",
    "(d) 2 ** 2 ** 3    - 256  \n",
    "(e) 2 ** 3 ** 2    - 512   \n",
    "(f) −2 ** 3 ** 2   - -512   \n",
    "(g) (−2) ** 3 ** 2 - -512  \n",
    "(h) (−2) ** 2 ** 3 - 256  \n",
    " "
   ]
  },
  {
   "cell_type": "code",
   "execution_count": 11,
   "id": "2186755b",
   "metadata": {},
   "outputs": [
    {
     "name": "stdout",
     "output_type": "stream",
     "text": [
      "a. -4\n",
      "b. 0.25\n",
      "c. -0.25\n",
      "d. 256\n",
      "e. 512\n",
      "f. -512\n",
      "g. -512\n",
      "h. 256\n"
     ]
    }
   ],
   "source": [
    "print('a.', -2 ** 2)\n",
    "print('b.', 2 ** -2)\n",
    "print('c.', -2 ** -2)\n",
    "print('d.', 2 ** 2 ** 3)\n",
    "print('e.', 2 ** 3 ** 2)\n",
    "print('f.', -2 ** 3 ** 2)\n",
    "print('g.', (-2) ** 3 ** 2)\n",
    "print('h.', (-2) ** 2 ** 3)"
   ]
  },
  {
   "cell_type": "markdown",
   "id": "635185fa",
   "metadata": {},
   "source": [
    "Q2.2.3 Predict and explain the results of the following statements.  \n",
    "```\n",
    "(a) 9 + 6j / 2                              - 9 + 3j  ( / has higher precedence than + )\n",
    "(b) complex(4, 5).conjugate().imag          - -5.0    ( conjugate of 4+5j is 4-5j )\n",
    "(c) complex(0, 3j)                          - -3+0j   ( 0+(0+3j)j => 0j+3jj => 0j-3 )\n",
    "(d) round(2.5)                              - 2\n",
    "(e) round(-2.5)                             - -2\n",
    "(f) abs(complex(5, -4)) == math.hypot(4,5)  - True  [ abs(5-4j) => (5-4j)(5+4j) => (5*5)-(4j*4j) => (5*5)+(4*4) =>hypot(4,5)) ]  \n",
    "                                                         "
   ]
  },
  {
   "cell_type": "code",
   "execution_count": 88,
   "id": "d14fb058",
   "metadata": {},
   "outputs": [
    {
     "name": "stdout",
     "output_type": "stream",
     "text": [
      "a. (9+3j)\n",
      "b. -5.0\n",
      "c. (-3+0j)\n",
      "d. 2\n",
      "e. -2\n",
      "f. True\n"
     ]
    }
   ],
   "source": [
    "print('a.',9 + 6j / 2)\n",
    "print('b.',complex(4, 5).conjugate().imag)\n",
    "print('c.',complex(0, 3j))\n",
    "print('d.',round(2.5))\n",
    "print('e.',round(-2.5))\n",
    "print('f.',abs(complex(5, -4)) == math.hypot(4,5))\n"
   ]
  },
  {
   "cell_type": "markdown",
   "id": "2451c570",
   "metadata": {},
   "source": [
    "Q2.2.4 Determine the value of *i<sup>i</sup>* as a real number, where *i*= $\\sqrt{-1}$ .  \n",
    "=> i<sup>i</sup> = e<sup>-$\\frac{\\Pi}{2}$</sup>\n"
   ]
  },
  {
   "cell_type": "code",
   "execution_count": 89,
   "id": "34fd7354",
   "metadata": {},
   "outputs": [
    {
     "name": "stdout",
     "output_type": "stream",
     "text": [
      "ans- 0.20787957635076193\n"
     ]
    }
   ],
   "source": [
    "i = complex(0,1) ## i^i = e^-pi/2\n",
    "ipi = i**i\n",
    "print('ans-', ipi.real)"
   ]
  },
  {
   "cell_type": "markdown",
   "id": "5a8b9ae5",
   "metadata": {},
   "source": [
    "Q2.2.5 Explain the (surprising?) behavior of the following short code:  \n",
    "```\n",
    ">>> d = 8\n",
    ">>> e = 2\n",
    ">>> from math import *\n",
    ">>> sqrt(d ** e)\n",
    "16.8821031912711\n"
   ]
  },
  {
   "cell_type": "code",
   "execution_count": 91,
   "id": "9d8b66ce",
   "metadata": {},
   "outputs": [
    {
     "name": "stdout",
     "output_type": "stream",
     "text": [
      "e - 2.718281828459045\n",
      "d^e - 285.0054081607272\n",
      "sqrt(d^e)- 16.88210319127114\n",
      "sqrt(d^e)- 8.0\n"
     ]
    }
   ],
   "source": [
    "d = 8\n",
    "e = 2                # here, e is local variable defined by user\n",
    "from math import *   # this line brings all the methods and variables defined in math module \n",
    "print('e -',e )                   # as a result, e's value is overitten with euler's constant\n",
    "print('d^e -',d**e)                 # thus, d^e yields different result\n",
    "print('sqrt(d^e)-',sqrt(d**e))           # same here\n",
    "\n",
    "e=2                            # we can overwrite e again with our desired value\n",
    "print('sqrt(d^e)-',sqrt(d**e))           # no more surprises!"
   ]
  },
  {
   "cell_type": "markdown",
   "id": "12065b65",
   "metadata": {},
   "source": [
    "2.2.6 Using **a // b = $\\lfloor\\frac{a}{b}\\rfloor$** and **a mod b = a - b$\\lfloor\\frac{a}{b}\\rfloor$**,  \n",
    "Predict the result of the following expressions and check them using the Python shell.\n",
    "```\n",
    "(a) 7 // 4   - 1\n",
    "(b) 7 % 4    - 3\n",
    "(c) -7 // 4  - -2\n",
    "(d) -7 % 4   - 1 \n",
    "(e) 7 // -4  - -2\n",
    "(f) 7 % -4   - -1\n",
    "(g) -7 // -4 - 1\n",
    "(h) -7 % -4  - -3\n"
   ]
  },
  {
   "cell_type": "code",
   "execution_count": 94,
   "id": "2addba66",
   "metadata": {},
   "outputs": [
    {
     "name": "stdout",
     "output_type": "stream",
     "text": [
      "a. 1\n",
      "b. 3\n",
      "c. -2\n",
      "d. 1\n",
      "e. -2\n",
      "f. -1\n",
      "g. 1\n",
      "h. -3\n"
     ]
    }
   ],
   "source": [
    "print('a.',7 // 4)\n",
    "print('b.',7 % 4)\n",
    "print('c.',-7 // 4)\n",
    "print('d.',-7 % 4)\n",
    "print('e.', 7// -4)\n",
    "print('f.',7 % -4)\n",
    "print('g.',-7 // -4)\n",
    "print('h.',-7 % -4)\n"
   ]
  },
  {
   "cell_type": "markdown",
   "id": "05371873",
   "metadata": {},
   "source": [
    "Q2.2.7 If two adjacent sides of a regular, six-sided die have the values a and b when\n",
    "viewed side-on and read left to right, the value on the top of the die is given by **3(a<sup>3</sup>b −ab<sup>3</sup>) mod 7**.\n",
    "Determine the value on the top of the die if   \n",
    "```\n",
    "(a) a = 2, b = 6,   \n",
    "(b) a = 3, b = 5.  \n"
   ]
  },
  {
   "cell_type": "code",
   "execution_count": 57,
   "id": "39510824",
   "metadata": {},
   "outputs": [
    {
     "name": "stdout",
     "output_type": "stream",
     "text": [
      "(a) 3\n",
      "(b) 1\n"
     ]
    }
   ],
   "source": [
    "a=2 \n",
    "b=6\n",
    "print('(a)', 3*(a**3*b - a*b**3) % 7)\n",
    "a=3\n",
    "b=5\n",
    "print('(b)', 3*(a**3*b - a*b**3) % 7)"
   ]
  },
  {
   "cell_type": "markdown",
   "id": "542a7166",
   "metadata": {},
   "source": [
    "Q2.2.8 How many times must a sheet of paper (thickness,t = 0.1 mm but otherwise any size required) be folded to reach the Moon (distance from Earth, d = 384,400 km)?\n"
   ]
  },
  {
   "cell_type": "code",
   "execution_count": 84,
   "id": "43b5be94",
   "metadata": {},
   "outputs": [
    {
     "name": "stdout",
     "output_type": "stream",
     "text": [
      "Min. no. folds required -  42\n"
     ]
    }
   ],
   "source": [
    "d= 384400*1000*1000*10  ## distance in 10^-1mm\n",
    "folds=log(d, 2)\n",
    "print('Min. no. folds required - ',round(folds))"
   ]
  },
  {
   "cell_type": "markdown",
   "id": "f33b995e",
   "metadata": {},
   "source": [
    "Q2.2.9 Predict the results of the following expressions and check them using the Python shell.  \n",
    "```\n",
    "(a) not 1 < 2 or 4 > 2                 - True\n",
    "(b) not (1 < 2 or 4 > 2)               - False\n",
    "(c) 1 < 2 or 4 > 2                     - True\n",
    "(d) 4 > 2 or 10/0 == 0                 - True\n",
    "(e) not 0 < 1                          - False\n",
    "(f) 1 and 2                            - 2\n",
    "(g) 0 and 1                            - 0\n",
    "(h) 1 or 0                             - 1\n",
    "(i) type(complex(2, 3).real) is int    - False\n"
   ]
  },
  {
   "cell_type": "code",
   "execution_count": 95,
   "id": "29825ac1",
   "metadata": {},
   "outputs": [
    {
     "name": "stdout",
     "output_type": "stream",
     "text": [
      "a. True\n",
      "b. False\n",
      "c. True\n",
      "d. True\n",
      "e. False\n",
      "f. 2\n",
      "g. 0\n",
      "h. 1\n",
      "i. False\n"
     ]
    }
   ],
   "source": [
    "print('a.', not 1 < 2 or 4 > 2)\n",
    "print('b.', not (1 < 2 or 4 > 2))\n",
    "print('c.', 1 < 2 or 4 > 2)\n",
    "print('d.', 4 > 2 or 10/0 == 0)\n",
    "print('e.', not 0 < 1)\n",
    "print('f.', 1 and 2)\n",
    "print('g.', 0 and 1)\n",
    "print('h.', 1 or 0)\n",
    "print('i.', type(complex(2, 3).real) is int)"
   ]
  },
  {
   "cell_type": "markdown",
   "id": "25461e9e",
   "metadata": {},
   "source": [
    "Q2.2.10 Explain why the following expression does not evaluate to 100.\n",
    "```\n",
    ">>> 10^2\n",
    "8\n"
   ]
  },
  {
   "cell_type": "markdown",
   "id": "c31fbf8e",
   "metadata": {},
   "source": [
    "**ans :**  \n",
    "10 = 1010(binary)  \n",
    "2 = 0010(binary)  \n",
    "  \n",
    ": ^ is xor operator {returns 1 if one of the bits is 1 and the other is 0 else returns false.}  \n",
    "      \n",
    "10 ^ 2 :  \n",
    "**1010**  \n",
    "    ^   \n",
    "**0010**  \n",
    "**1000 (binary) => 8**  "
   ]
  }
 ],
 "metadata": {
  "kernelspec": {
   "display_name": "Python 3",
   "language": "python",
   "name": "python3"
  },
  "language_info": {
   "codemirror_mode": {
    "name": "ipython",
    "version": 3
   },
   "file_extension": ".py",
   "mimetype": "text/x-python",
   "name": "python",
   "nbconvert_exporter": "python",
   "pygments_lexer": "ipython3",
   "version": "3.9.0"
  }
 },
 "nbformat": 4,
 "nbformat_minor": 5
}
