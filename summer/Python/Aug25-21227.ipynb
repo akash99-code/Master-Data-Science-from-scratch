{
 "cells": [
  {
   "cell_type": "code",
   "execution_count": 1,
   "metadata": {
    "executionInfo": {
     "elapsed": 648,
     "status": "ok",
     "timestamp": 1629883395841,
     "user": {
      "displayName": "Jammi Kunal",
      "photoUrl": "https://lh3.googleusercontent.com/a-/AOh14Gh3zNxRaIiJCAW5h0G9L9Qp58H7sndpCQG7BX15yw=s64",
      "userId": "11190505566074938915"
     },
     "user_tz": -330
    },
    "id": "ZjMFEZsUnp37"
   },
   "outputs": [],
   "source": [
    "import math"
   ]
  },
  {
   "cell_type": "markdown",
   "metadata": {
    "id": "zCpzrEOOm3az"
   },
   "source": [
    "## probelms in Functions\n",
    "\n",
    "1. Recall that the *hyperbolic sine*, denoted by $sinh$, is ${exp(x)−exp(−x)\\over 2}$. Write a function `my_sinh(x)`, where the output `y` is the *hyperbolic sine* computed on x. Assume that x is a 1 by 1 float."
   ]
  },
  {
   "cell_type": "code",
   "execution_count": 7,
   "metadata": {
    "colab": {
     "base_uri": "https://localhost:8080/"
    },
    "executionInfo": {
     "elapsed": 7,
     "status": "ok",
     "timestamp": 1629883398078,
     "user": {
      "displayName": "Jammi Kunal",
      "photoUrl": "https://lh3.googleusercontent.com/a-/AOh14Gh3zNxRaIiJCAW5h0G9L9Qp58H7sndpCQG7BX15yw=s64",
      "userId": "11190505566074938915"
     },
     "user_tz": -330
    },
    "id": "1gFisi2Rm3a3",
    "outputId": "6e78462a-1eb6-4445-bb6e-9b53658c19db"
   },
   "outputs": [
    {
     "data": {
      "text/plain": [
       "1.7467135528742547e+19"
      ]
     },
     "execution_count": 7,
     "metadata": {},
     "output_type": "execute_result"
    }
   ],
   "source": [
    "def my_sinh(x):\n",
    "    return (math.exp(x)-math.exp(-x))/2\n",
    "\n",
    "my_sinh(45)"
   ]
  },
  {
   "cell_type": "markdown",
   "metadata": {
    "id": "OVFldlEam3a5"
   },
   "source": [
    "2. Write a function `ar_triangle(b,h)` where the output is the area of a triangle with base, $b,$ and height, $h.$ Recall that the area of a triangle is one-half the base times the height. Assume that $b$ and $h$ are just 1 by 1 float numbers."
   ]
  },
  {
   "cell_type": "code",
   "execution_count": 8,
   "metadata": {
    "colab": {
     "base_uri": "https://localhost:8080/"
    },
    "executionInfo": {
     "elapsed": 556,
     "status": "ok",
     "timestamp": 1629883516080,
     "user": {
      "displayName": "Jammi Kunal",
      "photoUrl": "https://lh3.googleusercontent.com/a-/AOh14Gh3zNxRaIiJCAW5h0G9L9Qp58H7sndpCQG7BX15yw=s64",
      "userId": "11190505566074938915"
     },
     "user_tz": -330
    },
    "id": "5sl9Psx3m3a7",
    "outputId": "40c85d99-4a8b-41ba-ae89-b73dfa867156"
   },
   "outputs": [
    {
     "data": {
      "text/plain": [
       "2.0"
      ]
     },
     "execution_count": 8,
     "metadata": {},
     "output_type": "execute_result"
    }
   ],
   "source": [
    "def ar_traingle(b,h):\n",
    "    return (0.5*b*h)\n",
    "\n",
    "ar_traingle(2,2)"
   ]
  },
  {
   "cell_type": "markdown",
   "metadata": {
    "id": "jiGrORD2m3a7"
   },
   "source": [
    "3. Write a function `vol_cylinder(r,h)`, where $r$ and $h$ are the radius and height of a cylinder, respectively, and the output is a list $[s, v]$ where $s$ and $v$ are the surface area and volume of the same cylinder, respectively. Recall that the surface area of a cylinder is $2πr^2+2πrh,$ and the volume is $πr^2h.$    Assume that $r$ and $h$ are 1 by 1 float."
   ]
  },
  {
   "cell_type": "code",
   "execution_count": 9,
   "metadata": {
    "colab": {
     "base_uri": "https://localhost:8080/"
    },
    "executionInfo": {
     "elapsed": 436,
     "status": "ok",
     "timestamp": 1629883664733,
     "user": {
      "displayName": "Jammi Kunal",
      "photoUrl": "https://lh3.googleusercontent.com/a-/AOh14Gh3zNxRaIiJCAW5h0G9L9Qp58H7sndpCQG7BX15yw=s64",
      "userId": "11190505566074938915"
     },
     "user_tz": -330
    },
    "id": "L6E-uHNqm3a8",
    "outputId": "bf79a3d4-50d3-4934-d082-d9cb46ef1d29"
   },
   "outputs": [
    {
     "data": {
      "text/plain": [
       "[125.66370614359172, 100.53096491487338]"
      ]
     },
     "execution_count": 9,
     "metadata": {},
     "output_type": "execute_result"
    }
   ],
   "source": [
    "def vol_cylinder(r,h):\n",
    "    s = (2*math.pi*r*r)+(2*math.pi*r*h)\n",
    "    v = math.pi*r*r*h\n",
    "    return [s,v]\n",
    "\n",
    "vol_cylinder(2,8)"
   ]
  },
  {
   "cell_type": "markdown",
   "metadata": {
    "id": "IH6Ltx2ym3a-"
   },
   "source": [
    "4.  Write a function `n_odds(x)`, where $x$ is a one-dimensional array of floats and the output is the number of odd numbers in $x.$"
   ]
  },
  {
   "cell_type": "code",
   "execution_count": 16,
   "metadata": {
    "id": "1rdmEPqIm3a_"
   },
   "outputs": [
    {
     "data": {
      "text/plain": [
       "2"
      ]
     },
     "execution_count": 16,
     "metadata": {},
     "output_type": "execute_result"
    }
   ],
   "source": [
    "def n_odds(x):\n",
    "    n=0\n",
    "    for ele in x:\n",
    "        if(math.floor(ele)%2==1):\n",
    "            n+=1\n",
    "    return n\n",
    "\n",
    "n_odds([2.3, 826.3 ,46.1 ,36.45 ,64 ,12.6, 87.2, 45.3])\n"
   ]
  },
  {
   "cell_type": "markdown",
   "metadata": {
    "id": "ZrX_R6uzm3bB"
   },
   "source": [
    "5. a) Write a `lambda` function that takes in $x$ and $y,$ and output the value of $x - y.$\n",
    "\n",
    "   b) Write a function `add_string(s1,s2)`, where the output is the concatenation of the strings s1 and s2."
   ]
  },
  {
   "cell_type": "code",
   "execution_count": 20,
   "metadata": {},
   "outputs": [
    {
     "data": {
      "text/plain": [
       "-6"
      ]
     },
     "execution_count": 20,
     "metadata": {},
     "output_type": "execute_result"
    }
   ],
   "source": [
    "#a\n",
    "f=lambda x,y:x-y\n",
    "\n",
    "f(2,8)"
   ]
  },
  {
   "cell_type": "code",
   "execution_count": 21,
   "metadata": {},
   "outputs": [
    {
     "data": {
      "text/plain": [
       "'jaisairam'"
      ]
     },
     "execution_count": 21,
     "metadata": {},
     "output_type": "execute_result"
    }
   ],
   "source": [
    "#b\n",
    "def add_string(s1,s2):\n",
    "    return s1+s2\n",
    "\n",
    "add_string('jai','sairam')"
   ]
  },
  {
   "cell_type": "markdown",
   "metadata": {
    "id": "jHNB_i5_m3bD"
   },
   "source": []
  }
 ],
 "metadata": {
  "colab": {
   "name": "Exercise_funs.ipynb",
   "provenance": []
  },
  "kernelspec": {
   "display_name": "Python 3",
   "language": "python",
   "name": "python3"
  },
  "language_info": {
   "codemirror_mode": {
    "name": "ipython",
    "version": 3
   },
   "file_extension": ".py",
   "mimetype": "text/x-python",
   "name": "python",
   "nbconvert_exporter": "python",
   "pygments_lexer": "ipython3",
   "version": "3.9.0"
  }
 },
 "nbformat": 4,
 "nbformat_minor": 1
}
