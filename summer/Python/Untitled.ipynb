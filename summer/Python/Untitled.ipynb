{
 "cells": [
  {
   "cell_type": "markdown",
   "id": "ee5d399d",
   "metadata": {},
   "source": [
    "### 1. What is a variable in Python?\n",
    "> Variable in python is a name given to memory reference, where some type of data/value is stored and which can be accessed using the variable itself. A variable can be perceived as container for holding a data."
   ]
  },
  {
   "cell_type": "markdown",
   "id": "6feeeaf7",
   "metadata": {},
   "source": [
    "### 2. How do you create a variable?\n",
    "> By assigning '=' some data to a word, which follows variable naming rules."
   ]
  },
  {
   "cell_type": "code",
   "execution_count": 16,
   "id": "b118e3f0",
   "metadata": {},
   "outputs": [],
   "source": [
    "variable_name='data'"
   ]
  },
  {
   "cell_type": "markdown",
   "id": "aa53f4d7",
   "metadata": {},
   "source": [
    "### 3. How do you check the value within a variable?\n",
    "> print the variable or simply execute the variable name in shell."
   ]
  },
  {
   "cell_type": "code",
   "execution_count": 17,
   "id": "dbb2ee7c",
   "metadata": {},
   "outputs": [
    {
     "name": "stdout",
     "output_type": "stream",
     "text": [
      "data\n"
     ]
    }
   ],
   "source": [
    "print(variable_name)"
   ]
  },
  {
   "cell_type": "markdown",
   "id": "bf082461",
   "metadata": {},
   "source": [
    "### 4. How do you create multiple variables in a single statement?"
   ]
  },
  {
   "cell_type": "code",
   "execution_count": 9,
   "id": "f8752017",
   "metadata": {},
   "outputs": [
    {
     "name": "stdout",
     "output_type": "stream",
     "text": [
      "3 2 1\n"
     ]
    }
   ],
   "source": [
    "v1,v2,v3 = 3,2,1\n",
    "print(v1,v2,v3)"
   ]
  },
  {
   "cell_type": "markdown",
   "id": "7d1733cd",
   "metadata": {},
   "source": [
    "### 5. How do you create multiple variables with the same value?"
   ]
  },
  {
   "cell_type": "code",
   "execution_count": 11,
   "id": "2737287c",
   "metadata": {},
   "outputs": [
    {
     "name": "stdout",
     "output_type": "stream",
     "text": [
      "4 4 4\n"
     ]
    }
   ],
   "source": [
    "v1=v2=v3=4\n",
    "print(v1,v2,v3)"
   ]
  },
  {
   "cell_type": "markdown",
   "id": "51c0c6c5",
   "metadata": {},
   "source": [
    "### 6. How do you change the value of a variable?\n",
    "> Reassign '=' the variable with new value."
   ]
  },
  {
   "cell_type": "code",
   "execution_count": 18,
   "id": "62b9eab0",
   "metadata": {},
   "outputs": [
    {
     "name": "stdout",
     "output_type": "stream",
     "text": [
      "value\n"
     ]
    }
   ],
   "source": [
    "variable_name='value'\n",
    "print(variable_name)"
   ]
  },
  {
   "cell_type": "markdown",
   "id": "653ba8b3",
   "metadata": {},
   "source": [
    "### 7. How do you reassign a variable by modifying the previous value?\n",
    "> Refer to the value using the variable, modify it and reassign the new value to the same variable."
   ]
  },
  {
   "cell_type": "code",
   "execution_count": 19,
   "id": "692c8cc9",
   "metadata": {},
   "outputs": [
    {
     "name": "stdout",
     "output_type": "stream",
     "text": [
      "value/data\n"
     ]
    }
   ],
   "source": [
    "variable_name = variable_name+'/data'\n",
    "print(variable_name)"
   ]
  },
  {
   "cell_type": "markdown",
   "id": "c873f467",
   "metadata": {},
   "source": [
    "### 8. What does the statement `counter += 4` do?\n",
    "> Increase the value of variable `counter` by 4."
   ]
  },
  {
   "cell_type": "code",
   "execution_count": 20,
   "id": "b4ccb1c6",
   "metadata": {},
   "outputs": [
    {
     "name": "stdout",
     "output_type": "stream",
     "text": [
      "5\n"
     ]
    }
   ],
   "source": [
    "counter=1\n",
    "counter +=4\n",
    "print(counter)"
   ]
  },
  {
   "cell_type": "markdown",
   "id": "0ade674d",
   "metadata": {},
   "source": [
    "### 9. What are the rules for naming a variable?\n",
    "> * A variable's name must start with a letter or the underscore character _. \n",
    "> * It cannot begin with a number.\n",
    "> * A variable name can only contain lowercase (small) or uppercase (capital) letters, digits, or underscores (a-z, A-Z, 0-9, and _)."
   ]
  },
  {
   "cell_type": "markdown",
   "id": "11a106cf",
   "metadata": {},
   "source": [
    "### 10. Are variable names case-sensitive? Do `a_variable`, `A_Variable`, and `A_VARIABLE` represent the same variable or different ones?\n",
    "> * Yes, python variables are case-sensitive.\n",
    "> * They represent different variables. "
   ]
  },
  {
   "cell_type": "code",
   "execution_count": null,
   "id": "4eb8de69",
   "metadata": {},
   "outputs": [],
   "source": []
  },
  {
   "cell_type": "markdown",
   "id": "0d5a1430",
   "metadata": {},
   "source": [
    "### 11. What is Syntax? Why is it important?\n",
    "> * The syntax of a programming language refers to the rules that govern the structure of a valid instruction or statement. \n",
    "> * Syntax are important because they are rules of grammar for any programming language and following proper grammer helps compiler to generate machine code accordingly."
   ]
  },
  {
   "cell_type": "markdown",
   "id": "09dc5091",
   "metadata": {},
   "source": [
    "### 12. What happens if you execute a statement with invalid syntax?\n",
    "> Python raises a syntax error, when it encounters the invalid syntax."
   ]
  },
  {
   "cell_type": "markdown",
   "id": "537d17e3",
   "metadata": {},
   "source": [
    "### 13. How do you check the data type of a variable?\n",
    "> By using `type` function."
   ]
  },
  {
   "cell_type": "code",
   "execution_count": 22,
   "id": "41c7f4eb",
   "metadata": {},
   "outputs": [
    {
     "name": "stdout",
     "output_type": "stream",
     "text": [
      "<class 'str'> <class 'int'>\n"
     ]
    }
   ],
   "source": [
    "print(type(variable_name), type(v1))"
   ]
  },
  {
   "cell_type": "markdown",
   "id": "74976507",
   "metadata": {},
   "source": [
    "### 14. What are the built-in data types in Python?\n",
    "> Built-in data types in python:\n",
    "> * Integer\n",
    "> * Float\n",
    "> * Boolean\n",
    "> * None\n",
    "> * String\n",
    "> * List\n",
    "> * Tuple\n",
    "> * Dictionary"
   ]
  },
  {
   "cell_type": "markdown",
   "id": "c8ba1c12",
   "metadata": {},
   "source": [
    "### 15. What is a primitive data type?\n",
    "> Primitive data types represents a single value."
   ]
  },
  {
   "cell_type": "markdown",
   "id": "7b627a4e",
   "metadata": {},
   "source": [
    "### 16. What are the primitive data types available in Python?\n",
    "> Integer, Float, Boolean, None, and String"
   ]
  },
  {
   "cell_type": "markdown",
   "id": "aace3b5f",
   "metadata": {},
   "source": [
    "### 17. What is a data structure or container data type?\n",
    "> Data structure or Container data type represents collection of multiple primitive types. They hold multiple pieces of data together."
   ]
  },
  {
   "cell_type": "markdown",
   "id": "b628172a",
   "metadata": {},
   "source": [
    "### 18. What are the container types available in Python?\n",
    "> List, Tuple, and Dictionary"
   ]
  },
  {
   "cell_type": "markdown",
   "id": "a7ea8835",
   "metadata": {},
   "source": [
    "### 19. What kind of data does the Integer data type represent?\n",
    "> Integers represent positive or negative whole numbers. Integers should not include decimal points."
   ]
  },
  {
   "cell_type": "markdown",
   "id": "446c1626",
   "metadata": {},
   "source": [
    "### 20. What are the numerical limits of the integer data type?\n",
    "> Integers in Python has no numerical limits and can be arbitrarily large (or small) ranging from from negative infinity to infinity"
   ]
  },
  {
   "cell_type": "markdown",
   "id": "6ed64717",
   "metadata": {},
   "source": [
    "### 21. What kind of data does the float data type represent?\n",
    "> Numbers with a decimal point."
   ]
  },
  {
   "cell_type": "markdown",
   "id": "d23d8261",
   "metadata": {},
   "source": [
    "### 22. How does Python decide if a given number is a float or an integer?\n",
    "> If number has decimal point in it, python declares it as a float otherwise an integer."
   ]
  },
  {
   "cell_type": "markdown",
   "id": "2d49cd76",
   "metadata": {},
   "source": [
    "### 23. How can you create a variable which stores a whole number, e.g., 4 but has the float data type?"
   ]
  },
  {
   "cell_type": "code",
   "execution_count": 29,
   "id": "8f6c525e",
   "metadata": {},
   "outputs": [
    {
     "data": {
      "text/plain": [
       "float"
      ]
     },
     "execution_count": 29,
     "metadata": {},
     "output_type": "execute_result"
    }
   ],
   "source": [
    "whole_no = 4.0\n",
    "type(whole_no)"
   ]
  },
  {
   "cell_type": "markdown",
   "id": "beb68529",
   "metadata": {},
   "source": [
    "### 24. How do you create floats representing very large (e.g., 6.023 x 10^23) or very small numbers (0.000000123)?\n",
    "> We can do by using the scientific notation with an \"e\" to indicate the power of 10."
   ]
  },
  {
   "cell_type": "code",
   "execution_count": 30,
   "id": "2cf99093",
   "metadata": {},
   "outputs": [
    {
     "name": "stdout",
     "output_type": "stream",
     "text": [
      "6.023 x 10^23 -> 6.023e+23\n",
      "0.000000123 -> 1.23e-07\n"
     ]
    }
   ],
   "source": [
    "print('6.023 x 10^23 ->', 6.023e23)\n",
    "print('0.000000123 ->', 123e-9)"
   ]
  },
  {
   "cell_type": "markdown",
   "id": "74eb1a2f",
   "metadata": {},
   "source": [
    "### 25. What does the expression `23e-12` represent?\n",
    "> $23 \\times 10^{-12}$"
   ]
  },
  {
   "cell_type": "markdown",
   "id": "49420889",
   "metadata": {},
   "source": [
    "### 26. Can floats be used to store numbers with unlimited precision?\n",
    "> Yes, as are no limits on the value or the number of digits before or after the decimal point."
   ]
  },
  {
   "cell_type": "markdown",
   "id": "94cc739e",
   "metadata": {},
   "source": [
    "### 27. What are the differences between integers and floats?\n",
    "> * Floats should contain a decimal points while Integers should not.\n",
    "> * Large floats can be represented using scientific notation while Integers cannot.\n",
    "> * An Integer can be represented as Float, while a Float cannot be represented as an Integer without loosing precision of the value."
   ]
  },
  {
   "cell_type": "markdown",
   "id": "9a85d0d1",
   "metadata": {},
   "source": [
    "### 28. How do you convert an integer to a float?"
   ]
  },
  {
   "cell_type": "code",
   "execution_count": 31,
   "id": "afbc1d99",
   "metadata": {},
   "outputs": [
    {
     "name": "stdout",
     "output_type": "stream",
     "text": [
      "123 123.0\n"
     ]
    }
   ],
   "source": [
    "# using float function\n",
    "integer = 123\n",
    "floating = float(integer)\n",
    "print(integer, floating)"
   ]
  },
  {
   "cell_type": "markdown",
   "id": "4167153a",
   "metadata": {},
   "source": [
    "### 29. How do you convert a float to an integer?"
   ]
  },
  {
   "cell_type": "code",
   "execution_count": 32,
   "id": "19e58ca8",
   "metadata": {},
   "outputs": [
    {
     "name": "stdout",
     "output_type": "stream",
     "text": [
      "123.321 123\n"
     ]
    }
   ],
   "source": [
    "# using int function\n",
    "floating = 123.321\n",
    "integer = int(floating)\n",
    "print(floating, integer)"
   ]
  },
  {
   "cell_type": "markdown",
   "id": "f39eb1cc",
   "metadata": {},
   "source": [
    "### 30. What is the result obtained when you convert 1.99 to an integer?\n",
    "> It becomes 1, as digits after decimal points are discarded."
   ]
  },
  {
   "cell_type": "code",
   "execution_count": 7,
   "id": "61d73ce9",
   "metadata": {},
   "outputs": [
    {
     "data": {
      "text/plain": [
       "1"
      ]
     },
     "execution_count": 7,
     "metadata": {},
     "output_type": "execute_result"
    }
   ],
   "source": [
    "int(1)"
   ]
  },
  {
   "cell_type": "markdown",
   "id": "a03b4782",
   "metadata": {},
   "source": [
    "### 31. What are the data types of the results of the division operators `/` and `//`?\n",
    "> * Result of `/` operation - float\n",
    "> * Result of `//` operation - int"
   ]
  },
  {
   "cell_type": "code",
   "execution_count": 8,
   "id": "4b8c06fd",
   "metadata": {},
   "outputs": [
    {
     "name": "stdout",
     "output_type": "stream",
     "text": [
      "2.5\n",
      "2\n"
     ]
    }
   ],
   "source": [
    "# example\n",
    "print(5/2)\n",
    "print(5//2)"
   ]
  },
  {
   "cell_type": "markdown",
   "id": "d5e70218",
   "metadata": {},
   "source": [
    "### 32. What kind of data does the Boolean data type represent?\n",
    "> Booleans represent one of the 2 values: True and False"
   ]
  },
  {
   "cell_type": "markdown",
   "id": "4544c842",
   "metadata": {},
   "source": [
    "### 33. Which types of Python operators return booleans as a result?\n",
    ">* Relational Operators ( <, >, ==, !=, >=, <=)\n",
    ">* Logical Operators (and, or, not)"
   ]
  },
  {
   "cell_type": "markdown",
   "id": "6aae18d4",
   "metadata": {},
   "source": [
    "### 34. What happens if you try to use a boolean in arithmetic operation?\n",
    "> Booleans are automatically converted to `int`s when used in arithmetic operations.\n",
    "> * True is converted to 1\n",
    "> * False is converted to 0"
   ]
  },
  {
   "cell_type": "code",
   "execution_count": 6,
   "id": "7e32225b",
   "metadata": {},
   "outputs": [
    {
     "name": "stdout",
     "output_type": "stream",
     "text": [
      "6\n",
      "0\n"
     ]
    }
   ],
   "source": [
    "#Example-\n",
    "print(5+True)\n",
    "print(5*False)"
   ]
  },
  {
   "cell_type": "markdown",
   "id": "0b990031",
   "metadata": {},
   "source": [
    "### 35. How can any value in Python be converted to a boolean?\n",
    "> Using bool function"
   ]
  },
  {
   "cell_type": "code",
   "execution_count": 11,
   "id": "bc018d7d",
   "metadata": {},
   "outputs": [
    {
     "data": {
      "text/plain": [
       "True"
      ]
     },
     "execution_count": 11,
     "metadata": {},
     "output_type": "execute_result"
    }
   ],
   "source": [
    "#Eample -\n",
    "bool(100)"
   ]
  },
  {
   "cell_type": "markdown",
   "id": "a428d1ce",
   "metadata": {},
   "source": [
    "### 36. What are truthy and falsy values?\n",
    "> * When `bool(value)` = False, the `value` can be called Falsy.\n",
    "> * When `bool(value)` = True,  the `value` can be called Truthy."
   ]
  },
  {
   "cell_type": "markdown",
   "id": "af0b4051",
   "metadata": {},
   "source": [
    "### 37. What are the values in Python that evaluate to False?\n",
    "> * False (boolean)\n",
    "> * 0 (integer)\n",
    "> * 0.0 (float)\n",
    "> * None (empty object)\n",
    "> * \"\" (empty string)\n",
    "> * [] (empty List)\n",
    "> * () (empty Set)\n",
    "> * {} (empty Dictionary)\n",
    "> * () (empty Set)\n",
    "> * range(0) (empty range)"
   ]
  },
  {
   "cell_type": "markdown",
   "id": "506532e7",
   "metadata": {},
   "source": [
    "### 38. Give some examples of values that evaluate to True."
   ]
  },
  {
   "cell_type": "code",
   "execution_count": 15,
   "id": "ef261b89",
   "metadata": {},
   "outputs": [
    {
     "name": "stdout",
     "output_type": "stream",
     "text": [
      "True\n",
      "True\n",
      "True\n",
      "True\n"
     ]
    }
   ],
   "source": [
    "print(bool(12))\n",
    "print(bool(\"Akash\"))\n",
    "print(bool([1,5]))\n",
    "print(bool(20.6))"
   ]
  },
  {
   "cell_type": "markdown",
   "id": "656bf879",
   "metadata": {},
   "source": [
    "### 39. What kind of data does the None data type represent?\n",
    "> The None type includes a single value `None`, used to indicate the absence of a value. "
   ]
  },
  {
   "cell_type": "markdown",
   "id": "7a3b4ae6",
   "metadata": {},
   "source": [
    "### 40. What is the purpose of None?\n",
    "> None is often used to declare a variable whose value may be assigned later."
   ]
  },
  {
   "cell_type": "markdown",
   "id": "3eef634f",
   "metadata": {},
   "source": [
    "### 41. What kind of data does the String data type represent?\n",
    "> A string is used to represent text (a string of characters)."
   ]
  },
  {
   "cell_type": "markdown",
   "id": "5eba84f0",
   "metadata": {},
   "source": [
    "### 42. What are the different ways of creating strings in Python?"
   ]
  },
  {
   "cell_type": "code",
   "execution_count": 25,
   "id": "b732497b",
   "metadata": {},
   "outputs": [
    {
     "name": "stdout",
     "output_type": "stream",
     "text": [
      "akash bairagi\n",
      "!  Sairam!!\n",
      "Sairam\n",
      "akash\n",
      " ~Sairam Python~\n"
     ]
    }
   ],
   "source": [
    "# using single quotes\n",
    "str1 = 'akash bairagi'\n",
    "\n",
    "# using double quotes\n",
    "str2 = \"!  Sairam!!\"\n",
    "\n",
    "# using 3 single quotes\n",
    "str3 = '''Sairam\n",
    "akash'''\n",
    "\n",
    "# using 3 double quotes\n",
    "str4 = \"\"\" ~Sairam Python~\"\"\"\n",
    "\n",
    "print(str1)\n",
    "print(str2)\n",
    "print(str3)\n",
    "print(str4)"
   ]
  },
  {
   "cell_type": "markdown",
   "id": "caa741fc",
   "metadata": {},
   "source": [
    "### 43. What is the difference between strings creating using single quotes, i.e. `'` and `'` vs. those created using double quotes, i.e. `\"` and `\"`?\n",
    "> The strings have no such difference. We can use single quotes inside a string written with double quotes, and vice versa."
   ]
  },
  {
   "cell_type": "markdown",
   "id": "136139d2",
   "metadata": {},
   "source": [
    "### 44. How do you create multi-line strings in Python?\n",
    "> * enclosing strings 3 single quotes ` ''' `\n",
    "> * enclosing strings 3 double quotes `\"\"\"`\n",
    "> * using newline character `\\n` to start a new line."
   ]
  },
  {
   "cell_type": "markdown",
   "id": "09d6446a",
   "metadata": {},
   "source": [
    "### 45. What is the newline character, `\\n`?\n",
    "> Newline character `\\n` represents line break or Enter."
   ]
  },
  {
   "cell_type": "markdown",
   "id": "20d63341",
   "metadata": {},
   "source": [
    "### 46. What are escaped characters? How are they useful?\n",
    "> * Escaped characters are characters represented using a backslash `\\` followed by the character which will be interpreted differently when printed.\n",
    "> * Escaped characters can be \n",
    "    * used to insert an illegal character in a string\n",
    "    * used to give special direction to the output stream"
   ]
  },
  {
   "cell_type": "markdown",
   "id": "7d435af3",
   "metadata": {},
   "source": [
    "### 47. How do you check the length of a string?"
   ]
  },
  {
   "cell_type": "code",
   "execution_count": 28,
   "id": "13784ad9",
   "metadata": {},
   "outputs": [
    {
     "data": {
      "text/plain": [
       "16"
      ]
     },
     "execution_count": 28,
     "metadata": {},
     "output_type": "execute_result"
    }
   ],
   "source": [
    "# using function len\n",
    "len(str4)"
   ]
  },
  {
   "cell_type": "markdown",
   "id": "b4269381",
   "metadata": {},
   "source": [
    "### 48. How do you convert a string into a list of characters?"
   ]
  },
  {
   "cell_type": "code",
   "execution_count": 30,
   "id": "e43e517c",
   "metadata": {},
   "outputs": [
    {
     "name": "stdout",
     "output_type": "stream",
     "text": [
      "[' ', '~', 'S', 'a', 'i', 'r', 'a', 'm', ' ', 'P', 'y', 't', 'h', 'o', 'n', '~']\n"
     ]
    }
   ],
   "source": [
    "# using list function\n",
    "print(list(str4))"
   ]
  },
  {
   "cell_type": "markdown",
   "id": "ace99023",
   "metadata": {},
   "source": [
    "### 49. How do you access a specific character from a string?\n",
    "> Using the `[]` indexing notation, we can access aspecific character from a string."
   ]
  },
  {
   "cell_type": "code",
   "execution_count": 33,
   "id": "fe21b541",
   "metadata": {},
   "outputs": [
    {
     "data": {
      "text/plain": [
       "'S'"
      ]
     },
     "execution_count": 33,
     "metadata": {},
     "output_type": "execute_result"
    }
   ],
   "source": [
    "str4[2]"
   ]
  },
  {
   "cell_type": "markdown",
   "id": "2e676b85",
   "metadata": {},
   "source": [
    "### 50. How do you access a range of characters from a string?\n",
    "> Using notation `[start:end]` we can access a range of characters from a string."
   ]
  },
  {
   "cell_type": "code",
   "execution_count": 35,
   "id": "ca4db067",
   "metadata": {},
   "outputs": [
    {
     "data": {
      "text/plain": [
       "'ash'"
      ]
     },
     "execution_count": 35,
     "metadata": {},
     "output_type": "execute_result"
    }
   ],
   "source": [
    "str1[2:5]"
   ]
  },
  {
   "cell_type": "markdown",
   "id": "294fde9c",
   "metadata": {},
   "source": [
    "### 51. How do you check if a specific character occurs in a string?"
   ]
  },
  {
   "cell_type": "code",
   "execution_count": 36,
   "id": "f957950d",
   "metadata": {},
   "outputs": [
    {
     "data": {
      "text/plain": [
       "True"
      ]
     },
     "execution_count": 36,
     "metadata": {},
     "output_type": "execute_result"
    }
   ],
   "source": [
    "# using 'in' operator\n",
    "'a' in str1"
   ]
  },
  {
   "cell_type": "markdown",
   "id": "0f5ef052",
   "metadata": {},
   "source": [
    "### 52. How do you check if a smaller string occurs within a bigger string?"
   ]
  },
  {
   "cell_type": "code",
   "execution_count": 37,
   "id": "43058d08",
   "metadata": {},
   "outputs": [
    {
     "data": {
      "text/plain": [
       "True"
      ]
     },
     "execution_count": 37,
     "metadata": {},
     "output_type": "execute_result"
    }
   ],
   "source": [
    "# using 'in' operator\n",
    "'akash' in str1"
   ]
  },
  {
   "cell_type": "markdown",
   "id": "08410dff",
   "metadata": {},
   "source": [
    "### 53. How do you join two or more strings?"
   ]
  },
  {
   "cell_type": "code",
   "execution_count": 39,
   "id": "66762d4b",
   "metadata": {},
   "outputs": [
    {
     "data": {
      "text/plain": [
       "'akash bairagi!  Sairam!!'"
      ]
     },
     "execution_count": 39,
     "metadata": {},
     "output_type": "execute_result"
    }
   ],
   "source": [
    "# using '+' operator\n",
    "str1 + str2"
   ]
  },
  {
   "cell_type": "markdown",
   "id": "ddd1b4a4",
   "metadata": {},
   "source": [
    "### 54. What are \"methods\" in Python? How are they different from functions?\n",
    "> * Methods are functions associated with  a particular data type and are accessed using the  `.` notation.\n",
    "> * Functions are independent of any data types."
   ]
  },
  {
   "cell_type": "code",
   "execution_count": 40,
   "id": "668e16e5",
   "metadata": {},
   "outputs": [
    {
     "name": "stdout",
     "output_type": "stream",
     "text": [
      "akash bairagi\n"
     ]
    }
   ],
   "source": [
    "# method example\n",
    "str1.upper() # upper() method defined for string data types only\n",
    "\n",
    "#function example\n",
    "print(str1) # print function works for any data type"
   ]
  },
  {
   "cell_type": "markdown",
   "id": "6b337891",
   "metadata": {},
   "source": [
    "### 55. What do the `.lower`, `.upper` and `.capitalize` methods on strings do?"
   ]
  },
  {
   "cell_type": "code",
   "execution_count": 41,
   "id": "295a1c0b",
   "metadata": {},
   "outputs": [
    {
     "name": "stdout",
     "output_type": "stream",
     "text": [
      "akash bairagi\n",
      "AKASH BAIRAGI\n",
      "Akash bairagi\n"
     ]
    }
   ],
   "source": [
    "# .lower() - changes all characters to lowercase\n",
    "print(str1.lower())\n",
    "\n",
    "# .upper() - changes all characters to uppercase\n",
    "print(str1.upper())\n",
    "\n",
    "# .capitalize() - changes first character to uppercase\n",
    "print(str1.capitalize())\n"
   ]
  },
  {
   "cell_type": "markdown",
   "id": "511a5654",
   "metadata": {},
   "source": [
    "### 56. How do you replace a specific part of a string with something else?"
   ]
  },
  {
   "cell_type": "code",
   "execution_count": 44,
   "id": "31c4c9f3",
   "metadata": {},
   "outputs": [
    {
     "data": {
      "text/plain": [
       "'akash sairam'"
      ]
     },
     "execution_count": 44,
     "metadata": {},
     "output_type": "execute_result"
    }
   ],
   "source": [
    "# using .replace() method\n",
    "str1.replace('bairagi', 'sairam')"
   ]
  },
  {
   "cell_type": "markdown",
   "id": "49c96ce6",
   "metadata": {},
   "source": [
    "### 57. How do you split the string \"Sun,Mon,Tue,Wed,Thu,Fri,Sat\" into a list of days?"
   ]
  },
  {
   "cell_type": "code",
   "execution_count": 45,
   "id": "d60b633b",
   "metadata": {},
   "outputs": [
    {
     "data": {
      "text/plain": [
       "['Sun', 'Mon', 'Tue', 'Wed', 'Thu', 'Fri', 'Sat']"
      ]
     },
     "execution_count": 45,
     "metadata": {},
     "output_type": "execute_result"
    }
   ],
   "source": [
    "# using .split() method\n",
    "\"Sun,Mon,Tue,Wed,Thu,Fri,Sat\".split(\",\")"
   ]
  },
  {
   "cell_type": "markdown",
   "id": "74e82576",
   "metadata": {},
   "source": [
    "### 58. How do you remove whitespace from the beginning and end of a string?"
   ]
  },
  {
   "cell_type": "code",
   "execution_count": 46,
   "id": "b07c83bc",
   "metadata": {},
   "outputs": [
    {
     "data": {
      "text/plain": [
       "'jai sairam'"
      ]
     },
     "execution_count": 46,
     "metadata": {},
     "output_type": "execute_result"
    }
   ],
   "source": [
    "# using .strip() method\n",
    "\"     jai sairam    \".strip()"
   ]
  },
  {
   "cell_type": "markdown",
   "id": "fd08eb75",
   "metadata": {},
   "source": [
    "### 59. What is the string `.format` method used for? Can you give an example?\n",
    "> The `.format` method combines values of other data types with strings."
   ]
  },
  {
   "cell_type": "code",
   "execution_count": 51,
   "id": "878ed258",
   "metadata": {},
   "outputs": [
    {
     "data": {
      "text/plain": [
       "'( 2 x 3 + 5 ) is 11'"
      ]
     },
     "execution_count": 51,
     "metadata": {},
     "output_type": "execute_result"
    }
   ],
   "source": [
    "# Example\n",
    "\"( {} x {} + {} ) is {}\".format(2,3,5, 2*3+5)"
   ]
  },
  {
   "cell_type": "markdown",
   "id": "5f5e8d7d",
   "metadata": {},
   "source": [
    "### 60. What are the benefits of using the `.format` method instead of string concatenation?\n",
    "> The values of other data types required to be converted to string using `str` before concatenating with string."
   ]
  },
  {
   "cell_type": "code",
   "execution_count": 54,
   "id": "c2795629",
   "metadata": {},
   "outputs": [
    {
     "name": "stdout",
     "output_type": "stream",
     "text": [
      "akash99\n"
     ]
    },
    {
     "ename": "TypeError",
     "evalue": "can only concatenate str (not \"int\") to str",
     "output_type": "error",
     "traceback": [
      "\u001b[1;31m---------------------------------------------------------------------------\u001b[0m",
      "\u001b[1;31mTypeError\u001b[0m                                 Traceback (most recent call last)",
      "\u001b[1;32m<ipython-input-54-6bb1a634c13b>\u001b[0m in \u001b[0;36m<module>\u001b[1;34m\u001b[0m\n\u001b[0;32m      1\u001b[0m \u001b[1;31m#demonstration\u001b[0m\u001b[1;33m\u001b[0m\u001b[1;33m\u001b[0m\u001b[1;33m\u001b[0m\u001b[0m\n\u001b[0;32m      2\u001b[0m \u001b[0mprint\u001b[0m\u001b[1;33m(\u001b[0m\u001b[1;34m\"akash\"\u001b[0m\u001b[1;33m+\u001b[0m\u001b[0mstr\u001b[0m\u001b[1;33m(\u001b[0m\u001b[1;36m99\u001b[0m\u001b[1;33m)\u001b[0m\u001b[1;33m)\u001b[0m\u001b[1;33m\u001b[0m\u001b[1;33m\u001b[0m\u001b[0m\n\u001b[1;32m----> 3\u001b[1;33m \u001b[0mprint\u001b[0m\u001b[1;33m(\u001b[0m\u001b[1;34m\"akash\"\u001b[0m\u001b[1;33m+\u001b[0m\u001b[1;36m99\u001b[0m\u001b[1;33m)\u001b[0m\u001b[1;33m\u001b[0m\u001b[1;33m\u001b[0m\u001b[0m\n\u001b[0m",
      "\u001b[1;31mTypeError\u001b[0m: can only concatenate str (not \"int\") to str"
     ]
    }
   ],
   "source": [
    "#demonstration\n",
    "print(\"akash\"+str(99))\n",
    "print(\"akash\"+99)"
   ]
  },
  {
   "cell_type": "markdown",
   "id": "bd723aaa",
   "metadata": {},
   "source": [
    "### 61. How do you convert a value of another type to a string?"
   ]
  },
  {
   "cell_type": "code",
   "execution_count": 56,
   "id": "c3eb4db4",
   "metadata": {},
   "outputs": [
    {
     "data": {
      "text/plain": [
       "'True'"
      ]
     },
     "execution_count": 56,
     "metadata": {},
     "output_type": "execute_result"
    }
   ],
   "source": [
    "# using str() function\n",
    "str(True)"
   ]
  },
  {
   "cell_type": "markdown",
   "id": "76be2d0b",
   "metadata": {},
   "source": [
    "### 62. How do you check if two strings have the same value?"
   ]
  },
  {
   "cell_type": "code",
   "execution_count": 58,
   "id": "c26488a5",
   "metadata": {},
   "outputs": [
    {
     "name": "stdout",
     "output_type": "stream",
     "text": [
      "False\n",
      "True\n"
     ]
    }
   ],
   "source": [
    "# using '==' operator\n",
    "print('sairam'==\"Sairam\")\n",
    "print('Sairam'==\"Sairam\")"
   ]
  },
  {
   "cell_type": "markdown",
   "id": "f5f76763",
   "metadata": {},
   "source": [
    "### 63. Where can you find the list of all the methods supported by strings?"
   ]
  },
  {
   "cell_type": "code",
   "execution_count": 60,
   "id": "f4bba654",
   "metadata": {},
   "outputs": [
    {
     "name": "stdout",
     "output_type": "stream",
     "text": [
      "['__add__', '__class__', '__contains__', '__delattr__', '__dir__', '__doc__', '__eq__', '__format__', '__ge__', '__getattribute__', '__getitem__', '__getnewargs__', '__gt__', '__hash__', '__init__', '__init_subclass__', '__iter__', '__le__', '__len__', '__lt__', '__mod__', '__mul__', '__ne__', '__new__', '__reduce__', '__reduce_ex__', '__repr__', '__rmod__', '__rmul__', '__setattr__', '__sizeof__', '__str__', '__subclasshook__', 'capitalize', 'casefold', 'center', 'count', 'encode', 'endswith', 'expandtabs', 'find', 'format', 'format_map', 'index', 'isalnum', 'isalpha', 'isascii', 'isdecimal', 'isdigit', 'isidentifier', 'islower', 'isnumeric', 'isprintable', 'isspace', 'istitle', 'isupper', 'join', 'ljust', 'lower', 'lstrip', 'maketrans', 'partition', 'removeprefix', 'removesuffix', 'replace', 'rfind', 'rindex', 'rjust', 'rpartition', 'rsplit', 'rstrip', 'split', 'splitlines', 'startswith', 'strip', 'swapcase', 'title', 'translate', 'upper', 'zfill']\n"
     ]
    }
   ],
   "source": [
    "# using dir() function\n",
    "print(dir(str))"
   ]
  },
  {
   "cell_type": "markdown",
   "id": "bbfc94a3",
   "metadata": {},
   "source": [
    "### 65. How do you create a list?\n",
    "> To create a list, enclose a sequence of values within square brackets `[` and `]`, separated by commas."
   ]
  },
  {
   "cell_type": "code",
   "execution_count": 62,
   "id": "d7172deb",
   "metadata": {},
   "outputs": [
    {
     "data": {
      "text/plain": [
       "[1, 5, 3, 6, 7]"
      ]
     },
     "execution_count": 62,
     "metadata": {},
     "output_type": "execute_result"
    }
   ],
   "source": [
    "# example\n",
    "[1,5,3,6,7]"
   ]
  },
  {
   "cell_type": "markdown",
   "id": "ef390693",
   "metadata": {},
   "source": [
    "### 66. Can a Python list contain values of different data types?\n"
   ]
  },
  {
   "cell_type": "code",
   "execution_count": 63,
   "id": "97cf9d9b",
   "metadata": {},
   "outputs": [
    {
     "data": {
      "text/plain": [
       "[1, True, 'sai']"
      ]
     },
     "execution_count": 63,
     "metadata": {},
     "output_type": "execute_result"
    }
   ],
   "source": [
    "# Yes\n",
    "[1,True,'sai']"
   ]
  },
  {
   "cell_type": "markdown",
   "id": "d5bd83ae",
   "metadata": {},
   "source": [
    "### 67. Can a list contain another list as an element within it?"
   ]
  },
  {
   "cell_type": "code",
   "execution_count": 65,
   "id": "b63466b4",
   "metadata": {},
   "outputs": [
    {
     "data": {
      "text/plain": [
       "[1, 'sai', [1, 'world']]"
      ]
     },
     "execution_count": 65,
     "metadata": {},
     "output_type": "execute_result"
    }
   ],
   "source": [
    "# Yes\n",
    "[1,'sai',[1,'world']]"
   ]
  },
  {
   "cell_type": "markdown",
   "id": "61a03333",
   "metadata": {},
   "source": [
    "### 68. Can you create a list without any values?"
   ]
  },
  {
   "cell_type": "code",
   "execution_count": 68,
   "id": "c5217047",
   "metadata": {},
   "outputs": [
    {
     "data": {
      "text/plain": [
       "[]"
      ]
     },
     "execution_count": 68,
     "metadata": {},
     "output_type": "execute_result"
    }
   ],
   "source": [
    "# Yeas\n",
    "list()"
   ]
  },
  {
   "cell_type": "markdown",
   "id": "c2aecb9d",
   "metadata": {},
   "source": [
    "### 69. How do you check the length of a list in Python?"
   ]
  },
  {
   "cell_type": "code",
   "execution_count": 90,
   "id": "1035b54e",
   "metadata": {},
   "outputs": [
    {
     "data": {
      "text/plain": [
       "4"
      ]
     },
     "execution_count": 90,
     "metadata": {},
     "output_type": "execute_result"
    }
   ],
   "source": [
    "# using 'len()' function\n",
    "L = [1,100,3000,4000]\n",
    "len(L)"
   ]
  },
  {
   "cell_type": "markdown",
   "id": "845f1de5",
   "metadata": {},
   "source": [
    "### 70. How do you retrieve a value from a list?"
   ]
  },
  {
   "cell_type": "code",
   "execution_count": 86,
   "id": "909f25de",
   "metadata": {},
   "outputs": [
    {
     "data": {
      "text/plain": [
       "3000"
      ]
     },
     "execution_count": 86,
     "metadata": {},
     "output_type": "execute_result"
    }
   ],
   "source": [
    "# using '[]' index notation\n",
    "L[2]"
   ]
  },
  {
   "cell_type": "markdown",
   "id": "30a88502",
   "metadata": {},
   "source": [
    "### 71. What is the smallest and largest index you can use to access elements from a list containing five elements?\n",
    "> * smallest index - 0\n",
    "> * largest index - 4"
   ]
  },
  {
   "cell_type": "markdown",
   "id": "8deec644",
   "metadata": {},
   "source": [
    "### 72. What happens if you try to access an index equal to or larger than the size of a list?\n",
    "> Python throws `IndexError`, saying list index out of range."
   ]
  },
  {
   "cell_type": "markdown",
   "id": "8b95238f",
   "metadata": {},
   "source": [
    "### 73. What happens if you try to access a negative index within a list?\n",
    "> When -ve index used, it gives the element at (length+neg_index) position of the list."
   ]
  },
  {
   "cell_type": "code",
   "execution_count": 87,
   "id": "b38a937b",
   "metadata": {},
   "outputs": [
    {
     "data": {
      "text/plain": [
       "3000"
      ]
     },
     "execution_count": 87,
     "metadata": {},
     "output_type": "execute_result"
    }
   ],
   "source": [
    "# example\n",
    "L[-2]  ## 4+(-2) = 2"
   ]
  },
  {
   "cell_type": "markdown",
   "id": "271d29ff",
   "metadata": {},
   "source": [
    "### 74. How do you access a range of elements from a list?"
   ]
  },
  {
   "cell_type": "code",
   "execution_count": 76,
   "id": "dcd2d2cf",
   "metadata": {},
   "outputs": [
    {
     "data": {
      "text/plain": [
       "[100, 3000]"
      ]
     },
     "execution_count": 76,
     "metadata": {},
     "output_type": "execute_result"
    }
   ],
   "source": [
    "# using [start:end] notation\n",
    "L[1:-1]"
   ]
  },
  {
   "cell_type": "markdown",
   "id": "ab927546",
   "metadata": {},
   "source": [
    "### 75. How many elements does the list returned by the expression `a_list[2:5]` contain?\n",
    "> 4 elements."
   ]
  },
  {
   "cell_type": "markdown",
   "id": "ccc1bc9c",
   "metadata": {},
   "source": [
    "### 76. What do the ranges `a_list[:2]` and `a_list[2:]` represent?\n",
    "> * `a_list[:2]` is equivalent to `a_list[0:2]`\n",
    "> * `a_list[2:]` is equivalent to `a_list[2:0]`"
   ]
  },
  {
   "cell_type": "markdown",
   "id": "2add2045",
   "metadata": {},
   "source": [
    "### 77. How do you change the item stored at a specific index within a list?"
   ]
  },
  {
   "cell_type": "code",
   "execution_count": 91,
   "id": "28a7a35f",
   "metadata": {},
   "outputs": [
    {
     "data": {
      "text/plain": [
       "[1, 100, 3000, 0]"
      ]
     },
     "execution_count": 91,
     "metadata": {},
     "output_type": "execute_result"
    }
   ],
   "source": [
    "# using assignment operator\n",
    "L[3]=0 # changing item at index 3\n",
    "L"
   ]
  },
  {
   "cell_type": "markdown",
   "id": "1a1887bd",
   "metadata": {},
   "source": [
    "### 78. How do you insert a new item at the beginning, middle, or end of a list?\n"
   ]
  },
  {
   "cell_type": "code",
   "execution_count": 92,
   "id": "ceb68575",
   "metadata": {},
   "outputs": [
    {
     "name": "stdout",
     "output_type": "stream",
     "text": [
      "[180, 1, 100, 3000, 0]\n",
      "[180, 1, 180, 100, 3000, 0]\n",
      "[180, 1, 180, 100, 3000, 0, 180]\n"
     ]
    }
   ],
   "source": [
    "# adding new item at the beginning\n",
    "L.insert(0,180)\n",
    "print(L)\n",
    "\n",
    "# adding new item at the middle\n",
    "L.insert(len(L)//2,180)\n",
    "print(L)\n",
    "\n",
    "# adding new item at the end\n",
    "L.append(180)\n",
    "print(L)\n"
   ]
  },
  {
   "cell_type": "markdown",
   "id": "b9c30839",
   "metadata": {},
   "source": [
    "### 79. How do you remove an item from a list?"
   ]
  },
  {
   "cell_type": "code",
   "execution_count": 93,
   "id": "abc54bb2",
   "metadata": {},
   "outputs": [
    {
     "data": {
      "text/plain": [
       "[180, 1, 180, 100, 3000, 180]"
      ]
     },
     "execution_count": 93,
     "metadata": {},
     "output_type": "execute_result"
    }
   ],
   "source": [
    "# using .remove() method\n",
    "L.remove(0)\n",
    "L"
   ]
  },
  {
   "cell_type": "markdown",
   "id": "5c4861ab",
   "metadata": {},
   "source": [
    "### 80. How do you remove the item at a given index from a list?"
   ]
  },
  {
   "cell_type": "code",
   "execution_count": 94,
   "id": "88c8711a",
   "metadata": {},
   "outputs": [
    {
     "data": {
      "text/plain": [
       "[180, 180, 100, 3000, 180]"
      ]
     },
     "execution_count": 94,
     "metadata": {},
     "output_type": "execute_result"
    }
   ],
   "source": [
    "# using .pop(index) method\n",
    "L.pop(1)\n",
    "L"
   ]
  },
  {
   "cell_type": "markdown",
   "id": "b22311ac",
   "metadata": {},
   "source": [
    "### 81. How do you check if a list contains a value?"
   ]
  },
  {
   "cell_type": "code",
   "execution_count": 95,
   "id": "0982156b",
   "metadata": {},
   "outputs": [
    {
     "data": {
      "text/plain": [
       "True"
      ]
     },
     "execution_count": 95,
     "metadata": {},
     "output_type": "execute_result"
    }
   ],
   "source": [
    "# using 'in' operator\n",
    "100 in L"
   ]
  },
  {
   "cell_type": "markdown",
   "id": "3710379d",
   "metadata": {},
   "source": [
    "### 82. How do you combine two or more lists to create a larger list?"
   ]
  },
  {
   "cell_type": "code",
   "execution_count": 96,
   "id": "c9a07e8f",
   "metadata": {},
   "outputs": [
    {
     "data": {
      "text/plain": [
       "[1, 10, 180, 180, 100, 3000, 180, 90, 9]"
      ]
     },
     "execution_count": 96,
     "metadata": {},
     "output_type": "execute_result"
    }
   ],
   "source": [
    "# using '+' operator\n",
    "LL = [1, 10]+ L + [90, 9]\n",
    "LL"
   ]
  },
  {
   "cell_type": "markdown",
   "id": "71015a91",
   "metadata": {},
   "source": [
    "### 83. How do you create a copy of a list?"
   ]
  },
  {
   "cell_type": "code",
   "execution_count": 97,
   "id": "0cebd6ad",
   "metadata": {},
   "outputs": [
    {
     "data": {
      "text/plain": [
       "[180, 180, 100, 3000, 180]"
      ]
     },
     "execution_count": 97,
     "metadata": {},
     "output_type": "execute_result"
    }
   ],
   "source": [
    "# using .copy() method\n",
    "LC =L.copy()\n",
    "LC"
   ]
  },
  {
   "cell_type": "markdown",
   "id": "da2355e9",
   "metadata": {},
   "source": [
    "### 84. Does the expression `a_new_list = a_list` create a copy of the list `a_list`?\n",
    "> NO. Both `a_new_list` and `a_list refers` to the same memory location where only one copy of the list is stored."
   ]
  },
  {
   "cell_type": "markdown",
   "id": "a235cfbb",
   "metadata": {},
   "source": [
    "### 85. Where can you find the list of all the methods supported by lists?"
   ]
  },
  {
   "cell_type": "code",
   "execution_count": 98,
   "id": "6f705cbe",
   "metadata": {},
   "outputs": [
    {
     "name": "stdout",
     "output_type": "stream",
     "text": [
      "['__add__', '__class__', '__class_getitem__', '__contains__', '__delattr__', '__delitem__', '__dir__', '__doc__', '__eq__', '__format__', '__ge__', '__getattribute__', '__getitem__', '__gt__', '__hash__', '__iadd__', '__imul__', '__init__', '__init_subclass__', '__iter__', '__le__', '__len__', '__lt__', '__mul__', '__ne__', '__new__', '__reduce__', '__reduce_ex__', '__repr__', '__reversed__', '__rmul__', '__setattr__', '__setitem__', '__sizeof__', '__str__', '__subclasshook__', 'append', 'clear', 'copy', 'count', 'extend', 'index', 'insert', 'pop', 'remove', 'reverse', 'sort']\n"
     ]
    }
   ],
   "source": [
    "print(dir(list))"
   ]
  },
  {
   "cell_type": "markdown",
   "id": "b18e3993",
   "metadata": {},
   "source": [
    "### 86. What is a Tuple in Python?\n",
    "> A tuple is an ordered collection of values, created by enclosing values within parentheses ( and ), separated by commas."
   ]
  },
  {
   "cell_type": "markdown",
   "id": "606b13a0",
   "metadata": {},
   "source": [
    "### 87. How is a tuple different from a list?\n",
    "> * Tuple is immutable, while List are mutable\n",
    "> * They are created using paranthesis(), while list are created using square brackets[]\n",
    "> * Tuple is hashable, while List is not\n",
    "> * Tuple cannot be extended or appended to, unlike List"
   ]
  },
  {
   "cell_type": "markdown",
   "id": "0440ee4a",
   "metadata": {},
   "source": [
    "### 88. Can you add or remove elements in a tuple?\n",
    "> Noh., Tuples are immutable."
   ]
  },
  {
   "cell_type": "markdown",
   "id": "17062dc9",
   "metadata": {},
   "source": [
    "### 89. How do you create a tuple with just one element?"
   ]
  },
  {
   "cell_type": "code",
   "execution_count": 104,
   "id": "1f213ac3",
   "metadata": {},
   "outputs": [
    {
     "data": {
      "text/plain": [
       "(9,)"
      ]
     },
     "execution_count": 104,
     "metadata": {},
     "output_type": "execute_result"
    }
   ],
   "source": [
    "#  by typing a comma after a element enclosed in ()\n",
    "T1 = (9,)\n",
    "T1"
   ]
  },
  {
   "cell_type": "markdown",
   "id": "3a3404df",
   "metadata": {},
   "source": [
    "### 90. How do you convert a tuple to a list and vice versa?"
   ]
  },
  {
   "cell_type": "code",
   "execution_count": 106,
   "id": "da2b0a6e",
   "metadata": {},
   "outputs": [
    {
     "name": "stdout",
     "output_type": "stream",
     "text": [
      "[9]\n",
      "(180, 180, 100, 3000, 180)\n"
     ]
    }
   ],
   "source": [
    "# using list() function to convert tuple to list\n",
    "print(list(T1))\n",
    "\n",
    "# using tuple() function to convert list to tuple\n",
    "print(tuple(L))"
   ]
  },
  {
   "cell_type": "markdown",
   "id": "fa2bce4b",
   "metadata": {},
   "source": [
    "### 91. What are the `count` and `index` method of a Tuple used for?"
   ]
  },
  {
   "cell_type": "code",
   "execution_count": 110,
   "id": "ca7c5b5d",
   "metadata": {},
   "outputs": [
    {
     "name": "stdout",
     "output_type": "stream",
     "text": [
      "1\n",
      "0\n"
     ]
    }
   ],
   "source": [
    "# `.count()` - Return number of occurrences of value.\n",
    "print(T1.count(9))\n",
    "\n",
    "# '.index()' - Return index of element\n",
    "print(T1.index(9))"
   ]
  },
  {
   "cell_type": "markdown",
   "id": "6b5b650e",
   "metadata": {},
   "source": [
    "### 92. What is a dictionary in Python?\n",
    "> A disctionay in Python is a type of \"associative array\". It is an unordered collection of items. Each item stored in a dictionary has a key and value. Unlike sequences such as lists and tuples, in which the items are indexed by an integer starting at 0, each item in a dictionary is indexed by a unique key,"
   ]
  },
  {
   "cell_type": "markdown",
   "id": "a3adb969",
   "metadata": {},
   "source": [
    "### 93. How do you create a dictionary?\n",
    ">  Dictionaries are created by enclosing key-value pairs within braces or curly brackets { }."
   ]
  },
  {
   "cell_type": "code",
   "execution_count": 112,
   "id": "1971cf33",
   "metadata": {},
   "outputs": [],
   "source": [
    "#example\n",
    "height = {'Burj Khalifa': 828., \n",
    "          'One World Trade Center': 541.3,\n",
    "          'Mercury City Tower': -1., \n",
    "          'Q1':323.,\n",
    "          'Eiffel Tower': 324}"
   ]
  },
  {
   "cell_type": "markdown",
   "id": "14e42517",
   "metadata": {},
   "source": [
    "### 94. What are keys and values?\n",
    "> * `keys` are unique set of immutable hashable data used to index a `value`.\n",
    "> * `values` are mutable data associatied to a unique `key`"
   ]
  },
  {
   "cell_type": "markdown",
   "id": "c60b9cf3",
   "metadata": {},
   "source": [
    "### 95. How do you access the value associated with a specific key in a dictionary?\n",
    "> Keys can be used to access values using square brackets [ and ], in dictionary."
   ]
  },
  {
   "cell_type": "code",
   "execution_count": 115,
   "id": "df3facb1",
   "metadata": {},
   "outputs": [
    {
     "data": {
      "text/plain": [
       "323.0"
      ]
     },
     "execution_count": 115,
     "metadata": {},
     "output_type": "execute_result"
    }
   ],
   "source": [
    "# 'Q1' is index, 323 is value\n",
    "height['Q1']"
   ]
  },
  {
   "cell_type": "markdown",
   "id": "95fd8210",
   "metadata": {},
   "source": [
    "### 96. What happens if you try to access the value for a key that doesn't exist in a dictionary?\n",
    "> If a key isn't present in the dictionary, then a KeyError is thrown."
   ]
  },
  {
   "cell_type": "markdown",
   "id": "3226f13d",
   "metadata": {},
   "source": [
    "### 97. What is the `.get` method of a dictionary used for?\n",
    "> the `.get()` method is used to access the value associated with a key."
   ]
  },
  {
   "cell_type": "code",
   "execution_count": 120,
   "id": "f7906383",
   "metadata": {},
   "outputs": [
    {
     "data": {
      "text/plain": [
       "323.0"
      ]
     },
     "execution_count": 120,
     "metadata": {},
     "output_type": "execute_result"
    }
   ],
   "source": [
    "# example\n",
    "height.get('Q1')"
   ]
  },
  {
   "cell_type": "markdown",
   "id": "837e1635",
   "metadata": {},
   "source": [
    "### 98. How do you change the value associated with a key in a dictionary?"
   ]
  },
  {
   "cell_type": "code",
   "execution_count": 121,
   "id": "1f191604",
   "metadata": {},
   "outputs": [
    {
     "data": {
      "text/plain": [
       "320"
      ]
     },
     "execution_count": 121,
     "metadata": {},
     "output_type": "execute_result"
    }
   ],
   "source": [
    "# using assignment opertor\n",
    "height['Q1'] = 320\n",
    "height['Q1']"
   ]
  },
  {
   "cell_type": "markdown",
   "id": "535c5467",
   "metadata": {},
   "source": [
    "### 99. How do you add or remove a key-value pair in a dictionary?"
   ]
  },
  {
   "cell_type": "code",
   "execution_count": 122,
   "id": "ea459b48",
   "metadata": {},
   "outputs": [
    {
     "data": {
      "text/plain": [
       "{'Burj Khalifa': 828.0,\n",
       " 'One World Trade Center': 541.3,\n",
       " 'Q1': 320,\n",
       " 'Eiffel Tower': 324}"
      ]
     },
     "execution_count": 122,
     "metadata": {},
     "output_type": "execute_result"
    }
   ],
   "source": [
    "#using .pop() method\n",
    "height.pop('Mercury City Tower')\n",
    "height"
   ]
  },
  {
   "cell_type": "markdown",
   "id": "3a29f62a",
   "metadata": {},
   "source": [
    "### 100. How do you access the keys, values, and key-value pairs within a dictionary?"
   ]
  },
  {
   "cell_type": "code",
   "execution_count": 123,
   "id": "d7e45b2b",
   "metadata": {},
   "outputs": [
    {
     "name": "stdout",
     "output_type": "stream",
     "text": [
      "dict_keys(['Burj Khalifa', 'One World Trade Center', 'Q1', 'Eiffel Tower'])\n",
      "dict_values([828.0, 541.3, 320, 324])\n",
      "dict_items([('Burj Khalifa', 828.0), ('One World Trade Center', 541.3), ('Q1', 320), ('Eiffel Tower', 324)])\n"
     ]
    }
   ],
   "source": [
    "# access  the keys\n",
    "print(height.keys())\n",
    "\n",
    "# access  the values\n",
    "print(height.values())\n",
    "\n",
    "# access  the key-value pairs\n",
    "print(height.items())"
   ]
  }
 ],
 "metadata": {
  "kernelspec": {
   "display_name": "Python 3",
   "language": "python",
   "name": "python3"
  },
  "language_info": {
   "codemirror_mode": {
    "name": "ipython",
    "version": 3
   },
   "file_extension": ".py",
   "mimetype": "text/x-python",
   "name": "python",
   "nbconvert_exporter": "python",
   "pygments_lexer": "ipython3",
   "version": "3.9.0"
  }
 },
 "nbformat": 4,
 "nbformat_minor": 5
}
